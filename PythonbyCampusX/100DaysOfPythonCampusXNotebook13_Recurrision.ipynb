{
 "cells": [
  {
   "cell_type": "markdown",
   "id": "606e87b3",
   "metadata": {},
   "source": [
    "# Recurision"
   ]
  },
  {
   "cell_type": "code",
   "execution_count": 5,
   "id": "b0bebff6",
   "metadata": {},
   "outputs": [
    {
     "name": "stdout",
     "output_type": "stream",
     "text": [
      "12\n"
     ]
    }
   ],
   "source": [
    "# A function that calls itself\n",
    "# For example a* b is not available\n",
    "def multiply(a,b):\n",
    "    result =0\n",
    "    for i in range(b):\n",
    "        result = result+a\n",
    "    print(result)\n",
    "multiply(3,4)"
   ]
  },
  {
   "cell_type": "code",
   "execution_count": 10,
   "id": "6c968bca",
   "metadata": {},
   "outputs": [
    {
     "name": "stdout",
     "output_type": "stream",
     "text": [
      "12\n"
     ]
    }
   ],
   "source": [
    "# By using recursion \n",
    "def mul(a,b):\n",
    "    if b==1:\n",
    "        return a\n",
    "    else:\n",
    "        return a+ mul(a,b-1)\n",
    "print(mul(3,4))"
   ]
  },
  {
   "cell_type": "code",
   "execution_count": 12,
   "id": "33b0eb24",
   "metadata": {},
   "outputs": [
    {
     "name": "stdout",
     "output_type": "stream",
     "text": [
      "120\n"
     ]
    }
   ],
   "source": [
    "# Factorial by recursion\n",
    "def fact(num):\n",
    "    if num==1:\n",
    "        return 1\n",
    "    else:\n",
    "        return num *fact(num-1)\n",
    "print(fact(5))"
   ]
  },
  {
   "cell_type": "markdown",
   "id": "cfa59b67",
   "metadata": {},
   "source": [
    "# Palindrome"
   ]
  },
  {
   "cell_type": "code",
   "execution_count": 18,
   "id": "5753435b",
   "metadata": {},
   "outputs": [
    {
     "name": "stdout",
     "output_type": "stream",
     "text": [
      "palindrome\n"
     ]
    }
   ],
   "source": [
    "def palin(text):\n",
    "    if len(text)<=1:\n",
    "        print(\"palindrome\") \n",
    "    else:\n",
    "        if text[0]==text[-1]:\n",
    "            palin(text[1:-1])\n",
    "        else:\n",
    "            print(\"Not a palindrome\")\n",
    "palin(\"madam\")\n",
    "        "
   ]
  },
  {
   "cell_type": "code",
   "execution_count": 19,
   "id": "b874757e",
   "metadata": {},
   "outputs": [
    {
     "name": "stdout",
     "output_type": "stream",
     "text": [
      "Not a palindrome\n"
     ]
    }
   ],
   "source": [
    "palin(\"ahmed\")"
   ]
  },
  {
   "cell_type": "code",
   "execution_count": 20,
   "id": "ee77b6fb",
   "metadata": {},
   "outputs": [
    {
     "name": "stdout",
     "output_type": "stream",
     "text": [
      "Not a palindrome\n"
     ]
    }
   ],
   "source": [
    "palin(\"python\")"
   ]
  },
  {
   "cell_type": "code",
   "execution_count": 21,
   "id": "c297336a",
   "metadata": {},
   "outputs": [
    {
     "name": "stdout",
     "output_type": "stream",
     "text": [
      "palindrome\n"
     ]
    }
   ],
   "source": [
    "palin(\"abba\")"
   ]
  },
  {
   "cell_type": "markdown",
   "id": "319567c0",
   "metadata": {},
   "source": [
    "# The Rabit Problem"
   ]
  },
  {
   "cell_type": "code",
   "execution_count": 22,
   "id": "c8ef66e5",
   "metadata": {},
   "outputs": [
    {
     "data": {
      "text/plain": [
       "233"
      ]
     },
     "execution_count": 22,
     "metadata": {},
     "output_type": "execute_result"
    }
   ],
   "source": [
    "#The number of rabits after 1 years\n",
    "def fib(m):\n",
    "    if m==0 or m==1:\n",
    "        return 1\n",
    "    else:\n",
    "        return fib(m-1)+fib(m-2)\n",
    "fib(12)"
   ]
  },
  {
   "cell_type": "code",
   "execution_count": 23,
   "id": "d7d5c5cc",
   "metadata": {},
   "outputs": [
    {
     "data": {
      "text/plain": [
       "75025"
      ]
     },
     "execution_count": 23,
     "metadata": {},
     "output_type": "execute_result"
    }
   ],
   "source": [
    "fib(24)"
   ]
  },
  {
   "cell_type": "code",
   "execution_count": 24,
   "id": "51e52686",
   "metadata": {},
   "outputs": [
    {
     "data": {
      "text/plain": [
       "24157817"
      ]
     },
     "execution_count": 24,
     "metadata": {},
     "output_type": "execute_result"
    }
   ],
   "source": [
    "fib(36)"
   ]
  },
  {
   "cell_type": "markdown",
   "id": "deddd42c",
   "metadata": {},
   "source": [
    "# Memoization"
   ]
  },
  {
   "cell_type": "code",
   "execution_count": 35,
   "id": "e8109a81",
   "metadata": {},
   "outputs": [
    {
     "name": "stdout",
     "output_type": "stream",
     "text": [
      "7778742049\n",
      "0.0009970664978027344\n"
     ]
    }
   ],
   "source": [
    "import time\n",
    "def memo(m,d):\n",
    "    if m in d:\n",
    "        return d[m]\n",
    "    else:\n",
    "        d[m]=memo(m-1,d)+memo(m-2,d)\n",
    "        return d[m]\n",
    "start =time.time()\n",
    "d ={0:1,1:1}\n",
    "print(memo(48,d))\n",
    "print(time.time()-start)"
   ]
  },
  {
   "cell_type": "markdown",
   "id": "47f1eccf",
   "metadata": {},
   "source": [
    "# Power set"
   ]
  },
  {
   "cell_type": "code",
   "execution_count": 36,
   "id": "25545ae2",
   "metadata": {},
   "outputs": [],
   "source": [
    "s={1,2,3}"
   ]
  },
  {
   "cell_type": "code",
   "execution_count": 37,
   "id": "1d86d7dc",
   "metadata": {},
   "outputs": [
    {
     "name": "stdout",
     "output_type": "stream",
     "text": [
      "Power Set: [[1, 2, 3], [1, 2], [1, 3], [1], [2, 3], [2], [3], []]\n"
     ]
    }
   ],
   "source": [
    "def generate_power_set(s, index, current_set, result):\n",
    "    \"\"\"\n",
    "    Recursively generates the power set of a set 's'.\n",
    "\n",
    "    Parameters:\n",
    "    - s: The original set.\n",
    "    - index: Current index in the set.\n",
    "    - current_set: The current subset being constructed.\n",
    "    - result: The list to store the power set.\n",
    "\n",
    "    Returns:\n",
    "    None\n",
    "    \"\"\"\n",
    "    if index == len(s):\n",
    "        result.append(current_set[:])\n",
    "        return\n",
    "\n",
    "    # Include the current element in the subset\n",
    "    current_set.append(s[index])\n",
    "    generate_power_set(s, index + 1, current_set, result)\n",
    "\n",
    "    # Exclude the current element from the subset\n",
    "    current_set.pop()\n",
    "    generate_power_set(s, index + 1, current_set, result)\n",
    "\n",
    "\n",
    "# Example usage\n",
    "s = {1, 2, 3}\n",
    "result_set = []\n",
    "generate_power_set(list(s), 0, [], result_set)\n",
    "\n",
    "# Display the result\n",
    "print(\"Power Set:\", result_set)\n"
   ]
  },
  {
   "cell_type": "code",
   "execution_count": null,
   "id": "7b45945e",
   "metadata": {},
   "outputs": [],
   "source": []
  }
 ],
 "metadata": {
  "kernelspec": {
   "display_name": "Python 3 (ipykernel)",
   "language": "python",
   "name": "python3"
  },
  "language_info": {
   "codemirror_mode": {
    "name": "ipython",
    "version": 3
   },
   "file_extension": ".py",
   "mimetype": "text/x-python",
   "name": "python",
   "nbconvert_exporter": "python",
   "pygments_lexer": "ipython3",
   "version": "3.11.5"
  }
 },
 "nbformat": 4,
 "nbformat_minor": 5
}
