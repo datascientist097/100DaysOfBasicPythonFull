{
 "cells": [
  {
   "cell_type": "markdown",
   "id": "1dd2c13e",
   "metadata": {},
   "source": [
    "# Encapsulation"
   ]
  },
  {
   "cell_type": "code",
   "execution_count": 26,
   "id": "8d95fdeb",
   "metadata": {},
   "outputs": [],
   "source": [
    "class ATM:\n",
    "    #constructor\n",
    "    def __init__(self):\n",
    "        \n",
    "        self.__pin = \"\"\n",
    "        self.__balance = 0\n",
    "        \n",
    "        self.menu()\n",
    "    def menu(self):\n",
    "        user_input = input(\"\"\"\n",
    "                        Hello, How would You like to proceed?\n",
    "                        1. Enter 1 to creat pin\n",
    "                        2. Enter 2 to deposit\n",
    "                        3. Enter 3 to withdraw\n",
    "                        4. Enter 4 to check balance\n",
    "                        5. Enter 5 to exit\n",
    "\"\"\")\n",
    "        if user_input == '1':\n",
    "            self.create_pin()\n",
    "        elif user_input == '2':\n",
    "            self.deposit()\n",
    "        if user_input == '3':\n",
    "            self.withdraw()\n",
    "        elif user_input == '4':\n",
    "            self.check_amount()\n",
    "        else:\n",
    "            print(\"Thank You\")\n",
    "            \n",
    "    def get_pin(self):\n",
    "        return self.__pin\n",
    "    \n",
    "    def set_pin(self,new_pin):\n",
    "        if type(new_pin)==str:\n",
    "            \n",
    "            self.__pin = new_pin\n",
    "            print(\"Pin changed\")\n",
    "        else:\n",
    "            print(\"Not Allowed\")\n",
    "            \n",
    "    def create_pin(self):\n",
    "        self.__pin = input(\"Enter Your Pin\")\n",
    "        print(\"Pin created succesfully\")\n",
    "    \n",
    "    def deposit(self):\n",
    "        temp = input(\"Enter Your pin\")\n",
    "        if temp == self.__pin:\n",
    "            amount = int(input(\"Enter Amount to deposit\"))\n",
    "            self.__balance = self.__balance + amount\n",
    "            print(\"Deposit Successfully \")\n",
    "        else:\n",
    "            print(\"Invalid Pin\")\n",
    "    \n",
    "    def withdraw(self):\n",
    "        temp = input(\"Enter Your pin\")\n",
    "        if temp == self.__pin:\n",
    "            amount = int(input(\"Enter Amount to withdraw\"))\n",
    "            if amount < self.__balance:\n",
    "                self.__balance = self.__balance - amount\n",
    "                print(f\"Withdraw Successfully{amount}\")\n",
    "            else:\n",
    "                print(\"Insufficient Funds\")\n",
    "        else:\n",
    "            print(\"Invalid Pin\")\n",
    "    \n",
    "    def check_amount(self):\n",
    "        temp = input(\"Enter Your pin\")\n",
    "        if temp == self.__pin:\n",
    "            print(self.__balance)\n",
    "        else:\n",
    "            print(\"Invalid Pin\")"
   ]
  },
  {
   "cell_type": "code",
   "execution_count": 27,
   "id": "69f07282",
   "metadata": {},
   "outputs": [
    {
     "name": "stdout",
     "output_type": "stream",
     "text": [
      "\n",
      "                        Hello, How would You like to proceed?\n",
      "                        1. Enter 1 to creat pin\n",
      "                        2. Enter 2 to deposit\n",
      "                        3. Enter 3 to withdraw\n",
      "                        4. Enter 4 to check balance\n",
      "                        5. Enter 5 to exit\n",
      "1\n",
      "Enter Your Pin1234\n",
      "Pin created succesfully\n",
      "Thank You\n"
     ]
    }
   ],
   "source": [
    "ahm = ATM()"
   ]
  },
  {
   "cell_type": "code",
   "execution_count": 5,
   "id": "e43a64cd",
   "metadata": {},
   "outputs": [],
   "source": [
    "ahm._ATM__balance=\"Ahmed\""
   ]
  },
  {
   "cell_type": "code",
   "execution_count": 6,
   "id": "5decd0af",
   "metadata": {},
   "outputs": [
    {
     "name": "stdout",
     "output_type": "stream",
     "text": [
      "Enter Your pin1234\n",
      "Enter Amount to deposit3000\n"
     ]
    },
    {
     "ename": "TypeError",
     "evalue": "can only concatenate str (not \"int\") to str",
     "output_type": "error",
     "traceback": [
      "\u001b[1;31m---------------------------------------------------------------------------\u001b[0m",
      "\u001b[1;31mTypeError\u001b[0m                                 Traceback (most recent call last)",
      "Cell \u001b[1;32mIn[6], line 1\u001b[0m\n\u001b[1;32m----> 1\u001b[0m \u001b[43mahm\u001b[49m\u001b[38;5;241;43m.\u001b[39;49m\u001b[43mdeposit\u001b[49m\u001b[43m(\u001b[49m\u001b[43m)\u001b[49m\n",
      "Cell \u001b[1;32mIn[3], line 37\u001b[0m, in \u001b[0;36mATM.deposit\u001b[1;34m(self)\u001b[0m\n\u001b[0;32m     35\u001b[0m \u001b[38;5;28;01mif\u001b[39;00m temp \u001b[38;5;241m==\u001b[39m \u001b[38;5;28mself\u001b[39m\u001b[38;5;241m.\u001b[39m__pin:\n\u001b[0;32m     36\u001b[0m     amount \u001b[38;5;241m=\u001b[39m \u001b[38;5;28mint\u001b[39m(\u001b[38;5;28minput\u001b[39m(\u001b[38;5;124m\"\u001b[39m\u001b[38;5;124mEnter Amount to deposit\u001b[39m\u001b[38;5;124m\"\u001b[39m))\n\u001b[1;32m---> 37\u001b[0m     \u001b[38;5;28mself\u001b[39m\u001b[38;5;241m.\u001b[39m__balance \u001b[38;5;241m=\u001b[39m \u001b[38;5;28;43mself\u001b[39;49m\u001b[38;5;241;43m.\u001b[39;49m\u001b[43m__balance\u001b[49m\u001b[43m \u001b[49m\u001b[38;5;241;43m+\u001b[39;49m\u001b[43m \u001b[49m\u001b[43mamount\u001b[49m\n\u001b[0;32m     38\u001b[0m     \u001b[38;5;28mprint\u001b[39m(\u001b[38;5;124m\"\u001b[39m\u001b[38;5;124mDeposit Successfully \u001b[39m\u001b[38;5;124m\"\u001b[39m)\n\u001b[0;32m     39\u001b[0m \u001b[38;5;28;01melse\u001b[39;00m:\n",
      "\u001b[1;31mTypeError\u001b[0m: can only concatenate str (not \"int\") to str"
     ]
    }
   ],
   "source": [
    "ahm.deposit()"
   ]
  },
  {
   "cell_type": "code",
   "execution_count": 7,
   "id": "36e97b62",
   "metadata": {},
   "outputs": [],
   "source": [
    "#Nothing is truly private in python"
   ]
  },
  {
   "cell_type": "code",
   "execution_count": 28,
   "id": "0c7895e4",
   "metadata": {},
   "outputs": [
    {
     "data": {
      "text/plain": [
       "'1234'"
      ]
     },
     "execution_count": 28,
     "metadata": {},
     "output_type": "execute_result"
    }
   ],
   "source": [
    "ahm.get_pin()"
   ]
  },
  {
   "cell_type": "code",
   "execution_count": 31,
   "id": "7f638219",
   "metadata": {},
   "outputs": [
    {
     "name": "stdout",
     "output_type": "stream",
     "text": [
      "Pin changed\n"
     ]
    }
   ],
   "source": [
    "ahm.set_pin(\"Ahmed\")"
   ]
  },
  {
   "cell_type": "code",
   "execution_count": 32,
   "id": "d1588296",
   "metadata": {},
   "outputs": [
    {
     "data": {
      "text/plain": [
       "'Ahmed'"
      ]
     },
     "execution_count": 32,
     "metadata": {},
     "output_type": "execute_result"
    }
   ],
   "source": [
    "ahm.get_pin()"
   ]
  },
  {
   "cell_type": "markdown",
   "id": "5b344f17",
   "metadata": {},
   "source": [
    "# reference variable"
   ]
  },
  {
   "cell_type": "code",
   "execution_count": 48,
   "id": "9455d854",
   "metadata": {},
   "outputs": [
    {
     "name": "stdout",
     "output_type": "stream",
     "text": [
      "Ahmed\n"
     ]
    }
   ],
   "source": [
    "class customer:\n",
    "    \n",
    "    def __init__(self,name,gender):\n",
    "        self.name = name\n",
    "        self.gender = gender\n",
    "    \n",
    "    #Greet\n",
    "def greet(customer):\n",
    "    if customer.gender == \"Male\":\n",
    "        print(\"Hello\",customer.name,\"Sir\")\n",
    "    else:\n",
    "        print(\"Hello\",customer.name,\"Mam\")\n",
    "    cust2= customer(\"Alia\",\"Female\")\n",
    "    return cust2\n",
    "cust = customer(\"Ahmed\",\"Male\")\n",
    "print(cust.name)"
   ]
  },
  {
   "cell_type": "code",
   "execution_count": 54,
   "id": "7803ac82",
   "metadata": {},
   "outputs": [
    {
     "name": "stdout",
     "output_type": "stream",
     "text": [
      "Hello Ahmed Sir\n"
     ]
    },
    {
     "ename": "TypeError",
     "evalue": "'customer' object is not callable",
     "output_type": "error",
     "traceback": [
      "\u001b[1;31m---------------------------------------------------------------------------\u001b[0m",
      "\u001b[1;31mTypeError\u001b[0m                                 Traceback (most recent call last)",
      "Cell \u001b[1;32mIn[54], line 1\u001b[0m\n\u001b[1;32m----> 1\u001b[0m new_cust \u001b[38;5;241m=\u001b[39m \u001b[43mgreet\u001b[49m\u001b[43m(\u001b[49m\u001b[43mcust\u001b[49m\u001b[43m)\u001b[49m\n\u001b[0;32m      2\u001b[0m \u001b[38;5;28mprint\u001b[39m(new_cust\u001b[38;5;241m.\u001b[39mname)\n",
      "Cell \u001b[1;32mIn[48], line 13\u001b[0m, in \u001b[0;36mgreet\u001b[1;34m(customer)\u001b[0m\n\u001b[0;32m     11\u001b[0m \u001b[38;5;28;01melse\u001b[39;00m:\n\u001b[0;32m     12\u001b[0m     \u001b[38;5;28mprint\u001b[39m(\u001b[38;5;124m\"\u001b[39m\u001b[38;5;124mHello\u001b[39m\u001b[38;5;124m\"\u001b[39m,customer\u001b[38;5;241m.\u001b[39mname,\u001b[38;5;124m\"\u001b[39m\u001b[38;5;124mMam\u001b[39m\u001b[38;5;124m\"\u001b[39m)\n\u001b[1;32m---> 13\u001b[0m cust2\u001b[38;5;241m=\u001b[39m \u001b[43mcustomer\u001b[49m\u001b[43m(\u001b[49m\u001b[38;5;124;43m\"\u001b[39;49m\u001b[38;5;124;43mAlia\u001b[39;49m\u001b[38;5;124;43m\"\u001b[39;49m\u001b[43m,\u001b[49m\u001b[38;5;124;43m\"\u001b[39;49m\u001b[38;5;124;43mFemale\u001b[39;49m\u001b[38;5;124;43m\"\u001b[39;49m\u001b[43m)\u001b[49m\n\u001b[0;32m     14\u001b[0m \u001b[38;5;28;01mreturn\u001b[39;00m cust2\n",
      "\u001b[1;31mTypeError\u001b[0m: 'customer' object is not callable"
     ]
    }
   ],
   "source": [
    "new_cust = greet(cust)\n",
    "print(new_cust.name)"
   ]
  },
  {
   "cell_type": "code",
   "execution_count": 74,
   "id": "06b0919e",
   "metadata": {},
   "outputs": [
    {
     "name": "stdout",
     "output_type": "stream",
     "text": [
      "2587120333520\n"
     ]
    }
   ],
   "source": [
    "class customer:\n",
    "    \n",
    "    def __init__(self,name):\n",
    "        self.name = name\n",
    "    \n",
    "    #Greet\n",
    "def greet(customer):\n",
    "    #print(id(customer))\n",
    "    customer.name=\"Ali\"\n",
    "    print(customer.name)\n",
    "cust = customer(\"Ahmed\")\n",
    "print(id(cust))"
   ]
  },
  {
   "cell_type": "code",
   "execution_count": 75,
   "id": "45813d64",
   "metadata": {},
   "outputs": [
    {
     "name": "stdout",
     "output_type": "stream",
     "text": [
      "Ali\n"
     ]
    }
   ],
   "source": [
    "greet(cust)"
   ]
  },
  {
   "cell_type": "code",
   "execution_count": 77,
   "id": "9b75432d",
   "metadata": {},
   "outputs": [
    {
     "name": "stdout",
     "output_type": "stream",
     "text": [
      "Ali\n"
     ]
    }
   ],
   "source": [
    "print(cust.name)"
   ]
  },
  {
   "cell_type": "code",
   "execution_count": 78,
   "id": "24bebbee",
   "metadata": {},
   "outputs": [],
   "source": [
    "#class objects are also mutable"
   ]
  },
  {
   "cell_type": "markdown",
   "id": "870df900",
   "metadata": {},
   "source": [
    "# collection of objects"
   ]
  },
  {
   "cell_type": "code",
   "execution_count": 82,
   "id": "a3ebafb7",
   "metadata": {},
   "outputs": [
    {
     "name": "stdout",
     "output_type": "stream",
     "text": [
      "im Ahmed My age is 22\n",
      "im Ali My age is 23\n",
      "im Raja My age is 21\n"
     ]
    }
   ],
   "source": [
    "class customer:\n",
    "    \n",
    "    def __init__(self,name,age):\n",
    "        self.name= name\n",
    "        self.age =age\n",
    "    def intro_self(self):\n",
    "        print(\"im\",self.name,\"My age is\",self.age)\n",
    "c1 = customer(\"Ahmed\", 22)\n",
    "c2 = customer(\"Ali\", 23)\n",
    "c3 = customer(\"Raja\", 21)\n",
    "\n",
    "L=[c1,c2,c3]\n",
    "\n",
    "for i in L:\n",
    "    i.intro_self()\n",
    "        \n",
    "        "
   ]
  },
  {
   "cell_type": "markdown",
   "id": "84dfa62d",
   "metadata": {},
   "source": [
    "# static variable"
   ]
  },
  {
   "cell_type": "code",
   "execution_count": 95,
   "id": "e924d2b2",
   "metadata": {},
   "outputs": [],
   "source": [
    "class ATM:\n",
    "    #constructor\n",
    "    __counter = 1\n",
    "    def __init__(self):\n",
    "        #instance var always come inside constructor\n",
    "        self.__pin = \"\"\n",
    "        self.__balance = 0\n",
    "        self.sno= ATM.counter\n",
    "        ATM.__counter =ATM.__counter+1\n",
    "        \n",
    "        self.menu()\n",
    "    def menu(self):\n",
    "        user_input = input(\"\"\"\n",
    "                        Hello, How would You like to proceed?\n",
    "                        1. Enter 1 to creat pin\n",
    "                        2. Enter 2 to deposit\n",
    "                        3. Enter 3 to withdraw\n",
    "                        4. Enter 4 to check balance\n",
    "                        5. Enter 5 to exit\n",
    "\"\"\")\n",
    "        if user_input == '1':\n",
    "            self.create_pin()\n",
    "        elif user_input == '2':\n",
    "            self.deposit()\n",
    "        if user_input == '3':\n",
    "            self.withdraw()\n",
    "        elif user_input == '4':\n",
    "            self.check_amount()\n",
    "        else:\n",
    "            print(\"Thank You\")\n",
    "    @staticmethod\n",
    "    def get_counter():\n",
    "        return ATM.__counter\n",
    "    def set_counter(new):\n",
    "        if type(new)==int:\n",
    "            ATM.__counter= new\n",
    "        else:\n",
    "            print(\"Not Allowed\")\n",
    "            \n",
    "    def get_pin(self):\n",
    "        return self.__pin\n",
    "    \n",
    "    def set_pin(self,new_pin):\n",
    "        if type(new_pin)==str:\n",
    "            \n",
    "            self.__pin = new_pin\n",
    "            print(\"Pin changed\")\n",
    "        else:\n",
    "            print(\"Not Allowed\")\n",
    "            \n",
    "    def create_pin(self):\n",
    "        self.__pin = input(\"Enter Your Pin\")\n",
    "        print(\"Pin created succesfully\")\n",
    "    \n",
    "    def deposit(self):\n",
    "        temp = input(\"Enter Your pin\")\n",
    "        if temp == self.__pin:\n",
    "            amount = int(input(\"Enter Amount to deposit\"))\n",
    "            self.__balance = self.__balance + amount\n",
    "            print(\"Deposit Successfully \")\n",
    "        else:\n",
    "            print(\"Invalid Pin\")\n",
    "    \n",
    "    def withdraw(self):\n",
    "        temp = input(\"Enter Your pin\")\n",
    "        if temp == self.__pin:\n",
    "            amount = int(input(\"Enter Amount to withdraw\"))\n",
    "            if amount < self.__balance:\n",
    "                self.__balance = self.__balance - amount\n",
    "                print(f\"Withdraw Successfully{amount}\")\n",
    "            else:\n",
    "                print(\"Insufficient Funds\")\n",
    "        else:\n",
    "            print(\"Invalid Pin\")\n",
    "    \n",
    "    def check_amount(self):\n",
    "        temp = input(\"Enter Your pin\")\n",
    "        if temp == self.__pin:\n",
    "            print(self.__balance)\n",
    "        else:\n",
    "            print(\"Invalid Pin\")"
   ]
  },
  {
   "cell_type": "code",
   "execution_count": 96,
   "id": "547585c4",
   "metadata": {},
   "outputs": [
    {
     "data": {
      "text/plain": [
       "1"
      ]
     },
     "execution_count": 96,
     "metadata": {},
     "output_type": "execute_result"
    }
   ],
   "source": [
    "ATM.get_counter()"
   ]
  },
  {
   "cell_type": "code",
   "execution_count": 99,
   "id": "75a46998",
   "metadata": {},
   "outputs": [],
   "source": [
    "ATM.set_counter(5)"
   ]
  },
  {
   "cell_type": "code",
   "execution_count": 100,
   "id": "e3d109e7",
   "metadata": {},
   "outputs": [
    {
     "data": {
      "text/plain": [
       "5"
      ]
     },
     "execution_count": 100,
     "metadata": {},
     "output_type": "execute_result"
    }
   ],
   "source": [
    "ATM.get_counter()"
   ]
  },
  {
   "cell_type": "markdown",
   "id": "137574e2",
   "metadata": {},
   "source": [
    "# Aggregation and Inheritence"
   ]
  },
  {
   "cell_type": "code",
   "execution_count": 101,
   "id": "4e15a37e",
   "metadata": {},
   "outputs": [],
   "source": [
    "# Has a relationship aggregation\n",
    "# Inheritance is a relationship"
   ]
  },
  {
   "cell_type": "code",
   "execution_count": 102,
   "id": "32d0433d",
   "metadata": {},
   "outputs": [],
   "source": [
    "# Aggregation"
   ]
  },
  {
   "cell_type": "code",
   "execution_count": 116,
   "id": "42bcf458",
   "metadata": {},
   "outputs": [
    {
     "name": "stdout",
     "output_type": "stream",
     "text": [
      "<__main__.Address object at 0x0000025A5C7CB550>\n"
     ]
    }
   ],
   "source": [
    "class Customer:\n",
    "    def __init__(self,name,gender,address):\n",
    "        self.name = name\n",
    "        self.gender = gender\n",
    "        self.address = address\n",
    "    \n",
    "    def edit_profile(self,new_name,new_city,new_pincode,new_state):\n",
    "        self.name = new_name\n",
    "        self.address.change_add(new_city,new_pincode,new_state)\n",
    "class Address:\n",
    "    def __init__(self,city,pincode,state):\n",
    "        self.city = city\n",
    "        self.pincode = pincode\n",
    "        self.state = state\n",
    "    \n",
    "    def change_add(self,new_city,new_pincode,new_state):\n",
    "        self.city = new_city\n",
    "        self.pincode = new_pincode\n",
    "        self.state = new_state\n",
    "        \n",
    "add = Address(\"khuiratta\",11200,\"Kashmir\")\n",
    "cust = Customer(\"Ahmed\",\"Male\",add)\n",
    "print(cust.address)"
   ]
  },
  {
   "cell_type": "code",
   "execution_count": 124,
   "id": "522c3e6d",
   "metadata": {},
   "outputs": [
    {
     "name": "stdout",
     "output_type": "stream",
     "text": [
      "Kotli\n"
     ]
    }
   ],
   "source": [
    "print(cust.address.city)"
   ]
  },
  {
   "cell_type": "code",
   "execution_count": 125,
   "id": "2ea542c4",
   "metadata": {},
   "outputs": [
    {
     "name": "stdout",
     "output_type": "stream",
     "text": [
      "12001\n"
     ]
    }
   ],
   "source": [
    "print(cust.address.pincode)"
   ]
  },
  {
   "cell_type": "code",
   "execution_count": 126,
   "id": "11eabdf9",
   "metadata": {},
   "outputs": [
    {
     "name": "stdout",
     "output_type": "stream",
     "text": [
      "J&K\n"
     ]
    }
   ],
   "source": [
    "print(cust.address.state)"
   ]
  },
  {
   "cell_type": "code",
   "execution_count": 118,
   "id": "04c6437f",
   "metadata": {},
   "outputs": [],
   "source": [
    "cust.edit_profile(\"Ahmed\",\"Kotli\",12001,\"J&K\")"
   ]
  },
  {
   "cell_type": "code",
   "execution_count": 119,
   "id": "68089a2f",
   "metadata": {},
   "outputs": [
    {
     "name": "stdout",
     "output_type": "stream",
     "text": [
      "12001\n"
     ]
    }
   ],
   "source": [
    "print(cust.address.pincode)"
   ]
  },
  {
   "cell_type": "code",
   "execution_count": 122,
   "id": "67a3f53a",
   "metadata": {},
   "outputs": [
    {
     "name": "stdout",
     "output_type": "stream",
     "text": [
      "J&K\n"
     ]
    }
   ],
   "source": [
    "print(cust.address.state)"
   ]
  },
  {
   "cell_type": "code",
   "execution_count": 123,
   "id": "3ba14556",
   "metadata": {},
   "outputs": [
    {
     "name": "stdout",
     "output_type": "stream",
     "text": [
      "Kotli\n"
     ]
    }
   ],
   "source": [
    "print(cust.address.city)"
   ]
  },
  {
   "cell_type": "markdown",
   "id": "eccc0eca",
   "metadata": {},
   "source": [
    "# Inheritence"
   ]
  },
  {
   "cell_type": "code",
   "execution_count": 127,
   "id": "7c46dec6",
   "metadata": {},
   "outputs": [],
   "source": [
    "class user:\n",
    "    def register(self):\n",
    "        print(\"Register\")\n",
    "    def login(self):\n",
    "        print(\"Login\")\n",
    "    \n",
    "class student(user): #inheritence\n",
    "    \n",
    "    def enroll(self):\n",
    "        print(\"Enroll\")\n",
    "    def review(self):\n",
    "        print(\"Review\")"
   ]
  },
  {
   "cell_type": "code",
   "execution_count": 128,
   "id": "b3c5c0bf",
   "metadata": {},
   "outputs": [],
   "source": [
    "st1 = student()"
   ]
  },
  {
   "cell_type": "code",
   "execution_count": 129,
   "id": "e497f93a",
   "metadata": {},
   "outputs": [
    {
     "name": "stdout",
     "output_type": "stream",
     "text": [
      "Register\n"
     ]
    }
   ],
   "source": [
    "st1.register()"
   ]
  },
  {
   "cell_type": "code",
   "execution_count": 130,
   "id": "473b70ef",
   "metadata": {},
   "outputs": [],
   "source": [
    "# reverse inheritence is not possible"
   ]
  },
  {
   "cell_type": "markdown",
   "id": "14245f9f",
   "metadata": {},
   "source": [
    "### Inheriting a constructor"
   ]
  },
  {
   "cell_type": "code",
   "execution_count": 139,
   "id": "3a02a4cf",
   "metadata": {},
   "outputs": [
    {
     "name": "stdout",
     "output_type": "stream",
     "text": [
      "inside constructor\n"
     ]
    }
   ],
   "source": [
    "class Phone:\n",
    "    def __init__(self,price,brand,camera):\n",
    "        print(\"inside constructor\")\n",
    "        self.price = price\n",
    "        self.brand = brand\n",
    "        self.camera = camera\n",
    "    def buy(self):\n",
    "        print(\"Buying a phone\")\n",
    "    def return_phone(self):\n",
    "        print(\"Returning a phone\")\n",
    "class FeaturePhone(Phone):\n",
    "    pass\n",
    "class SmartPhone(Phone):\n",
    "    def buy(self):\n",
    "        print(\"Buying a smart phone\")\n",
    "s=SmartPhone(2000,\"Apple\",13)\n",
    "    "
   ]
  },
  {
   "cell_type": "code",
   "execution_count": 140,
   "id": "04de2462",
   "metadata": {},
   "outputs": [
    {
     "data": {
      "text/plain": [
       "'Apple'"
      ]
     },
     "execution_count": 140,
     "metadata": {},
     "output_type": "execute_result"
    }
   ],
   "source": [
    "s.brand"
   ]
  },
  {
   "cell_type": "code",
   "execution_count": 141,
   "id": "9db8d0d3",
   "metadata": {},
   "outputs": [
    {
     "name": "stdout",
     "output_type": "stream",
     "text": [
      "Buying a smart phone\n"
     ]
    }
   ],
   "source": [
    "s.buy() #method overriding -> polymorphism "
   ]
  },
  {
   "cell_type": "code",
   "execution_count": 143,
   "id": "259817f5",
   "metadata": {},
   "outputs": [
    {
     "name": "stdout",
     "output_type": "stream",
     "text": [
      "100\n",
      "This is a child class\n"
     ]
    }
   ],
   "source": [
    "class Parent:\n",
    "    def __init__(self,num):\n",
    "        self.__num = num\n",
    "    def get_num(self):\n",
    "        return self.__num\n",
    "class child(Parent):\n",
    "    \n",
    "    def show(self):\n",
    "        print(\"This is a child class\")\n",
    "son = child(100)\n",
    "print(son.get_num())\n",
    "son.show()"
   ]
  },
  {
   "cell_type": "code",
   "execution_count": 148,
   "id": "1feeb451",
   "metadata": {},
   "outputs": [
    {
     "name": "stdout",
     "output_type": "stream",
     "text": [
      "Paret:num: 100\n"
     ]
    }
   ],
   "source": [
    "class Parent:\n",
    "    \n",
    "    def __init__(self,num,value):\n",
    "        self.__num = num\n",
    "        \n",
    "    def get_num(self):\n",
    "        return self.__num\n",
    "    \n",
    "class Child(Parent):\n",
    "    \n",
    "    def show(self,val,num):\n",
    "        self.__value = val\n",
    "    def get_val(self):\n",
    "        return self.__value\n",
    "son = Child(100,10)\n",
    "print(\"Paret:num:\",son.get_num())\n",
    "\n"
   ]
  },
  {
   "cell_type": "markdown",
   "id": "057f5701",
   "metadata": {},
   "source": [
    "# Use of Super"
   ]
  },
  {
   "cell_type": "code",
   "execution_count": 151,
   "id": "11a6dbcc",
   "metadata": {},
   "outputs": [
    {
     "name": "stdout",
     "output_type": "stream",
     "text": [
      "inside constructor\n",
      "Buying a Smart Phone\n",
      "Buying a Phone\n"
     ]
    }
   ],
   "source": [
    "class Phone:\n",
    "    def __init__(self,price,brand,camera):\n",
    "        print(\"inside constructor\")\n",
    "        self.price = price\n",
    "        self.brand = brand\n",
    "        self.camera = camera\n",
    "    def buy(self):\n",
    "        print(\"Buying a Phone\")\n",
    "class SmartPhone(Phone):\n",
    "    def buy(self):\n",
    "        print(\"Buying a Smart Phone\")\n",
    "        super().buy()\n",
    "s= SmartPhone(2000,\"Apple\",15)\n",
    "s.buy()\n",
    "        \n",
    "    "
   ]
  },
  {
   "cell_type": "markdown",
   "id": "7151f4b6",
   "metadata": {},
   "source": [
    "1. Single level Inheritance <br>\n",
    "2. Multi level Inheritance  <br>\n",
    "3. Hireracial Inheritance <br>\n",
    "4. Multiple Inheritance Not in Java in Python<br>\n",
    "5. Hybrid Inheritance "
   ]
  },
  {
   "cell_type": "code",
   "execution_count": 153,
   "id": "6acc7898",
   "metadata": {},
   "outputs": [
    {
     "ename": "SyntaxError",
     "evalue": "incomplete input (1580108768.py, line 2)",
     "output_type": "error",
     "traceback": [
      "\u001b[1;36m  Cell \u001b[1;32mIn[153], line 2\u001b[1;36m\u001b[0m\n\u001b[1;33m    class Sphone(product,Phone):\u001b[0m\n\u001b[1;37m                                ^\u001b[0m\n\u001b[1;31mSyntaxError\u001b[0m\u001b[1;31m:\u001b[0m incomplete input\n"
     ]
    }
   ],
   "source": [
    "# Method Resolution Order (MRO)\n",
    "class Sphone(product,Phone):"
   ]
  },
  {
   "cell_type": "markdown",
   "id": "e7a4c9f5",
   "metadata": {},
   "source": [
    "# Polymorphism "
   ]
  },
  {
   "cell_type": "markdown",
   "id": "d817ca8a",
   "metadata": {},
   "source": [
    "1. Method overloading"
   ]
  },
  {
   "cell_type": "code",
   "execution_count": 157,
   "id": "203a1771",
   "metadata": {},
   "outputs": [
    {
     "ename": "TypeError",
     "evalue": "GeoMetry.Area() missing 1 required positional argument: 'b'",
     "output_type": "error",
     "traceback": [
      "\u001b[1;31m---------------------------------------------------------------------------\u001b[0m",
      "\u001b[1;31mTypeError\u001b[0m                                 Traceback (most recent call last)",
      "Cell \u001b[1;32mIn[157], line 8\u001b[0m\n\u001b[0;32m      6\u001b[0m         \u001b[38;5;28;01mreturn\u001b[39;00m L\u001b[38;5;241m*\u001b[39mb\n\u001b[0;32m      7\u001b[0m obj \u001b[38;5;241m=\u001b[39m GeoMetry()\n\u001b[1;32m----> 8\u001b[0m \u001b[38;5;28mprint\u001b[39m(\u001b[43mobj\u001b[49m\u001b[38;5;241;43m.\u001b[39;49m\u001b[43mArea\u001b[49m\u001b[43m(\u001b[49m\u001b[38;5;241;43m4\u001b[39;49m\u001b[43m)\u001b[49m)\n",
      "\u001b[1;31mTypeError\u001b[0m: GeoMetry.Area() missing 1 required positional argument: 'b'"
     ]
    }
   ],
   "source": [
    "class GeoMetry:\n",
    "    \n",
    "    def Area(self,radius):\n",
    "        return 3.14 * radius * radius\n",
    "    def Area(self,L,b):\n",
    "        return L*b\n",
    "obj = GeoMetry()\n",
    "print(obj.Area(4))"
   ]
  },
  {
   "cell_type": "code",
   "execution_count": 159,
   "id": "f50b89f1",
   "metadata": {},
   "outputs": [
    {
     "name": "stdout",
     "output_type": "stream",
     "text": [
      "20\n"
     ]
    }
   ],
   "source": [
    "class GeoMetry:\n",
    "    \n",
    "    def Area(self,radius):\n",
    "        return 3.14 * radius * radius\n",
    "    def Area(self,L,b):\n",
    "        return L*b\n",
    "obj = GeoMetry()\n",
    "print(obj.Area(4,5))"
   ]
  },
  {
   "cell_type": "markdown",
   "id": "ce6c6a2d",
   "metadata": {},
   "source": [
    "# Operator overloading"
   ]
  },
  {
   "cell_type": "code",
   "execution_count": null,
   "id": "08807cdf",
   "metadata": {},
   "outputs": [],
   "source": []
  }
 ],
 "metadata": {
  "kernelspec": {
   "display_name": "Python 3 (ipykernel)",
   "language": "python",
   "name": "python3"
  },
  "language_info": {
   "codemirror_mode": {
    "name": "ipython",
    "version": 3
   },
   "file_extension": ".py",
   "mimetype": "text/x-python",
   "name": "python",
   "nbconvert_exporter": "python",
   "pygments_lexer": "ipython3",
   "version": "3.11.5"
  }
 },
 "nbformat": 4,
 "nbformat_minor": 5
}
