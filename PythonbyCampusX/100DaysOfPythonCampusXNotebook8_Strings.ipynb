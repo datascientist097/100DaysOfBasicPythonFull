{
 "cells": [
  {
   "cell_type": "markdown",
   "id": "7aa3fd67",
   "metadata": {},
   "source": [
    "# Strings"
   ]
  },
  {
   "cell_type": "markdown",
   "id": "5da5773d",
   "metadata": {},
   "source": [
    "strings are sequence of chracters <br>\n",
    "In python strings are sequnce of uni code characters <br>\n",
    "<b>\n",
    "Creating <br>\n",
    "Accessing <br>\n",
    "Adding char to strings <br>\n",
    "deleting <br>\n",
    "Operations on os <br>\n",
    "string functions <br>"
   ]
  },
  {
   "cell_type": "code",
   "execution_count": 1,
   "id": "390e039a",
   "metadata": {},
   "outputs": [
    {
     "name": "stdout",
     "output_type": "stream",
     "text": [
      "Hello\n"
     ]
    }
   ],
   "source": [
    "#How to create strings\n",
    "c= \"Hello\"\n",
    "print(c)"
   ]
  },
  {
   "cell_type": "code",
   "execution_count": 2,
   "id": "3b7e3f47",
   "metadata": {},
   "outputs": [
    {
     "data": {
      "text/plain": [
       "\"it's raining outside\""
      ]
     },
     "execution_count": 2,
     "metadata": {},
     "output_type": "execute_result"
    }
   ],
   "source": [
    "\"it's raining outside\""
   ]
  },
  {
   "cell_type": "code",
   "execution_count": 4,
   "id": "4bfe7507",
   "metadata": {},
   "outputs": [
    {
     "data": {
      "text/plain": [
       "'Hello'"
      ]
     },
     "execution_count": 4,
     "metadata": {},
     "output_type": "execute_result"
    }
   ],
   "source": [
    "#Multiline strings\n",
    "'''Hello'''"
   ]
  },
  {
   "cell_type": "code",
   "execution_count": 5,
   "id": "39157dde",
   "metadata": {},
   "outputs": [
    {
     "data": {
      "text/plain": [
       "'Hi How are You\\nMy name is Ahmed\\n'"
      ]
     },
     "execution_count": 5,
     "metadata": {},
     "output_type": "execute_result"
    }
   ],
   "source": [
    "\"\"\"Hi How are You\n",
    "My name is Ahmed\n",
    "\"\"\""
   ]
  },
  {
   "cell_type": "markdown",
   "id": "80d1e511",
   "metadata": {},
   "source": [
    "# Accessing sub-strings from string indexing and  slicing"
   ]
  },
  {
   "cell_type": "code",
   "execution_count": 6,
   "id": "88adb9f4",
   "metadata": {},
   "outputs": [
    {
     "name": "stdout",
     "output_type": "stream",
     "text": [
      "Hello\n"
     ]
    }
   ],
   "source": [
    "c = \"Hello\"\n",
    "print(c)"
   ]
  },
  {
   "cell_type": "code",
   "execution_count": 7,
   "id": "b8d717f2",
   "metadata": {},
   "outputs": [
    {
     "name": "stdout",
     "output_type": "stream",
     "text": [
      "H\n"
     ]
    }
   ],
   "source": [
    "#concept of indexing\n",
    "print(c[0])"
   ]
  },
  {
   "cell_type": "code",
   "execution_count": 8,
   "id": "91821485",
   "metadata": {},
   "outputs": [
    {
     "name": "stdout",
     "output_type": "stream",
     "text": [
      "l\n"
     ]
    }
   ],
   "source": [
    "print(c[3])"
   ]
  },
  {
   "cell_type": "markdown",
   "id": "42f35264",
   "metadata": {},
   "source": [
    "<b>Types of indexing \n",
    "1. Positive indexing from left to right\n",
    "2. Negative Indexing from right to left"
   ]
  },
  {
   "cell_type": "code",
   "execution_count": 10,
   "id": "1ff86e1f",
   "metadata": {},
   "outputs": [
    {
     "name": "stdout",
     "output_type": "stream",
     "text": [
      "o\n"
     ]
    }
   ],
   "source": [
    "print(c[-1])"
   ]
  },
  {
   "cell_type": "code",
   "execution_count": 11,
   "id": "f8ccb469",
   "metadata": {},
   "outputs": [
    {
     "name": "stdout",
     "output_type": "stream",
     "text": [
      "l\n"
     ]
    }
   ],
   "source": [
    "print(c[-3])"
   ]
  },
  {
   "cell_type": "code",
   "execution_count": 14,
   "id": "bf82ecbc",
   "metadata": {},
   "outputs": [
    {
     "name": "stdout",
     "output_type": "stream",
     "text": [
      "Hello\n"
     ]
    }
   ],
   "source": [
    "# The concept of slicing\n",
    "c = \"Hello world\"\n",
    "print(c[0:5])"
   ]
  },
  {
   "cell_type": "code",
   "execution_count": 18,
   "id": "27fec113",
   "metadata": {},
   "outputs": [
    {
     "name": "stdout",
     "output_type": "stream",
     "text": [
      "ello world\n"
     ]
    }
   ],
   "source": [
    "print(c[1:])"
   ]
  },
  {
   "cell_type": "code",
   "execution_count": 19,
   "id": "83af1b21",
   "metadata": {},
   "outputs": [
    {
     "name": "stdout",
     "output_type": "stream",
     "text": [
      "Hell\n"
     ]
    }
   ],
   "source": [
    "print(c[:4])"
   ]
  },
  {
   "cell_type": "code",
   "execution_count": 20,
   "id": "ce16b599",
   "metadata": {},
   "outputs": [
    {
     "name": "stdout",
     "output_type": "stream",
     "text": [
      "Hello world\n"
     ]
    }
   ],
   "source": [
    "print(c[:])"
   ]
  },
  {
   "cell_type": "code",
   "execution_count": 22,
   "id": "d1c991ed",
   "metadata": {},
   "outputs": [
    {
     "name": "stdout",
     "output_type": "stream",
     "text": [
      "el \n"
     ]
    }
   ],
   "source": [
    "#skip 2\n",
    "print(c[1:7:2])"
   ]
  },
  {
   "cell_type": "code",
   "execution_count": 23,
   "id": "9833d92b",
   "metadata": {},
   "outputs": [
    {
     "name": "stdout",
     "output_type": "stream",
     "text": [
      "\n"
     ]
    }
   ],
   "source": [
    "#cnt work with negative indexing like thsis\n",
    "print(c[0:6:-1])"
   ]
  },
  {
   "cell_type": "code",
   "execution_count": 24,
   "id": "d7b2ffa4",
   "metadata": {},
   "outputs": [
    {
     "name": "stdout",
     "output_type": "stream",
     "text": [
      "wr\n"
     ]
    }
   ],
   "source": [
    "print(c[-5:-1:2])"
   ]
  },
  {
   "cell_type": "code",
   "execution_count": 26,
   "id": "3fc1e39a",
   "metadata": {},
   "outputs": [
    {
     "name": "stdout",
     "output_type": "stream",
     "text": [
      "dlrow olleH\n"
     ]
    }
   ],
   "source": [
    "# reversing\n",
    "print(c[::-1])"
   ]
  },
  {
   "cell_type": "code",
   "execution_count": 28,
   "id": "13040654",
   "metadata": {},
   "outputs": [
    {
     "name": "stdout",
     "output_type": "stream",
     "text": [
      "a\n"
     ]
    }
   ],
   "source": [
    "x = \"Raja Ahmed Ali Khan\"\n",
    "print(x[3])"
   ]
  },
  {
   "cell_type": "code",
   "execution_count": 29,
   "id": "8706ea05",
   "metadata": {},
   "outputs": [
    {
     "name": "stdout",
     "output_type": "stream",
     "text": [
      " \n"
     ]
    }
   ],
   "source": [
    "print(x[4])"
   ]
  },
  {
   "cell_type": "code",
   "execution_count": 30,
   "id": "49cbc939",
   "metadata": {},
   "outputs": [
    {
     "name": "stdout",
     "output_type": "stream",
     "text": [
      "n\n"
     ]
    }
   ],
   "source": [
    "print(x[-1])"
   ]
  },
  {
   "cell_type": "code",
   "execution_count": 31,
   "id": "4392eeb1",
   "metadata": {},
   "outputs": [
    {
     "name": "stdout",
     "output_type": "stream",
     "text": [
      "nahK ilA demhA ajaR\n"
     ]
    }
   ],
   "source": [
    "print(x[::-1])"
   ]
  },
  {
   "cell_type": "code",
   "execution_count": 36,
   "id": "01561510",
   "metadata": {},
   "outputs": [
    {
     "name": "stdout",
     "output_type": "stream",
     "text": [
      "nahK\n"
     ]
    }
   ],
   "source": [
    "print(x[-1:-5:-1])"
   ]
  },
  {
   "cell_type": "code",
   "execution_count": 37,
   "id": "5306ad08",
   "metadata": {},
   "outputs": [
    {
     "name": "stdout",
     "output_type": "stream",
     "text": [
      "Raja\n"
     ]
    }
   ],
   "source": [
    "print(x[:4])"
   ]
  },
  {
   "cell_type": "code",
   "execution_count": 38,
   "id": "da353a45",
   "metadata": {},
   "outputs": [
    {
     "name": "stdout",
     "output_type": "stream",
     "text": [
      "Ahmed \n"
     ]
    }
   ],
   "source": [
    "print(x[5:11])"
   ]
  },
  {
   "cell_type": "markdown",
   "id": "4755c883",
   "metadata": {},
   "source": [
    "# Editing and deletion"
   ]
  },
  {
   "cell_type": "code",
   "execution_count": 39,
   "id": "61c942f5",
   "metadata": {},
   "outputs": [
    {
     "name": "stdout",
     "output_type": "stream",
     "text": [
      "Hello\n"
     ]
    }
   ],
   "source": [
    "d = \"Hello\"\n",
    "print(d)"
   ]
  },
  {
   "cell_type": "markdown",
   "id": "a330d00b",
   "metadata": {},
   "source": [
    "#Editing strings <br>\n",
    "String are immutable that means you cant edit it <br>\n",
    "You can re-assign string <br>\n",
    "You also cant add new characters"
   ]
  },
  {
   "cell_type": "code",
   "execution_count": 40,
   "id": "5951e057",
   "metadata": {},
   "outputs": [],
   "source": [
    "# deletion\n",
    "f= \"Father\""
   ]
  },
  {
   "cell_type": "code",
   "execution_count": 41,
   "id": "a440788a",
   "metadata": {},
   "outputs": [],
   "source": [
    "del(f)"
   ]
  },
  {
   "cell_type": "code",
   "execution_count": 42,
   "id": "84f9de44",
   "metadata": {},
   "outputs": [
    {
     "ename": "NameError",
     "evalue": "name 'f' is not defined",
     "output_type": "error",
     "traceback": [
      "\u001b[1;31m---------------------------------------------------------------------------\u001b[0m",
      "\u001b[1;31mNameError\u001b[0m                                 Traceback (most recent call last)",
      "Cell \u001b[1;32mIn[42], line 1\u001b[0m\n\u001b[1;32m----> 1\u001b[0m \u001b[38;5;28mprint\u001b[39m(\u001b[43mf\u001b[49m)\n",
      "\u001b[1;31mNameError\u001b[0m: name 'f' is not defined"
     ]
    }
   ],
   "source": [
    "print(f)"
   ]
  },
  {
   "cell_type": "code",
   "execution_count": 43,
   "id": "25493af6",
   "metadata": {},
   "outputs": [
    {
     "ename": "TypeError",
     "evalue": "'str' object doesn't support item deletion",
     "output_type": "error",
     "traceback": [
      "\u001b[1;31m---------------------------------------------------------------------------\u001b[0m",
      "\u001b[1;31mTypeError\u001b[0m                                 Traceback (most recent call last)",
      "Cell \u001b[1;32mIn[43], line 1\u001b[0m\n\u001b[1;32m----> 1\u001b[0m \u001b[38;5;28;01mdel\u001b[39;00m(\u001b[43mc\u001b[49m\u001b[43m[\u001b[49m\u001b[38;5;241;43m0\u001b[39;49m\u001b[43m]\u001b[49m)\n",
      "\u001b[1;31mTypeError\u001b[0m: 'str' object doesn't support item deletion"
     ]
    }
   ],
   "source": [
    "del(c[0])"
   ]
  },
  {
   "cell_type": "markdown",
   "id": "8e1b9203",
   "metadata": {},
   "source": [
    "# String Operations in Python "
   ]
  },
  {
   "cell_type": "markdown",
   "id": "fe895d97",
   "metadata": {},
   "source": [
    "Arithmatic <br>\n",
    "Relational <br>\n",
    "Logical <br>\n",
    "Loops <br>\n",
    "Membership Operation"
   ]
  },
  {
   "cell_type": "code",
   "execution_count": 44,
   "id": "4ab9ba2f",
   "metadata": {},
   "outputs": [
    {
     "data": {
      "text/plain": [
       "'Helloworld'"
      ]
     },
     "execution_count": 44,
     "metadata": {},
     "output_type": "execute_result"
    }
   ],
   "source": [
    "#Arithmatic Operations\n",
    "#string concatination\n",
    "\"Hello\" + \"world\""
   ]
  },
  {
   "cell_type": "code",
   "execution_count": 45,
   "id": "672ae96b",
   "metadata": {},
   "outputs": [
    {
     "name": "stdout",
     "output_type": "stream",
     "text": [
      "**************************************************\n"
     ]
    }
   ],
   "source": [
    "print(\"*\"*50)"
   ]
  },
  {
   "cell_type": "code",
   "execution_count": 46,
   "id": "0418ed4b",
   "metadata": {},
   "outputs": [
    {
     "name": "stdout",
     "output_type": "stream",
     "text": [
      "Hello----\n"
     ]
    }
   ],
   "source": [
    "print(\"Hello\"+\"-\"*4)"
   ]
  },
  {
   "cell_type": "code",
   "execution_count": 47,
   "id": "a7a390f7",
   "metadata": {},
   "outputs": [
    {
     "data": {
      "text/plain": [
       "False"
      ]
     },
     "execution_count": 47,
     "metadata": {},
     "output_type": "execute_result"
    }
   ],
   "source": [
    "\"hello\" == \"world\""
   ]
  },
  {
   "cell_type": "code",
   "execution_count": 48,
   "id": "c20097ac",
   "metadata": {},
   "outputs": [
    {
     "data": {
      "text/plain": [
       "True"
      ]
     },
     "execution_count": 48,
     "metadata": {},
     "output_type": "execute_result"
    }
   ],
   "source": [
    "\"hello\" != \"world\""
   ]
  },
  {
   "cell_type": "code",
   "execution_count": 49,
   "id": "f0cf426d",
   "metadata": {},
   "outputs": [
    {
     "data": {
      "text/plain": [
       "True"
      ]
     },
     "execution_count": 49,
     "metadata": {},
     "output_type": "execute_result"
    }
   ],
   "source": [
    "#Relational Operations\n",
    "#lexiographically - Which come first in dictionary \n",
    "\"Khuiratta\" < \"kotli\""
   ]
  },
  {
   "cell_type": "code",
   "execution_count": 51,
   "id": "d199bf64",
   "metadata": {},
   "outputs": [
    {
     "data": {
      "text/plain": [
       "False"
      ]
     },
     "execution_count": 51,
     "metadata": {},
     "output_type": "execute_result"
    }
   ],
   "source": [
    "\"Ahmedabad\" >\"Kotli\""
   ]
  },
  {
   "cell_type": "code",
   "execution_count": 52,
   "id": "5a75411b",
   "metadata": {},
   "outputs": [
    {
     "data": {
      "text/plain": [
       "'world'"
      ]
     },
     "execution_count": 52,
     "metadata": {},
     "output_type": "execute_result"
    }
   ],
   "source": [
    "#Logical Operations\n",
    "\"Hello\" and \"world\""
   ]
  },
  {
   "cell_type": "code",
   "execution_count": 54,
   "id": "ffb6eb68",
   "metadata": {},
   "outputs": [
    {
     "data": {
      "text/plain": [
       "''"
      ]
     },
     "execution_count": 54,
     "metadata": {},
     "output_type": "execute_result"
    }
   ],
   "source": [
    "#Empty string = false \n",
    "#Non-empty = True\n",
    "\n",
    "\"\" and \"Hello\""
   ]
  },
  {
   "cell_type": "code",
   "execution_count": 55,
   "id": "8728f76b",
   "metadata": {},
   "outputs": [
    {
     "data": {
      "text/plain": [
       "'world'"
      ]
     },
     "execution_count": 55,
     "metadata": {},
     "output_type": "execute_result"
    }
   ],
   "source": [
    "\"\" or \"world\""
   ]
  },
  {
   "cell_type": "code",
   "execution_count": 56,
   "id": "2eeecb4c",
   "metadata": {},
   "outputs": [
    {
     "data": {
      "text/plain": [
       "'hello'"
      ]
     },
     "execution_count": 56,
     "metadata": {},
     "output_type": "execute_result"
    }
   ],
   "source": [
    "\"hello\" or \"world\""
   ]
  },
  {
   "cell_type": "code",
   "execution_count": 57,
   "id": "af4a6058",
   "metadata": {},
   "outputs": [
    {
     "data": {
      "text/plain": [
       "False"
      ]
     },
     "execution_count": 57,
     "metadata": {},
     "output_type": "execute_result"
    }
   ],
   "source": [
    "not \"hello\""
   ]
  },
  {
   "cell_type": "code",
   "execution_count": 58,
   "id": "5ded2de5",
   "metadata": {},
   "outputs": [
    {
     "data": {
      "text/plain": [
       "True"
      ]
     },
     "execution_count": 58,
     "metadata": {},
     "output_type": "execute_result"
    }
   ],
   "source": [
    "not \"\""
   ]
  },
  {
   "cell_type": "code",
   "execution_count": 59,
   "id": "50584e24",
   "metadata": {},
   "outputs": [
    {
     "name": "stdout",
     "output_type": "stream",
     "text": [
      "H\n",
      "e\n",
      "l\n",
      "l\n",
      "o\n",
      " \n",
      "w\n",
      "o\n",
      "r\n",
      "l\n",
      "d\n"
     ]
    }
   ],
   "source": [
    "# Loops and string\n",
    "c= \"Hello world\"\n",
    "for i in c:\n",
    "    print(i)"
   ]
  },
  {
   "cell_type": "code",
   "execution_count": 60,
   "id": "f1dff8e1",
   "metadata": {},
   "outputs": [
    {
     "name": "stdout",
     "output_type": "stream",
     "text": [
      "l\n",
      "l\n",
      "o\n",
      " \n",
      "w\n"
     ]
    }
   ],
   "source": [
    "c= \"Hello world\"\n",
    "for i in c[2:7]:\n",
    "    print(i)"
   ]
  },
  {
   "cell_type": "code",
   "execution_count": 61,
   "id": "dc6a9403",
   "metadata": {},
   "outputs": [
    {
     "data": {
      "text/plain": [
       "False"
      ]
     },
     "execution_count": 61,
     "metadata": {},
     "output_type": "execute_result"
    }
   ],
   "source": [
    "#Membership Operator\n",
    "'h' in c"
   ]
  },
  {
   "cell_type": "code",
   "execution_count": 62,
   "id": "3a8c4283",
   "metadata": {},
   "outputs": [
    {
     "data": {
      "text/plain": [
       "True"
      ]
     },
     "execution_count": 62,
     "metadata": {},
     "output_type": "execute_result"
    }
   ],
   "source": [
    "'H' in c"
   ]
  },
  {
   "cell_type": "markdown",
   "id": "d7ac76e0",
   "metadata": {},
   "source": [
    "# String Functions"
   ]
  },
  {
   "cell_type": "markdown",
   "id": "22018a9f",
   "metadata": {},
   "source": [
    "1. len\n",
    "2. max\n",
    "3. min\n",
    "4. sorted"
   ]
  },
  {
   "cell_type": "code",
   "execution_count": 63,
   "id": "a5fce693",
   "metadata": {},
   "outputs": [
    {
     "data": {
      "text/plain": [
       "5"
      ]
     },
     "execution_count": 63,
     "metadata": {},
     "output_type": "execute_result"
    }
   ],
   "source": [
    "c= \"Hello\"\n",
    "len(c)"
   ]
  },
  {
   "cell_type": "code",
   "execution_count": 64,
   "id": "e54f7bf8",
   "metadata": {},
   "outputs": [
    {
     "data": {
      "text/plain": [
       "'o'"
      ]
     },
     "execution_count": 64,
     "metadata": {},
     "output_type": "execute_result"
    }
   ],
   "source": [
    "max(c)"
   ]
  },
  {
   "cell_type": "code",
   "execution_count": 65,
   "id": "58b40aff",
   "metadata": {},
   "outputs": [
    {
     "data": {
      "text/plain": [
       "'H'"
      ]
     },
     "execution_count": 65,
     "metadata": {},
     "output_type": "execute_result"
    }
   ],
   "source": [
    "min(c)"
   ]
  },
  {
   "cell_type": "code",
   "execution_count": 66,
   "id": "e6b58320",
   "metadata": {},
   "outputs": [
    {
     "data": {
      "text/plain": [
       "['H', 'e', 'l', 'l', 'o']"
      ]
     },
     "execution_count": 66,
     "metadata": {},
     "output_type": "execute_result"
    }
   ],
   "source": [
    "sorted(c)"
   ]
  },
  {
   "cell_type": "code",
   "execution_count": 67,
   "id": "0116918c",
   "metadata": {},
   "outputs": [
    {
     "data": {
      "text/plain": [
       "['o', 'l', 'l', 'e', 'H']"
      ]
     },
     "execution_count": 67,
     "metadata": {},
     "output_type": "execute_result"
    }
   ],
   "source": [
    "sorted(c,reverse=True)"
   ]
  },
  {
   "cell_type": "markdown",
   "id": "1fc5e5c9",
   "metadata": {},
   "source": [
    "<h3>Capitalize / Tilte / Upper / Lower/Swapcase <h3>"
   ]
  },
  {
   "cell_type": "code",
   "execution_count": 72,
   "id": "2a3534f0",
   "metadata": {},
   "outputs": [],
   "source": [
    "m = \"its rainign Today\""
   ]
  },
  {
   "cell_type": "code",
   "execution_count": 73,
   "id": "ca9fa9e6",
   "metadata": {},
   "outputs": [
    {
     "data": {
      "text/plain": [
       "'Its rainign today'"
      ]
     },
     "execution_count": 73,
     "metadata": {},
     "output_type": "execute_result"
    }
   ],
   "source": [
    "m.capitalize()"
   ]
  },
  {
   "cell_type": "code",
   "execution_count": 74,
   "id": "932fcf60",
   "metadata": {},
   "outputs": [
    {
     "data": {
      "text/plain": [
       "'Its Rainign Today'"
      ]
     },
     "execution_count": 74,
     "metadata": {},
     "output_type": "execute_result"
    }
   ],
   "source": [
    "m.title()"
   ]
  },
  {
   "cell_type": "code",
   "execution_count": 76,
   "id": "ae60e858",
   "metadata": {},
   "outputs": [
    {
     "data": {
      "text/plain": [
       "'ITS RAINIGN TODAY'"
      ]
     },
     "execution_count": 76,
     "metadata": {},
     "output_type": "execute_result"
    }
   ],
   "source": [
    "m.upper()"
   ]
  },
  {
   "cell_type": "code",
   "execution_count": 77,
   "id": "502ee827",
   "metadata": {},
   "outputs": [
    {
     "data": {
      "text/plain": [
       "'its rainign today'"
      ]
     },
     "execution_count": 77,
     "metadata": {},
     "output_type": "execute_result"
    }
   ],
   "source": [
    "m.lower()"
   ]
  },
  {
   "cell_type": "code",
   "execution_count": 78,
   "id": "6042c737",
   "metadata": {},
   "outputs": [
    {
     "data": {
      "text/plain": [
       "'ITS RAINIGN tODAY'"
      ]
     },
     "execution_count": 78,
     "metadata": {},
     "output_type": "execute_result"
    }
   ],
   "source": [
    "m.swapcase()"
   ]
  },
  {
   "cell_type": "code",
   "execution_count": 80,
   "id": "de690a42",
   "metadata": {},
   "outputs": [
    {
     "data": {
      "text/plain": [
       "3"
      ]
     },
     "execution_count": 80,
     "metadata": {},
     "output_type": "execute_result"
    }
   ],
   "source": [
    "# count Function\n",
    "m.count(\"i\")"
   ]
  },
  {
   "cell_type": "code",
   "execution_count": 81,
   "id": "2803e795",
   "metadata": {},
   "outputs": [
    {
     "data": {
      "text/plain": [
       "1"
      ]
     },
     "execution_count": 81,
     "metadata": {},
     "output_type": "execute_result"
    }
   ],
   "source": [
    "m.count(\"in\")"
   ]
  },
  {
   "cell_type": "code",
   "execution_count": 82,
   "id": "0d9d6a1c",
   "metadata": {},
   "outputs": [
    {
     "data": {
      "text/plain": [
       "9"
      ]
     },
     "execution_count": 82,
     "metadata": {},
     "output_type": "execute_result"
    }
   ],
   "source": [
    "# find / index\n",
    "m.find(\"g\")"
   ]
  },
  {
   "cell_type": "code",
   "execution_count": 84,
   "id": "0ab00443",
   "metadata": {},
   "outputs": [
    {
     "data": {
      "text/plain": [
       "4"
      ]
     },
     "execution_count": 84,
     "metadata": {},
     "output_type": "execute_result"
    }
   ],
   "source": [
    "m.find(\"rainign\")"
   ]
  },
  {
   "cell_type": "code",
   "execution_count": 85,
   "id": "9de90a4b",
   "metadata": {},
   "outputs": [
    {
     "data": {
      "text/plain": [
       "9"
      ]
     },
     "execution_count": 85,
     "metadata": {},
     "output_type": "execute_result"
    }
   ],
   "source": [
    "m.index(\"g\")"
   ]
  },
  {
   "cell_type": "code",
   "execution_count": 86,
   "id": "a5eb1ac1",
   "metadata": {},
   "outputs": [
    {
     "ename": "ValueError",
     "evalue": "substring not found",
     "output_type": "error",
     "traceback": [
      "\u001b[1;31m---------------------------------------------------------------------------\u001b[0m",
      "\u001b[1;31mValueError\u001b[0m                                Traceback (most recent call last)",
      "Cell \u001b[1;32mIn[86], line 1\u001b[0m\n\u001b[1;32m----> 1\u001b[0m \u001b[43mm\u001b[49m\u001b[38;5;241;43m.\u001b[39;49m\u001b[43mindex\u001b[49m\u001b[43m(\u001b[49m\u001b[38;5;124;43m\"\u001b[39;49m\u001b[38;5;124;43mx\u001b[39;49m\u001b[38;5;124;43m\"\u001b[39;49m\u001b[43m)\u001b[49m\n",
      "\u001b[1;31mValueError\u001b[0m: substring not found"
     ]
    }
   ],
   "source": [
    "m.index(\"x\")"
   ]
  },
  {
   "cell_type": "code",
   "execution_count": 87,
   "id": "a4a271ad",
   "metadata": {},
   "outputs": [
    {
     "data": {
      "text/plain": [
       "False"
      ]
     },
     "execution_count": 87,
     "metadata": {},
     "output_type": "execute_result"
    }
   ],
   "source": [
    "# Endswith and startwith\n",
    "\"its raining today\".endswith(\"ing\")"
   ]
  },
  {
   "cell_type": "code",
   "execution_count": 89,
   "id": "bc8c6562",
   "metadata": {},
   "outputs": [
    {
     "data": {
      "text/plain": [
       "True"
      ]
     },
     "execution_count": 89,
     "metadata": {},
     "output_type": "execute_result"
    }
   ],
   "source": [
    "\"its raining today\".startswith(\"it\")"
   ]
  },
  {
   "cell_type": "code",
   "execution_count": 91,
   "id": "21d40bdd",
   "metadata": {},
   "outputs": [
    {
     "data": {
      "text/plain": [
       "'Hello my name is Ahmed and im a student'"
      ]
     },
     "execution_count": 91,
     "metadata": {},
     "output_type": "execute_result"
    }
   ],
   "source": [
    "#Format\n",
    "\"Hello my name is {} and im a student\".format(\"Ahmed\")"
   ]
  },
  {
   "cell_type": "code",
   "execution_count": 93,
   "id": "6ff00f5d",
   "metadata": {},
   "outputs": [
    {
     "data": {
      "text/plain": [
       "'Hello my name is Ahmed and im a student of classBS'"
      ]
     },
     "execution_count": 93,
     "metadata": {},
     "output_type": "execute_result"
    }
   ],
   "source": [
    "\"Hello my name is {} and im a student of class{}\".format(\"Ahmed\",\"BS\")"
   ]
  },
  {
   "cell_type": "code",
   "execution_count": 94,
   "id": "e9624112",
   "metadata": {},
   "outputs": [
    {
     "data": {
      "text/plain": [
       "'Hello my name is Ahmed and my age is30'"
      ]
     },
     "execution_count": 94,
     "metadata": {},
     "output_type": "execute_result"
    }
   ],
   "source": [
    "\"Hello my name is {name} and my age is{age}\".format(name=\"Ahmed\",age=30)"
   ]
  },
  {
   "cell_type": "code",
   "execution_count": 97,
   "id": "3e4dbae2",
   "metadata": {},
   "outputs": [
    {
     "data": {
      "text/plain": [
       "False"
      ]
     },
     "execution_count": 97,
     "metadata": {},
     "output_type": "execute_result"
    }
   ],
   "source": [
    "#isalphanumeric\n",
    "\"FLAT20&\".isalnum()"
   ]
  },
  {
   "cell_type": "code",
   "execution_count": 98,
   "id": "94173161",
   "metadata": {},
   "outputs": [
    {
     "data": {
      "text/plain": [
       "True"
      ]
     },
     "execution_count": 98,
     "metadata": {},
     "output_type": "execute_result"
    }
   ],
   "source": [
    "#isalpha\n",
    "\"FLAT\".isalpha()"
   ]
  },
  {
   "cell_type": "code",
   "execution_count": 100,
   "id": "4ca51569",
   "metadata": {},
   "outputs": [
    {
     "data": {
      "text/plain": [
       "True"
      ]
     },
     "execution_count": 100,
     "metadata": {},
     "output_type": "execute_result"
    }
   ],
   "source": [
    "#isdigit\n",
    "\"20\".isdigit()"
   ]
  },
  {
   "cell_type": "code",
   "execution_count": 102,
   "id": "423dee7a",
   "metadata": {},
   "outputs": [
    {
     "data": {
      "text/plain": [
       "True"
      ]
     },
     "execution_count": 102,
     "metadata": {},
     "output_type": "execute_result"
    }
   ],
   "source": [
    "#is identifier\n",
    "\"Hello_world\".isidentifier()"
   ]
  },
  {
   "cell_type": "code",
   "execution_count": 103,
   "id": "94d3747b",
   "metadata": {},
   "outputs": [
    {
     "data": {
      "text/plain": [
       "False"
      ]
     },
     "execution_count": 103,
     "metadata": {},
     "output_type": "execute_result"
    }
   ],
   "source": [
    "#is identifier\n",
    "\"Hello world\".isidentifier()"
   ]
  },
  {
   "cell_type": "code",
   "execution_count": 105,
   "id": "ceb48fae",
   "metadata": {},
   "outputs": [
    {
     "data": {
      "text/plain": [
       "['Who', 'is', 'the', 'prime', 'minister', 'of', 'iNDIA']"
      ]
     },
     "execution_count": 105,
     "metadata": {},
     "output_type": "execute_result"
    }
   ],
   "source": [
    "#Split Function\n",
    "\"Who is the prime minister of iNDIA\".split()"
   ]
  },
  {
   "cell_type": "code",
   "execution_count": 106,
   "id": "3e8370b7",
   "metadata": {},
   "outputs": [
    {
     "data": {
      "text/plain": [
       "['Who is the ', ' minister of iNDIA']"
      ]
     },
     "execution_count": 106,
     "metadata": {},
     "output_type": "execute_result"
    }
   ],
   "source": [
    "#Split Function\n",
    "\"Who is the prime minister of iNDIA\".split(\"prime\")"
   ]
  },
  {
   "cell_type": "code",
   "execution_count": 109,
   "id": "34bc43ab",
   "metadata": {},
   "outputs": [
    {
     "data": {
      "text/plain": [
       "'Who is the prime minister of iNDIA'"
      ]
     },
     "execution_count": 109,
     "metadata": {},
     "output_type": "execute_result"
    }
   ],
   "source": [
    "#join\n",
    "\" \".join(['Who', 'is', 'the', 'prime', 'minister', 'of', 'iNDIA'])\n"
   ]
  },
  {
   "cell_type": "code",
   "execution_count": 110,
   "id": "bd709ded",
   "metadata": {},
   "outputs": [
    {
     "data": {
      "text/plain": [
       "'Who/is/the/prime/minister/of/iNDIA'"
      ]
     },
     "execution_count": 110,
     "metadata": {},
     "output_type": "execute_result"
    }
   ],
   "source": [
    "#join\n",
    "\"/\".join(['Who', 'is', 'the', 'prime', 'minister', 'of', 'iNDIA'])"
   ]
  },
  {
   "cell_type": "code",
   "execution_count": 112,
   "id": "c088e613",
   "metadata": {},
   "outputs": [
    {
     "data": {
      "text/plain": [
       "'Hi my name is Ali'"
      ]
     },
     "execution_count": 112,
     "metadata": {},
     "output_type": "execute_result"
    }
   ],
   "source": [
    "#replace\n",
    "\"Hi my name is Ahmed\".replace(\"Ahmed\",\"Ali\")"
   ]
  },
  {
   "cell_type": "code",
   "execution_count": 113,
   "id": "e53c4411",
   "metadata": {},
   "outputs": [
    {
     "data": {
      "text/plain": [
       "'Ahmed'"
      ]
     },
     "execution_count": 113,
     "metadata": {},
     "output_type": "execute_result"
    }
   ],
   "source": [
    "#strip\n",
    "name=\"           Ahmed     \"\n",
    "name.strip()"
   ]
  }
 ],
 "metadata": {
  "kernelspec": {
   "display_name": "Python 3 (ipykernel)",
   "language": "python",
   "name": "python3"
  },
  "language_info": {
   "codemirror_mode": {
    "name": "ipython",
    "version": 3
   },
   "file_extension": ".py",
   "mimetype": "text/x-python",
   "name": "python",
   "nbconvert_exporter": "python",
   "pygments_lexer": "ipython3",
   "version": "3.11.5"
  }
 },
 "nbformat": 4,
 "nbformat_minor": 5
}
