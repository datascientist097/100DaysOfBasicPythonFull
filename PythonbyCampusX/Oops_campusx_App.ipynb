{
 "cells": [
  {
   "cell_type": "markdown",
   "id": "1913199a",
   "metadata": {},
   "source": [
    "# Python App"
   ]
  },
  {
   "cell_type": "code",
   "execution_count": 6,
   "id": "88d4c442",
   "metadata": {},
   "outputs": [
    {
     "name": "stdout",
     "output_type": "stream",
     "text": [
      "\n",
      "        How You would Like to proceed?\n",
      "        1. Check Live Train\n",
      "        2. Check PNR\n",
      "        3. check Train schedule 3\n",
      "Enter The train Number12222\n"
     ]
    },
    {
     "ename": "KeyError",
     "evalue": "'Route'",
     "output_type": "error",
     "traceback": [
      "\u001b[1;31m---------------------------------------------------------------------------\u001b[0m",
      "\u001b[1;31mKeyError\u001b[0m                                  Traceback (most recent call last)",
      "Cell \u001b[1;32mIn[6], line 26\u001b[0m\n\u001b[0;32m     24\u001b[0m         \u001b[38;5;28;01mfor\u001b[39;00m i \u001b[38;5;129;01min\u001b[39;00m data[\u001b[38;5;124m'\u001b[39m\u001b[38;5;124mRoute\u001b[39m\u001b[38;5;124m'\u001b[39m]:\n\u001b[0;32m     25\u001b[0m             \u001b[38;5;28mprint\u001b[39m(i[\u001b[38;5;124m'\u001b[39m\u001b[38;5;124mStationName\u001b[39m\u001b[38;5;124m'\u001b[39m])\n\u001b[1;32m---> 26\u001b[0m obj \u001b[38;5;241m=\u001b[39m \u001b[43mapp\u001b[49m\u001b[43m(\u001b[49m\u001b[43m)\u001b[49m\n",
      "Cell \u001b[1;32mIn[6], line 16\u001b[0m, in \u001b[0;36mapp.__init__\u001b[1;34m(self)\u001b[0m\n\u001b[0;32m     14\u001b[0m     \u001b[38;5;28mprint\u001b[39m(\u001b[38;5;124m\"\u001b[39m\u001b[38;5;124mPNR\u001b[39m\u001b[38;5;124m\"\u001b[39m)\n\u001b[0;32m     15\u001b[0m \u001b[38;5;28;01melse\u001b[39;00m:\n\u001b[1;32m---> 16\u001b[0m     \u001b[38;5;28;43mself\u001b[39;49m\u001b[38;5;241;43m.\u001b[39;49m\u001b[43mtrain_schedule\u001b[49m\u001b[43m(\u001b[49m\u001b[43m)\u001b[49m\n",
      "Cell \u001b[1;32mIn[6], line 19\u001b[0m, in \u001b[0;36mapp.train_schedule\u001b[1;34m(self)\u001b[0m\n\u001b[0;32m     17\u001b[0m \u001b[38;5;28;01mdef\u001b[39;00m \u001b[38;5;21mtrain_schedule\u001b[39m(\u001b[38;5;28mself\u001b[39m):\n\u001b[0;32m     18\u001b[0m     train_no \u001b[38;5;241m=\u001b[39m \u001b[38;5;28minput\u001b[39m(\u001b[38;5;124m\"\u001b[39m\u001b[38;5;124mEnter The train Number\u001b[39m\u001b[38;5;124m\"\u001b[39m)\n\u001b[1;32m---> 19\u001b[0m     \u001b[38;5;28;43mself\u001b[39;49m\u001b[38;5;241;43m.\u001b[39;49m\u001b[43mfetch_data\u001b[49m\u001b[43m(\u001b[49m\u001b[43mtrain_no\u001b[49m\u001b[43m)\u001b[49m\n",
      "Cell \u001b[1;32mIn[6], line 23\u001b[0m, in \u001b[0;36mapp.fetch_data\u001b[1;34m(self, train_no)\u001b[0m\n\u001b[0;32m     21\u001b[0m data \u001b[38;5;241m=\u001b[39m requests\u001b[38;5;241m.\u001b[39mget(\u001b[38;5;124m\"\u001b[39m\u001b[38;5;124mhttp://indianrailapi.com/api/v2/TrainSchedule/apikey/30c382602bfa67c8a7c580e6cfe2becb/TrainNumber/\u001b[39m\u001b[38;5;132;01m{}\u001b[39;00m\u001b[38;5;124m\"\u001b[39m\u001b[38;5;241m.\u001b[39mformat(train_no))\n\u001b[0;32m     22\u001b[0m data \u001b[38;5;241m=\u001b[39m data\u001b[38;5;241m.\u001b[39mjson()\n\u001b[1;32m---> 23\u001b[0m \u001b[38;5;28mprint\u001b[39m(\u001b[43mdata\u001b[49m\u001b[43m[\u001b[49m\u001b[38;5;124;43m'\u001b[39;49m\u001b[38;5;124;43mRoute\u001b[39;49m\u001b[38;5;124;43m'\u001b[39;49m\u001b[43m]\u001b[49m)\n\u001b[0;32m     24\u001b[0m \u001b[38;5;28;01mfor\u001b[39;00m i \u001b[38;5;129;01min\u001b[39;00m data[\u001b[38;5;124m'\u001b[39m\u001b[38;5;124mRoute\u001b[39m\u001b[38;5;124m'\u001b[39m]:\n\u001b[0;32m     25\u001b[0m     \u001b[38;5;28mprint\u001b[39m(i[\u001b[38;5;124m'\u001b[39m\u001b[38;5;124mStationName\u001b[39m\u001b[38;5;124m'\u001b[39m])\n",
      "\u001b[1;31mKeyError\u001b[0m: 'Route'"
     ]
    }
   ],
   "source": [
    "import requests\n",
    "\n",
    "class app:\n",
    "    \n",
    "    def __init__(self):\n",
    "        user_input = input(\"\"\"\n",
    "        How You would Like to proceed?\n",
    "        1. Check Live Train\n",
    "        2. Check PNR\n",
    "        3. check Train schedule \"\"\")\n",
    "        if user_input == \"1\":\n",
    "            print(\"Live Train status\")\n",
    "        elif user_input == \"2\":\n",
    "            print(\"PNR\")\n",
    "        else:\n",
    "            self.train_schedule()\n",
    "    def train_schedule(self):\n",
    "        train_no = input(\"Enter The train Number\")\n",
    "        self.fetch_data(train_no)\n",
    "    def fetch_data(self,train_no):\n",
    "        data = requests.get(\"http://indianrailapi.com/api/v2/TrainSchedule/apikey/30c382602bfa67c8a7c580e6cfe2becb/TrainNumber/{}\".format(train_no))\n",
    "        data = data.json()\n",
    "        print(data['Route'])\n",
    "        for i in data['Route']:\n",
    "            print(i['StationName'])\n",
    "obj = app()"
   ]
  },
  {
   "cell_type": "code",
   "execution_count": null,
   "id": "1915e4ac",
   "metadata": {},
   "outputs": [],
   "source": []
  }
 ],
 "metadata": {
  "kernelspec": {
   "display_name": "Python 3 (ipykernel)",
   "language": "python",
   "name": "python3"
  },
  "language_info": {
   "codemirror_mode": {
    "name": "ipython",
    "version": 3
   },
   "file_extension": ".py",
   "mimetype": "text/x-python",
   "name": "python",
   "nbconvert_exporter": "python",
   "pygments_lexer": "ipython3",
   "version": "3.11.5"
  }
 },
 "nbformat": 4,
 "nbformat_minor": 5
}
