{
 "cells": [
  {
   "cell_type": "code",
   "execution_count": 1,
   "id": "bdd7de5e",
   "metadata": {},
   "outputs": [],
   "source": [
    "#importing random module to generate random numbers\n",
    "import random"
   ]
  },
  {
   "cell_type": "code",
   "execution_count": 5,
   "id": "faa54ab0",
   "metadata": {},
   "outputs": [
    {
     "name": "stdout",
     "output_type": "stream",
     "text": [
      "Guess the number45\n",
      "Guess Lower\n",
      "Guess Again22\n",
      "Guess Lower\n",
      "Guess Again14\n",
      "Guess Lower\n",
      "Guess Again7\n",
      "Guess Lower\n",
      "Guess Again3\n",
      "Congrts You Guess right\n",
      "You took 5 Attempts\n"
     ]
    }
   ],
   "source": [
    "jackpot = random.randint(1,100)\n",
    "\n",
    "Guess = int(input(\"Guess the number\"))\n",
    "counter =1\n",
    "\n",
    "while Guess != jackpot:\n",
    "    if Guess < jackpot:\n",
    "        print(\"Guess Higher\")\n",
    "    else:\n",
    "        print(\"Guess Lower\")\n",
    "        Guess = int(input(\"Guess Again\"))\n",
    "        counter +=1\n",
    "        \n",
    "print(\"Congrts You Guess right\")\n",
    "print(\"You took\",counter,\"Attempts\")"
   ]
  }
 ],
 "metadata": {
  "kernelspec": {
   "display_name": "Python 3 (ipykernel)",
   "language": "python",
   "name": "python3"
  },
  "language_info": {
   "codemirror_mode": {
    "name": "ipython",
    "version": 3
   },
   "file_extension": ".py",
   "mimetype": "text/x-python",
   "name": "python",
   "nbconvert_exporter": "python",
   "pygments_lexer": "ipython3",
   "version": "3.11.5"
  }
 },
 "nbformat": 4,
 "nbformat_minor": 5
}
