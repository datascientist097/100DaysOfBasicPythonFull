{
 "cells": [
  {
   "cell_type": "markdown",
   "id": "6e37308e",
   "metadata": {},
   "source": [
    "# 100 Days of Python programming"
   ]
  },
  {
   "cell_type": "markdown",
   "id": "be613804",
   "metadata": {},
   "source": [
    "# 11. If else statements"
   ]
  },
  {
   "cell_type": "code",
   "execution_count": 6,
   "id": "8ebdecd4",
   "metadata": {},
   "outputs": [
    {
     "name": "stdout",
     "output_type": "stream",
     "text": [
      "Enter Your Emaildatascientist097@gmail.com\n",
      "Enter Your Passwordjdjhdjsh\n",
      "Password incorrect\n",
      "Enter password againjdhdh\n",
      "Still incorrect\n"
     ]
    }
   ],
   "source": [
    "# email: datascientist097@gmail.com\n",
    "# password : raja123\n",
    "email = input(\"Enter Your Email\")\n",
    "if '@' in email:\n",
    "    pass\n",
    "    password = input(\"Enter Your Password\")\n",
    "    if email == \"datascientist097@gmail.com\" and password == \"raja123\":\n",
    "        print(\"Login seccussful\")\n",
    "    elif email ==\"datascientist097@gmail.com\" and password !=\"raja123\":\n",
    "        print(\"Password incorrect\")\n",
    "        password = input(\"Enter password again\")\n",
    "        if password==\"raja123\":\n",
    "            print(\"correct\")\n",
    "        else:\n",
    "            print(\"Still incorrect\")\n",
    "    else:\n",
    "        print(\"Input correct Email and Password\")\n",
    "else:\n",
    "    print(\"wrong Email\")"
   ]
  },
  {
   "cell_type": "markdown",
   "id": "c5a8a54d",
   "metadata": {},
   "source": [
    "# 12. Idententation"
   ]
  },
  {
   "cell_type": "code",
   "execution_count": 9,
   "id": "1eb73193",
   "metadata": {},
   "outputs": [
    {
     "name": "stdout",
     "output_type": "stream",
     "text": [
      "smth\n"
     ]
    }
   ],
   "source": [
    "name = \"xyz\"\n",
    "if name == \"xyz\":\n",
    "    print(\"smth\")\n",
    "else:\n",
    "    print(\"Not smth\")\n",
    "    "
   ]
  },
  {
   "cell_type": "markdown",
   "id": "a5e5ef37",
   "metadata": {},
   "source": [
    "# 13. While loop"
   ]
  },
  {
   "cell_type": "code",
   "execution_count": 10,
   "id": "4457d5e1",
   "metadata": {},
   "outputs": [],
   "source": [
    "#while and for loop are two loops in python"
   ]
  },
  {
   "cell_type": "code",
   "execution_count": 14,
   "id": "965912d8",
   "metadata": {},
   "outputs": [
    {
     "name": "stdout",
     "output_type": "stream",
     "text": [
      "Enter a number2\n",
      "2 * 1 = 2\n",
      "2 * 2 = 4\n",
      "2 * 3 = 6\n",
      "2 * 4 = 8\n",
      "2 * 5 = 10\n",
      "2 * 6 = 12\n",
      "2 * 7 = 14\n",
      "2 * 8 = 16\n",
      "2 * 9 = 18\n",
      "2 * 10 = 20\n"
     ]
    }
   ],
   "source": [
    "number = int(input(\"Enter a number\"))\n",
    "i =1\n",
    "while i<11:\n",
    "    print(number ,\"*\" ,i,\"=\" ,number * i)\n",
    "    i +=1\n",
    "    \n"
   ]
  },
  {
   "cell_type": "code",
   "execution_count": null,
   "id": "61458f0c",
   "metadata": {},
   "outputs": [],
   "source": []
  },
  {
   "cell_type": "code",
   "execution_count": null,
   "id": "f7543d6b",
   "metadata": {},
   "outputs": [],
   "source": []
  },
  {
   "cell_type": "code",
   "execution_count": null,
   "id": "adee2eff",
   "metadata": {},
   "outputs": [],
   "source": []
  }
 ],
 "metadata": {
  "kernelspec": {
   "display_name": "Python 3 (ipykernel)",
   "language": "python",
   "name": "python3"
  },
  "language_info": {
   "codemirror_mode": {
    "name": "ipython",
    "version": 3
   },
   "file_extension": ".py",
   "mimetype": "text/x-python",
   "name": "python",
   "nbconvert_exporter": "python",
   "pygments_lexer": "ipython3",
   "version": "3.11.5"
  }
 },
 "nbformat": 4,
 "nbformat_minor": 5
}
