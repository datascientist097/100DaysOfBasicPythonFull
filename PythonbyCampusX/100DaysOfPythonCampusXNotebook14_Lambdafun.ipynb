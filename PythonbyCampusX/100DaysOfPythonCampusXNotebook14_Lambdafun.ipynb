{
 "cells": [
  {
   "cell_type": "markdown",
   "id": "5eabc7d8",
   "metadata": {},
   "source": [
    "# Lambda functions"
   ]
  },
  {
   "cell_type": "code",
   "execution_count": 1,
   "id": "7ea356b0",
   "metadata": {},
   "outputs": [],
   "source": [
    "#lambda input expression"
   ]
  },
  {
   "cell_type": "code",
   "execution_count": 2,
   "id": "a2bd8034",
   "metadata": {},
   "outputs": [
    {
     "data": {
      "text/plain": [
       "81"
      ]
     },
     "execution_count": 2,
     "metadata": {},
     "output_type": "execute_result"
    }
   ],
   "source": [
    "x= lambda x:x**2\n",
    "x(9)"
   ]
  },
  {
   "cell_type": "code",
   "execution_count": 4,
   "id": "6963f24f",
   "metadata": {},
   "outputs": [
    {
     "data": {
      "text/plain": [
       "9"
      ]
     },
     "execution_count": 4,
     "metadata": {},
     "output_type": "execute_result"
    }
   ],
   "source": [
    "a= lambda x,y:x+y\n",
    "a(4,5)"
   ]
  },
  {
   "cell_type": "markdown",
   "id": "5675ba77",
   "metadata": {},
   "source": [
    "#no return type\n",
    "#no code reuseability\n",
    "#one line\n",
    "#No name\n"
   ]
  },
  {
   "cell_type": "markdown",
   "id": "984f6e44",
   "metadata": {},
   "source": [
    "#why use lambda function\n",
    "#used with higher order function\n",
    "#A function that need another function to complete its work is highe order fun"
   ]
  },
  {
   "cell_type": "code",
   "execution_count": 7,
   "id": "b66a5ff7",
   "metadata": {},
   "outputs": [
    {
     "data": {
      "text/plain": [
       "True"
      ]
     },
     "execution_count": 7,
     "metadata": {},
     "output_type": "execute_result"
    }
   ],
   "source": [
    "b= lambda x:x[0]=='a'\n",
    "b(\"apple\")"
   ]
  },
  {
   "cell_type": "code",
   "execution_count": 8,
   "id": "04a85e41",
   "metadata": {},
   "outputs": [
    {
     "data": {
      "text/plain": [
       "False"
      ]
     },
     "execution_count": 8,
     "metadata": {},
     "output_type": "execute_result"
    }
   ],
   "source": [
    "b(\"banana\")"
   ]
  },
  {
   "cell_type": "code",
   "execution_count": 9,
   "id": "15984286",
   "metadata": {},
   "outputs": [
    {
     "data": {
      "text/plain": [
       "'odd'"
      ]
     },
     "execution_count": 9,
     "metadata": {},
     "output_type": "execute_result"
    }
   ],
   "source": [
    "b= lambda x:'Even' if x%2==0 else \"odd\"\n",
    "b(3)"
   ]
  },
  {
   "cell_type": "code",
   "execution_count": 10,
   "id": "bd596282",
   "metadata": {},
   "outputs": [
    {
     "data": {
      "text/plain": [
       "'Even'"
      ]
     },
     "execution_count": 10,
     "metadata": {},
     "output_type": "execute_result"
    }
   ],
   "source": [
    "b(10)"
   ]
  },
  {
   "cell_type": "code",
   "execution_count": 12,
   "id": "e96f133b",
   "metadata": {},
   "outputs": [],
   "source": [
    "L=[1,26,24,56,456,44,45]\n",
    "#sum of all even\n",
    "#output all odd\n",
    "#all numbers divisible by 3 sum\n",
    "def return_sum(L):\n",
    "    even_sum=0\n",
    "    odd_sum=0\n",
    "    div3_sum=0\n",
    "    if i%2==0:\n",
    "        even_sum= even_sum+i\n",
    "    if i%2 !=0:\n",
    "        odd_sum= odd_sum +i\n",
    "    return(even_sum,odd)"
   ]
  },
  {
   "cell_type": "code",
   "execution_count": 22,
   "id": "9a5d0582",
   "metadata": {},
   "outputs": [
    {
     "name": "stdout",
     "output_type": "stream",
     "text": [
      "606\n"
     ]
    }
   ],
   "source": [
    "#Higher order function\n",
    "def return_smth(func,L):\n",
    "    result = 0\n",
    "    for i in L:\n",
    "        if func(i):\n",
    "            result = result + i\n",
    "    return result\n",
    "L=[1,26,24,56,456,44,45]\n",
    "x =lambda x: x%2==0\n",
    "y= lambda x: x%2!=0\n",
    "z= lambda x:x%3 ==0\n",
    "print(return_smth(x,L))\n",
    "    "
   ]
  },
  {
   "cell_type": "code",
   "execution_count": 23,
   "id": "a09a443d",
   "metadata": {},
   "outputs": [
    {
     "name": "stdout",
     "output_type": "stream",
     "text": [
      "46\n"
     ]
    }
   ],
   "source": [
    "print(return_smth(y,L))"
   ]
  },
  {
   "cell_type": "code",
   "execution_count": 24,
   "id": "1f5f105c",
   "metadata": {},
   "outputs": [
    {
     "name": "stdout",
     "output_type": "stream",
     "text": [
      "525\n"
     ]
    }
   ],
   "source": [
    "print(return_smth(z,L))"
   ]
  },
  {
   "cell_type": "markdown",
   "id": "b3d2863d",
   "metadata": {},
   "source": [
    "# Map function"
   ]
  },
  {
   "cell_type": "code",
   "execution_count": 25,
   "id": "8407c0a4",
   "metadata": {},
   "outputs": [
    {
     "data": {
      "text/plain": [
       "[1, 2, 3]"
      ]
     },
     "execution_count": 25,
     "metadata": {},
     "output_type": "execute_result"
    }
   ],
   "source": [
    "K= [1,2,3]\n",
    "K"
   ]
  },
  {
   "cell_type": "code",
   "execution_count": 26,
   "id": "ef8a1b99",
   "metadata": {},
   "outputs": [
    {
     "data": {
      "text/plain": [
       "<map at 0x1a12b6e4eb0>"
      ]
     },
     "execution_count": 26,
     "metadata": {},
     "output_type": "execute_result"
    }
   ],
   "source": [
    "map(lambda x:x*2,K)"
   ]
  },
  {
   "cell_type": "code",
   "execution_count": 27,
   "id": "e9b52328",
   "metadata": {},
   "outputs": [
    {
     "data": {
      "text/plain": [
       "[2, 4, 6]"
      ]
     },
     "execution_count": 27,
     "metadata": {},
     "output_type": "execute_result"
    }
   ],
   "source": [
    "list(map(lambda x:x*2,K))"
   ]
  },
  {
   "cell_type": "code",
   "execution_count": 28,
   "id": "78ca2ada",
   "metadata": {},
   "outputs": [
    {
     "data": {
      "text/plain": [
       "[False, True, True, True, True, True, False]"
      ]
     },
     "execution_count": 28,
     "metadata": {},
     "output_type": "execute_result"
    }
   ],
   "source": [
    "list(map(lambda x:x%2==0,L))"
   ]
  },
  {
   "cell_type": "markdown",
   "id": "6a680ec5",
   "metadata": {},
   "source": [
    "# Filter"
   ]
  },
  {
   "cell_type": "code",
   "execution_count": 29,
   "id": "06d339d0",
   "metadata": {},
   "outputs": [
    {
     "data": {
      "text/plain": [
       "[5]"
      ]
     },
     "execution_count": 29,
     "metadata": {},
     "output_type": "execute_result"
    }
   ],
   "source": [
    "a=[1,2,3,4,5]\n",
    "list(filter(lambda x:x>4,a))"
   ]
  },
  {
   "cell_type": "code",
   "execution_count": 30,
   "id": "a88491aa",
   "metadata": {},
   "outputs": [
    {
     "data": {
      "text/plain": [
       "['apple', 'orange']"
      ]
     },
     "execution_count": 30,
     "metadata": {},
     "output_type": "execute_result"
    }
   ],
   "source": [
    "fruits = ['Mango','apple','orange']\n",
    "list(filter(lambda fruit:'e' in fruit,fruits))"
   ]
  },
  {
   "cell_type": "markdown",
   "id": "14c9b336",
   "metadata": {},
   "source": [
    "# Reduce"
   ]
  },
  {
   "cell_type": "code",
   "execution_count": 31,
   "id": "c0d9be20",
   "metadata": {},
   "outputs": [],
   "source": [
    "#import reduce\n",
    "import functools"
   ]
  },
  {
   "cell_type": "code",
   "execution_count": 32,
   "id": "23c8c62f",
   "metadata": {},
   "outputs": [
    {
     "data": {
      "text/plain": [
       "9"
      ]
     },
     "execution_count": 32,
     "metadata": {},
     "output_type": "execute_result"
    }
   ],
   "source": [
    "b=[1,2,3,4,6,7,9]\n",
    "functools.reduce(lambda x,y:x if x>y else y,b)"
   ]
  },
  {
   "cell_type": "code",
   "execution_count": 33,
   "id": "79e43d1b",
   "metadata": {},
   "outputs": [
    {
     "data": {
      "text/plain": [
       "1"
      ]
     },
     "execution_count": 33,
     "metadata": {},
     "output_type": "execute_result"
    }
   ],
   "source": [
    "functools.reduce(lambda x,y:x if x<y else y,b)"
   ]
  },
  {
   "cell_type": "markdown",
   "id": "85d25cab",
   "metadata": {},
   "source": [
    "# List comprehension"
   ]
  },
  {
   "cell_type": "code",
   "execution_count": 34,
   "id": "640c2e22",
   "metadata": {},
   "outputs": [],
   "source": [
    "L=[2,3,5,6]\n",
    "L1 =[item *2 for item in L]"
   ]
  },
  {
   "cell_type": "code",
   "execution_count": 35,
   "id": "c5861b4e",
   "metadata": {},
   "outputs": [
    {
     "data": {
      "text/plain": [
       "[4, 6, 10, 12]"
      ]
     },
     "execution_count": 35,
     "metadata": {},
     "output_type": "execute_result"
    }
   ],
   "source": [
    "L1"
   ]
  },
  {
   "cell_type": "code",
   "execution_count": 36,
   "id": "d7e773ab",
   "metadata": {},
   "outputs": [],
   "source": [
    "L3 = [item **2 for item in L]"
   ]
  },
  {
   "cell_type": "code",
   "execution_count": 37,
   "id": "d132ac34",
   "metadata": {},
   "outputs": [
    {
     "data": {
      "text/plain": [
       "[4, 9, 25, 36]"
      ]
     },
     "execution_count": 37,
     "metadata": {},
     "output_type": "execute_result"
    }
   ],
   "source": [
    "L3"
   ]
  },
  {
   "cell_type": "code",
   "execution_count": 44,
   "id": "2916cbca",
   "metadata": {},
   "outputs": [],
   "source": [
    "L4 =[i **2 for i in range(10) if i%2!=0]"
   ]
  },
  {
   "cell_type": "code",
   "execution_count": 45,
   "id": "9ff51cd9",
   "metadata": {},
   "outputs": [
    {
     "data": {
      "text/plain": [
       "[1, 9, 25, 49, 81]"
      ]
     },
     "execution_count": 45,
     "metadata": {},
     "output_type": "execute_result"
    }
   ],
   "source": [
    "L4"
   ]
  },
  {
   "cell_type": "markdown",
   "id": "d8b93c19",
   "metadata": {},
   "source": [
    "# Disctionary comprehension"
   ]
  },
  {
   "cell_type": "code",
   "execution_count": 46,
   "id": "394d8023",
   "metadata": {},
   "outputs": [],
   "source": [
    "dictionary = {\"name\":\"Ahmed\",\"Gender\":\"Male\",\"Age\":22}"
   ]
  },
  {
   "cell_type": "code",
   "execution_count": 47,
   "id": "73574c22",
   "metadata": {},
   "outputs": [
    {
     "data": {
      "text/plain": [
       "dict_items([('name', 'Ahmed'), ('Gender', 'Male'), ('Age', 22)])"
      ]
     },
     "execution_count": 47,
     "metadata": {},
     "output_type": "execute_result"
    }
   ],
   "source": [
    "dictionary.items()"
   ]
  },
  {
   "cell_type": "code",
   "execution_count": 49,
   "id": "9c9f3fc0",
   "metadata": {},
   "outputs": [],
   "source": [
    "D1={key:value for key,value in dictionary.items() if len(key)>3}"
   ]
  },
  {
   "cell_type": "code",
   "execution_count": 50,
   "id": "966d3f18",
   "metadata": {},
   "outputs": [
    {
     "data": {
      "text/plain": [
       "{'name': 'Ahmed', 'Gender': 'Male'}"
      ]
     },
     "execution_count": 50,
     "metadata": {},
     "output_type": "execute_result"
    }
   ],
   "source": [
    "D1"
   ]
  }
 ],
 "metadata": {
  "kernelspec": {
   "display_name": "Python 3 (ipykernel)",
   "language": "python",
   "name": "python3"
  },
  "language_info": {
   "codemirror_mode": {
    "name": "ipython",
    "version": 3
   },
   "file_extension": ".py",
   "mimetype": "text/x-python",
   "name": "python",
   "nbconvert_exporter": "python",
   "pygments_lexer": "ipython3",
   "version": "3.11.5"
  }
 },
 "nbformat": 4,
 "nbformat_minor": 5
}
