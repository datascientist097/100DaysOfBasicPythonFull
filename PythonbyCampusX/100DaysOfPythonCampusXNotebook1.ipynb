{
 "cells": [
  {
   "cell_type": "markdown",
   "id": "c51fdd46",
   "metadata": {},
   "source": [
    "# 100 Days of Python by Campus X"
   ]
  },
  {
   "cell_type": "markdown",
   "id": "3eb6fbf7",
   "metadata": {},
   "source": [
    "Guido's Vision & Philosophy: \n",
    "<p>Guido van Rossum conceived Python in the late 1980s to prioritize code readability and developer productivity, guided by the principles of simplicity and clarity in \"The Zen of Python.\"<p>\n",
    "\n",
    "Versatility Across Domains:\n",
    "<p>Python's versatility is evident in its applications across web development, data science, AI, automation, and scripting, making it a preferred language for a wide range of tasks.<p>\n",
    "\n",
    "Accessibility and Learning:\n",
    "<p>Python's beginner-friendly syntax and readability facilitate easy learning, contributing to its widespread adoption in educational settings and as a starting point for new programmers.<p>\n",
    "\n",
    "Community-Driven Development:\n",
    "<p>Python's vibrant community and open-source model have fueled its growth, resulting in a rich ecosystem of libraries, frameworks, and tools that continually enhance the language.<p>\n",
    "\n",
    "Python 2 to 3 Transition:\n",
    "<p>In 2008, Python underwent a significant transition from Python 2 to 3, reflecting a commitment to addressing inconsistencies and modernizing the language.<p>\n",
    "\n",
    "Abundant Standard and Third-Party Libraries:\n",
    "<p>Python's robust standard library and extensive third-party packages simplify development by offering pre-built modules, reducing the need to build from scratch.<p>\n",
    "\n",
    "Surging Popularity:\n",
    "<p>Python's popularity has consistently risen, securing its place among the top programming languages, appealing not only to developers but also to scientists, engineers, and professionals in various fields.<p>\n",
    "\n",
    "Industry Giants and Python:\n",
    "<p>Major companies like Google, Facebook, and Dropbox leverage Python for critical projects, showcasing its adaptability and making it a go-to language in the tech industry.<p>\n",
    "\n",
    "Adaptability and Industry Alignment:\n",
    "<p>Python's adaptability aligns well with industry demands, contributing to its widespread adoption and use in critical projects across diverse sectors.<p>\n",
    "\n",
    "Continuous Evolution:\n",
    "<p>Python's continuous evolution through regular updates and improvements ensures its relevance in the ever-changing technological landscape, solidifying its position as a powerful and versatile programming language.<p><p>"
   ]
  },
  {
   "cell_type": "markdown",
   "id": "d6b7f6e3",
   "metadata": {},
   "source": [
    " # 1.  Day 1 The print function"
   ]
  },
  {
   "cell_type": "code",
   "execution_count": 3,
   "id": "4653317e",
   "metadata": {},
   "outputs": [
    {
     "name": "stdout",
     "output_type": "stream",
     "text": [
      "Hello world\n"
     ]
    }
   ],
   "source": [
    "print(\"Hello world\")"
   ]
  },
  {
   "cell_type": "code",
   "execution_count": 4,
   "id": "c00ae7df",
   "metadata": {},
   "outputs": [
    {
     "name": "stdout",
     "output_type": "stream",
     "text": [
      "10\n"
     ]
    }
   ],
   "source": [
    "print(10)"
   ]
  },
  {
   "cell_type": "code",
   "execution_count": 5,
   "id": "0f9c6eae",
   "metadata": {},
   "outputs": [
    {
     "name": "stdout",
     "output_type": "stream",
     "text": [
      "Ahmed\n"
     ]
    }
   ],
   "source": [
    "print('Ahmed')"
   ]
  },
  {
   "cell_type": "code",
   "execution_count": 6,
   "id": "ebd95076",
   "metadata": {},
   "outputs": [
    {
     "name": "stdout",
     "output_type": "stream",
     "text": [
      "pak Japan\n"
     ]
    }
   ],
   "source": [
    "print(\"pak\",\"Japan\")"
   ]
  },
  {
   "cell_type": "code",
   "execution_count": 8,
   "id": "63926438",
   "metadata": {},
   "outputs": [
    {
     "name": "stdout",
     "output_type": "stream",
     "text": [
      "False\n"
     ]
    }
   ],
   "source": [
    "print(False)"
   ]
  },
  {
   "cell_type": "code",
   "execution_count": 10,
   "id": "4037bee9",
   "metadata": {},
   "outputs": [
    {
     "name": "stdout",
     "output_type": "stream",
     "text": [
      "True\n"
     ]
    }
   ],
   "source": [
    "print(True)"
   ]
  },
  {
   "cell_type": "code",
   "execution_count": 12,
   "id": "cc778c05",
   "metadata": {},
   "outputs": [
    {
     "name": "stdout",
     "output_type": "stream",
     "text": [
      "pak/Japan\n"
     ]
    }
   ],
   "source": [
    "print(\"pak\",\"Japan\", sep='/')"
   ]
  },
  {
   "cell_type": "code",
   "execution_count": 13,
   "id": "5455149e",
   "metadata": {},
   "outputs": [
    {
     "name": "stdout",
     "output_type": "stream",
     "text": [
      "pak-Japan\n"
     ]
    }
   ],
   "source": [
    "print(\"pak\",\"Japan\", sep='-')"
   ]
  },
  {
   "cell_type": "code",
   "execution_count": 14,
   "id": "4c75ca1c",
   "metadata": {},
   "outputs": [
    {
     "name": "stdout",
     "output_type": "stream",
     "text": [
      "hELLO world\n"
     ]
    }
   ],
   "source": [
    "print(\"hELLO\",end=' ')\n",
    "print(\"world\")"
   ]
  },
  {
   "cell_type": "markdown",
   "id": "875e72f6",
   "metadata": {},
   "source": [
    "#  2. Data Types in Python"
   ]
  },
  {
   "cell_type": "markdown",
   "id": "ccb530eb",
   "metadata": {},
   "source": [
    "python supports 3 data types\n",
    "Basic Types (integer, float, complex , boolean and string)\n",
    "container types (List , Tuples, sets and Dictionary)\n",
    "user defined types - (class)"
   ]
  },
  {
   "cell_type": "code",
   "execution_count": 16,
   "id": "f16dbb1e",
   "metadata": {},
   "outputs": [
    {
     "name": "stdout",
     "output_type": "stream",
     "text": [
      "4\n",
      "inf\n"
     ]
    }
   ],
   "source": [
    "#integer\n",
    "print(4)\n",
    "print(1e309)"
   ]
  },
  {
   "cell_type": "code",
   "execution_count": 17,
   "id": "17780039",
   "metadata": {},
   "outputs": [
    {
     "name": "stdout",
     "output_type": "stream",
     "text": [
      "4.5\n",
      "1.7e+308\n"
     ]
    }
   ],
   "source": [
    "#float\n",
    "print(4.5)\n",
    "print(1.7e308)"
   ]
  },
  {
   "cell_type": "code",
   "execution_count": 18,
   "id": "78876b43",
   "metadata": {},
   "outputs": [
    {
     "name": "stdout",
     "output_type": "stream",
     "text": [
      "True\n",
      "False\n"
     ]
    }
   ],
   "source": [
    "#boolean\n",
    "print(True)\n",
    "print(False)"
   ]
  },
  {
   "cell_type": "code",
   "execution_count": 19,
   "id": "fb2da6cd",
   "metadata": {},
   "outputs": [
    {
     "name": "stdout",
     "output_type": "stream",
     "text": [
      "(4+5j)\n"
     ]
    }
   ],
   "source": [
    "#complex\n",
    "print(4+5j)"
   ]
  },
  {
   "cell_type": "code",
   "execution_count": 22,
   "id": "3b06c1df",
   "metadata": {},
   "outputs": [
    {
     "name": "stdout",
     "output_type": "stream",
     "text": [
      "Ahmed\n",
      "Ali\n",
      "Ahmed khan\n"
     ]
    }
   ],
   "source": [
    "#string\n",
    "print(\"Ahmed\")\n",
    "print('Ali')\n",
    "print(\"\"\"Ahmed khan\"\"\")"
   ]
  },
  {
   "cell_type": "code",
   "execution_count": 23,
   "id": "318cbe59",
   "metadata": {},
   "outputs": [
    {
     "name": "stdout",
     "output_type": "stream",
     "text": [
      "[1, 2, 3]\n"
     ]
    }
   ],
   "source": [
    "#list\n",
    "print([1,2,3])"
   ]
  },
  {
   "cell_type": "code",
   "execution_count": 24,
   "id": "e5f068b5",
   "metadata": {},
   "outputs": [
    {
     "name": "stdout",
     "output_type": "stream",
     "text": [
      "(1, 2, 3)\n"
     ]
    }
   ],
   "source": [
    "#tuple\n",
    "print((1,2,3))"
   ]
  },
  {
   "cell_type": "code",
   "execution_count": 25,
   "id": "56a9858c",
   "metadata": {},
   "outputs": [
    {
     "name": "stdout",
     "output_type": "stream",
     "text": [
      "{1, 2, 3}\n"
     ]
    }
   ],
   "source": [
    "#sets\n",
    "print({1,2,3})"
   ]
  },
  {
   "cell_type": "code",
   "execution_count": 27,
   "id": "c2b56674",
   "metadata": {},
   "outputs": [
    {
     "name": "stdout",
     "output_type": "stream",
     "text": [
      "{'Name': 'Ahmed', 'Age': 22, 'gender': 'Male'}\n"
     ]
    }
   ],
   "source": [
    "#dictionary \n",
    "print({\"Name\":\"Ahmed\",\"Age\":22,\"gender\":'Male'})"
   ]
  },
  {
   "cell_type": "markdown",
   "id": "9e8a07f0",
   "metadata": {},
   "source": [
    "# 3.  comments in Python"
   ]
  },
  {
   "cell_type": "markdown",
   "id": "20cb230e",
   "metadata": {},
   "source": [
    "comments video 3"
   ]
  },
  {
   "cell_type": "code",
   "execution_count": 28,
   "id": "c3d917be",
   "metadata": {},
   "outputs": [],
   "source": [
    "#comments\n",
    "#A piece of code that compiler will not execute\n",
    "#To understand code\n"
   ]
  },
  {
   "cell_type": "markdown",
   "id": "544d6dda",
   "metadata": {},
   "source": [
    "#  4. Variables in python"
   ]
  },
  {
   "cell_type": "code",
   "execution_count": 29,
   "id": "7fa19b9c",
   "metadata": {},
   "outputs": [],
   "source": [
    "name = \"Ahmed Ali khan\""
   ]
  },
  {
   "cell_type": "code",
   "execution_count": 30,
   "id": "c6da8952",
   "metadata": {},
   "outputs": [
    {
     "name": "stdout",
     "output_type": "stream",
     "text": [
      "Ahmed Ali khan\n"
     ]
    }
   ],
   "source": [
    "print(name)"
   ]
  },
  {
   "cell_type": "code",
   "execution_count": 31,
   "id": "244d2125",
   "metadata": {},
   "outputs": [],
   "source": [
    "#No variable deceleration \n"
   ]
  },
  {
   "cell_type": "code",
   "execution_count": 32,
   "id": "2a10ac36",
   "metadata": {},
   "outputs": [],
   "source": [
    "#Its called Dynamic typing in which we dont have to specify a data type\n",
    "#static typing in which we have to specify a data type"
   ]
  },
  {
   "cell_type": "code",
   "execution_count": 33,
   "id": "f6ec588f",
   "metadata": {},
   "outputs": [
    {
     "name": "stdout",
     "output_type": "stream",
     "text": [
      "Ahmed Ali khan\n"
     ]
    }
   ],
   "source": [
    "print(name)"
   ]
  },
  {
   "cell_type": "code",
   "execution_count": 34,
   "id": "0e6788fa",
   "metadata": {},
   "outputs": [
    {
     "name": "stdout",
     "output_type": "stream",
     "text": [
      "4\n"
     ]
    }
   ],
   "source": [
    "name = 4\n",
    "print(name)"
   ]
  },
  {
   "cell_type": "code",
   "execution_count": 35,
   "id": "24fb6968",
   "metadata": {},
   "outputs": [
    {
     "name": "stdout",
     "output_type": "stream",
     "text": [
      "True\n"
     ]
    }
   ],
   "source": [
    "name = True\n",
    "print(name)"
   ]
  },
  {
   "cell_type": "code",
   "execution_count": 36,
   "id": "5fb063ee",
   "metadata": {},
   "outputs": [],
   "source": [
    "#Dynamic Binding"
   ]
  },
  {
   "cell_type": "code",
   "execution_count": 37,
   "id": "9dc5c3a8",
   "metadata": {},
   "outputs": [
    {
     "name": "stdout",
     "output_type": "stream",
     "text": [
      "5\n"
     ]
    }
   ],
   "source": [
    "# special syntac\n",
    "a=5; b=6 ; c=7\n",
    "print(a)"
   ]
  },
  {
   "cell_type": "code",
   "execution_count": 38,
   "id": "2476d38f",
   "metadata": {},
   "outputs": [
    {
     "name": "stdout",
     "output_type": "stream",
     "text": [
      "3 5 6\n"
     ]
    }
   ],
   "source": [
    "a,b,c=3,5,6\n",
    "print (a,b,c)"
   ]
  },
  {
   "cell_type": "markdown",
   "id": "1532d9c2",
   "metadata": {},
   "source": [
    "#  5. Keywords in Python 33"
   ]
  },
  {
   "cell_type": "code",
   "execution_count": 1,
   "id": "37f26283",
   "metadata": {},
   "outputs": [
    {
     "name": "stdout",
     "output_type": "stream",
     "text": [
      "['False', 'None', 'True', 'and', 'as', 'assert', 'async', 'await', 'break', 'class', 'continue', 'def', 'del', 'elif', 'else', 'except', 'finally', 'for', 'from', 'global', 'if', 'import', 'in', 'is', 'lambda', 'nonlocal', 'not', 'or', 'pass', 'raise', 'return', 'try', 'while', 'with', 'yield']\n"
     ]
    }
   ],
   "source": [
    "#python has 33 key words\n",
    "import keyword\n",
    "print(keyword.kwlist)"
   ]
  },
  {
   "cell_type": "code",
   "execution_count": 2,
   "id": "4510cebb",
   "metadata": {},
   "outputs": [],
   "source": [
    "#key words are the pre defined words that have a specific purpose defined by the developer of the language"
   ]
  },
  {
   "cell_type": "markdown",
   "id": "f0e0c0fa",
   "metadata": {},
   "source": [
    "# 6. Identifiers"
   ]
  },
  {
   "cell_type": "code",
   "execution_count": 3,
   "id": "17822096",
   "metadata": {},
   "outputs": [],
   "source": [
    "# A python identifier is a name used to identify a variable , function, class , module or object"
   ]
  },
  {
   "cell_type": "code",
   "execution_count": 4,
   "id": "72b64393",
   "metadata": {},
   "outputs": [
    {
     "ename": "SyntaxError",
     "evalue": "incomplete input (2160247686.py, line 2)",
     "output_type": "error",
     "traceback": [
      "\u001b[1;36m  Cell \u001b[1;32mIn[4], line 2\u001b[1;36m\u001b[0m\n\u001b[1;33m    print(#)\u001b[0m\n\u001b[1;37m            ^\u001b[0m\n\u001b[1;31mSyntaxError\u001b[0m\u001b[1;31m:\u001b[0m incomplete input\n"
     ]
    }
   ],
   "source": [
    "# = \"Ahmed\"\n",
    "print(#)"
   ]
  },
  {
   "cell_type": "code",
   "execution_count": 5,
   "id": "1bddf885",
   "metadata": {},
   "outputs": [
    {
     "name": "stdout",
     "output_type": "stream",
     "text": [
      "Ahmed\n"
     ]
    }
   ],
   "source": [
    "name = \"Ahmed\"\n",
    "print(name)"
   ]
  },
  {
   "cell_type": "code",
   "execution_count": 6,
   "id": "f5b52336",
   "metadata": {},
   "outputs": [],
   "source": [
    "my_var = 'Raja Ahmed Ali khan'"
   ]
  },
  {
   "cell_type": "code",
   "execution_count": null,
   "id": "d33db4ad",
   "metadata": {},
   "outputs": [],
   "source": [
    "print(my_var)"
   ]
  },
  {
   "cell_type": "code",
   "execution_count": 8,
   "id": "a29db39a",
   "metadata": {},
   "outputs": [],
   "source": [
    "#you cant use key word as a identifier"
   ]
  },
  {
   "cell_type": "markdown",
   "id": "e9c30766",
   "metadata": {},
   "source": [
    "# 7. Taking user input in python"
   ]
  },
  {
   "cell_type": "code",
   "execution_count": 9,
   "id": "4e3e3dcf",
   "metadata": {},
   "outputs": [],
   "source": [
    "# clock is a static applications \n",
    "# calander software\n",
    "\n",
    "#Dynamic softwares in which there is a 2 way communication example \"Youtube and all what we use today\""
   ]
  },
  {
   "cell_type": "code",
   "execution_count": 11,
   "id": "85dac2e7",
   "metadata": {},
   "outputs": [
    {
     "name": "stdout",
     "output_type": "stream",
     "text": [
      "Enter Your name \n",
      "Ahmed Ali\n"
     ]
    }
   ],
   "source": [
    "name = input ('Enter Your name \\n')"
   ]
  },
  {
   "cell_type": "code",
   "execution_count": null,
   "id": "857d01c8",
   "metadata": {},
   "outputs": [],
   "source": [
    "print(\"My name is \" + name)"
   ]
  },
  {
   "cell_type": "code",
   "execution_count": 19,
   "id": "57f671b3",
   "metadata": {},
   "outputs": [
    {
     "name": "stdout",
     "output_type": "stream",
     "text": [
      "Enter the first name100\n",
      "Enter the second number10\n"
     ]
    }
   ],
   "source": [
    "first_num = input(\"Enter the first name\")\n",
    "second_num = input (\"Enter the second number\")"
   ]
  },
  {
   "cell_type": "code",
   "execution_count": 20,
   "id": "830921a8",
   "metadata": {},
   "outputs": [
    {
     "name": "stdout",
     "output_type": "stream",
     "text": [
      "10010\n"
     ]
    }
   ],
   "source": [
    "result = first_num + second_num\n",
    "print(result)"
   ]
  },
  {
   "cell_type": "code",
   "execution_count": 21,
   "id": "ffc5a177",
   "metadata": {},
   "outputs": [
    {
     "data": {
      "text/plain": [
       "int"
      ]
     },
     "execution_count": 21,
     "metadata": {},
     "output_type": "execute_result"
    }
   ],
   "source": [
    "# type function\n",
    "type(4)"
   ]
  },
  {
   "cell_type": "markdown",
   "id": "e7f3d9d9",
   "metadata": {},
   "source": [
    "# 8. Type conversion"
   ]
  },
  {
   "cell_type": "code",
   "execution_count": 22,
   "id": "a765c7cd",
   "metadata": {},
   "outputs": [],
   "source": [
    "# implicit type conversion when automatically conversion is done\n",
    "# explicit type conversion when programmer have to do conversion as needed"
   ]
  },
  {
   "cell_type": "code",
   "execution_count": 23,
   "id": "900de325",
   "metadata": {},
   "outputs": [
    {
     "data": {
      "text/plain": [
       "9.5"
      ]
     },
     "execution_count": 23,
     "metadata": {},
     "output_type": "execute_result"
    }
   ],
   "source": [
    "# implicit type conversion example\n",
    "4+5.5"
   ]
  },
  {
   "cell_type": "code",
   "execution_count": 24,
   "id": "34d07e99",
   "metadata": {},
   "outputs": [
    {
     "data": {
      "text/plain": [
       "(11+7j)"
      ]
     },
     "execution_count": 24,
     "metadata": {},
     "output_type": "execute_result"
    }
   ],
   "source": [
    "5+6+7j"
   ]
  },
  {
   "cell_type": "code",
   "execution_count": 25,
   "id": "0bdf3a96",
   "metadata": {},
   "outputs": [
    {
     "data": {
      "text/plain": [
       "'10010'"
      ]
     },
     "execution_count": 25,
     "metadata": {},
     "output_type": "execute_result"
    }
   ],
   "source": [
    "first_num + second_num"
   ]
  },
  {
   "cell_type": "code",
   "execution_count": 26,
   "id": "e2570a6a",
   "metadata": {},
   "outputs": [],
   "source": [
    "# we use builtin functions to perform  explicit conversion"
   ]
  },
  {
   "cell_type": "code",
   "execution_count": 27,
   "id": "0c799ce3",
   "metadata": {},
   "outputs": [
    {
     "data": {
      "text/plain": [
       "45"
      ]
     },
     "execution_count": 27,
     "metadata": {},
     "output_type": "execute_result"
    }
   ],
   "source": [
    "int('45')"
   ]
  },
  {
   "cell_type": "code",
   "execution_count": 28,
   "id": "09eb80cf",
   "metadata": {},
   "outputs": [
    {
     "data": {
      "text/plain": [
       "43"
      ]
     },
     "execution_count": 28,
     "metadata": {},
     "output_type": "execute_result"
    }
   ],
   "source": [
    "int(43.4)"
   ]
  },
  {
   "cell_type": "code",
   "execution_count": 29,
   "id": "c29cc28e",
   "metadata": {},
   "outputs": [
    {
     "data": {
      "text/plain": [
       "4.0"
      ]
     },
     "execution_count": 29,
     "metadata": {},
     "output_type": "execute_result"
    }
   ],
   "source": [
    "float(4)"
   ]
  },
  {
   "cell_type": "code",
   "execution_count": 34,
   "id": "8c15c2b6",
   "metadata": {},
   "outputs": [
    {
     "data": {
      "text/plain": [
       "'5'"
      ]
     },
     "execution_count": 34,
     "metadata": {},
     "output_type": "execute_result"
    }
   ],
   "source": [
    "str(5)"
   ]
  },
  {
   "cell_type": "code",
   "execution_count": 35,
   "id": "a0a848da",
   "metadata": {},
   "outputs": [
    {
     "data": {
      "text/plain": [
       "['h', 'e', 'l', 'l', 'o']"
      ]
     },
     "execution_count": 35,
     "metadata": {},
     "output_type": "execute_result"
    }
   ],
   "source": [
    "list(\"hello\")"
   ]
  },
  {
   "cell_type": "code",
   "execution_count": 37,
   "id": "d218bb53",
   "metadata": {},
   "outputs": [
    {
     "data": {
      "text/plain": [
       "(4+0j)"
      ]
     },
     "execution_count": 37,
     "metadata": {},
     "output_type": "execute_result"
    }
   ],
   "source": [
    "complex(4)"
   ]
  },
  {
   "cell_type": "code",
   "execution_count": 38,
   "id": "4a50dcc7",
   "metadata": {},
   "outputs": [],
   "source": [
    "#type conversion is not a permanent operating\n",
    "#while type casting is a permanent operation"
   ]
  },
  {
   "cell_type": "code",
   "execution_count": 40,
   "id": "f14fdb65",
   "metadata": {},
   "outputs": [
    {
     "name": "stdout",
     "output_type": "stream",
     "text": [
      "Enter number 1:11\n",
      "Enter number 2:111\n",
      "122\n"
     ]
    }
   ],
   "source": [
    "num_1 = input(\"Enter number 1:\")\n",
    "num_2 = input(\"Enter number 2:\")\n",
    "result = int(num_1) + int(num_2)\n",
    "print(result)"
   ]
  },
  {
   "cell_type": "code",
   "execution_count": 41,
   "id": "d14dd69c",
   "metadata": {},
   "outputs": [
    {
     "name": "stdout",
     "output_type": "stream",
     "text": [
      "Enter number 1:11\n",
      "Enter number 2:22\n",
      "33\n"
     ]
    }
   ],
   "source": [
    "num_1 = int(input(\"Enter number 1:\"))\n",
    "num_2 = int(input(\"Enter number 2:\"))\n",
    "result = num_1 + num_2\n",
    "print(result)"
   ]
  },
  {
   "cell_type": "markdown",
   "id": "209288d4",
   "metadata": {},
   "source": [
    "# 9. Literals in Python"
   ]
  },
  {
   "cell_type": "markdown",
   "id": "ea7a09f9",
   "metadata": {},
   "source": [
    "Literal is raw data given in a variable. Types are as following <br>\n",
    "<b> i.  Numeric literals <br>\n",
    "ii. string literals <br>\n",
    "iii. Boolean literals<br>\n",
    "iv. Special literals<br> <b>\n",
    "    ------------------------------------"
   ]
  },
  {
   "cell_type": "markdown",
   "id": "02d97141",
   "metadata": {},
   "source": [
    "<b> i. Numeric Literals"
   ]
  },
  {
   "cell_type": "code",
   "execution_count": 46,
   "id": "1220dfc1",
   "metadata": {},
   "outputs": [
    {
     "name": "stdout",
     "output_type": "stream",
     "text": [
      "21 100 200 300\n"
     ]
    }
   ],
   "source": [
    "a= 0b10101 #binary\n",
    "b = 100 #decimal\n",
    "c= 0o310 #Octal\n",
    "d= 0x12c #hexadecimal\n",
    "print(a,b,c,d)"
   ]
  },
  {
   "cell_type": "code",
   "execution_count": 47,
   "id": "d5f058eb",
   "metadata": {},
   "outputs": [
    {
     "name": "stdout",
     "output_type": "stream",
     "text": [
      "10.5 150.0 0.0015\n"
     ]
    }
   ],
   "source": [
    "#float literals\n",
    "float_1 = 10.5\n",
    "float_2 = 1.5e2\n",
    "float_3 = 1.5e-3\n",
    "print(float_1,float_2,float_3)"
   ]
  },
  {
   "cell_type": "code",
   "execution_count": 49,
   "id": "abeedb87",
   "metadata": {},
   "outputs": [
    {
     "name": "stdout",
     "output_type": "stream",
     "text": [
      "3.14j 3.14 0.0\n"
     ]
    }
   ],
   "source": [
    "#complex literals\n",
    "x = 3.14j\n",
    "print(x, x.imag, x.real)"
   ]
  },
  {
   "cell_type": "markdown",
   "id": "4785fa55",
   "metadata": {},
   "source": [
    "<b> ii. string literals"
   ]
  },
  {
   "cell_type": "code",
   "execution_count": 54,
   "id": "cc348829",
   "metadata": {},
   "outputs": [
    {
     "name": "stdout",
     "output_type": "stream",
     "text": [
      "Ahmed Im Ahmed A This is Ahmed Ali notebook\n",
      "and im doing 100 days of python 😀 raw \\n string\n"
     ]
    }
   ],
   "source": [
    "string = 'Ahmed'\n",
    "strings = \"Im Ahmed\"\n",
    "char = \"A\"\n",
    "multiLinestring = \"\"\"This is Ahmed Ali notebook\n",
    "and im doing 100 days of python\"\"\"\n",
    "unicode = u\"\\U0001f600\"\n",
    "raw_str = r\"raw \\n string\"\n",
    "print(string, strings, char, multiLinestring,unicode, raw_str)"
   ]
  },
  {
   "cell_type": "markdown",
   "id": "592ea000",
   "metadata": {},
   "source": [
    "<b> iii. boolean Literals <b>"
   ]
  },
  {
   "cell_type": "code",
   "execution_count": 55,
   "id": "c1029615",
   "metadata": {},
   "outputs": [
    {
     "name": "stdout",
     "output_type": "stream",
     "text": [
      "2\n"
     ]
    }
   ],
   "source": [
    "a= True +1\n",
    "print(a)"
   ]
  },
  {
   "cell_type": "code",
   "execution_count": 56,
   "id": "e03fd50f",
   "metadata": {},
   "outputs": [
    {
     "name": "stdout",
     "output_type": "stream",
     "text": [
      "11\n"
     ]
    }
   ],
   "source": [
    "b= False + 11\n",
    "print(b)"
   ]
  },
  {
   "cell_type": "markdown",
   "id": "57f6bf8f",
   "metadata": {},
   "source": [
    "<b> iv. Special Literals <b>"
   ]
  },
  {
   "cell_type": "code",
   "execution_count": 58,
   "id": "4c599d05",
   "metadata": {},
   "outputs": [
    {
     "name": "stdout",
     "output_type": "stream",
     "text": [
      "None\n"
     ]
    }
   ],
   "source": [
    "a = None\n",
    "print(a)"
   ]
  },
  {
   "cell_type": "code",
   "execution_count": 61,
   "id": "41c2b570",
   "metadata": {},
   "outputs": [],
   "source": [
    "c= 34+45\n",
    "#variable deceleration \n",
    "k = None"
   ]
  },
  {
   "cell_type": "markdown",
   "id": "054d0d5c",
   "metadata": {},
   "source": [
    "# 10. Operators In Python"
   ]
  },
  {
   "cell_type": "markdown",
   "id": "ebf129b9",
   "metadata": {},
   "source": [
    "Operators are used to perform operations on variables <br>\n",
    "<b>\n",
    "    1. Arithmetic Opetators  <br>\n",
    "    2. Comparisions opeartors <br>\n",
    "    3. Logic operators <br>\n",
    "    4. Bitwise operators <br>\n",
    "    5. Assignment operators <br>\n",
    "    6. Identity Operators <br>\n",
    "    7. Membership Operators<br>\n",
    " <b>"
   ]
  },
  {
   "cell_type": "code",
   "execution_count": 62,
   "id": "46f08b88",
   "metadata": {},
   "outputs": [
    {
     "name": "stdout",
     "output_type": "stream",
     "text": [
      "7\n"
     ]
    }
   ],
   "source": [
    "#Arithmetic Opetators\n",
    "x = 5\n",
    "y = 2\n",
    "print(x+y)"
   ]
  },
  {
   "cell_type": "code",
   "execution_count": 67,
   "id": "84d7beb1",
   "metadata": {},
   "outputs": [
    {
     "name": "stdout",
     "output_type": "stream",
     "text": [
      "3\n"
     ]
    }
   ],
   "source": [
    "print(x-y)"
   ]
  },
  {
   "cell_type": "code",
   "execution_count": 68,
   "id": "a09345af",
   "metadata": {},
   "outputs": [
    {
     "name": "stdout",
     "output_type": "stream",
     "text": [
      "10\n"
     ]
    }
   ],
   "source": [
    "print(x*y)"
   ]
  },
  {
   "cell_type": "code",
   "execution_count": 69,
   "id": "7f441fd3",
   "metadata": {},
   "outputs": [
    {
     "name": "stdout",
     "output_type": "stream",
     "text": [
      "2.5\n"
     ]
    }
   ],
   "source": [
    "print(x/y)"
   ]
  },
  {
   "cell_type": "code",
   "execution_count": 70,
   "id": "fbbcf9e9",
   "metadata": {},
   "outputs": [
    {
     "name": "stdout",
     "output_type": "stream",
     "text": [
      "1\n"
     ]
    }
   ],
   "source": [
    "print(x%y)"
   ]
  },
  {
   "cell_type": "code",
   "execution_count": 71,
   "id": "2d5f37ae",
   "metadata": {},
   "outputs": [
    {
     "name": "stdout",
     "output_type": "stream",
     "text": [
      "25\n"
     ]
    }
   ],
   "source": [
    "#power of\n",
    "print(x**y)"
   ]
  },
  {
   "cell_type": "code",
   "execution_count": 72,
   "id": "9570fc3e",
   "metadata": {},
   "outputs": [
    {
     "name": "stdout",
     "output_type": "stream",
     "text": [
      "2\n"
     ]
    }
   ],
   "source": [
    "#integer division\n",
    "print(x//y)"
   ]
  },
  {
   "cell_type": "code",
   "execution_count": 73,
   "id": "f67059d5",
   "metadata": {},
   "outputs": [
    {
     "name": "stdout",
     "output_type": "stream",
     "text": [
      "True\n"
     ]
    }
   ],
   "source": [
    "# 2. Comparision Operators\n",
    "print(x>y)"
   ]
  },
  {
   "cell_type": "code",
   "execution_count": 74,
   "id": "0e7c35c8",
   "metadata": {},
   "outputs": [
    {
     "name": "stdout",
     "output_type": "stream",
     "text": [
      "False\n"
     ]
    }
   ],
   "source": [
    "print(x<y)"
   ]
  },
  {
   "cell_type": "code",
   "execution_count": 75,
   "id": "16661066",
   "metadata": {},
   "outputs": [
    {
     "name": "stdout",
     "output_type": "stream",
     "text": [
      "True\n"
     ]
    }
   ],
   "source": [
    "print(x>=y)"
   ]
  },
  {
   "cell_type": "code",
   "execution_count": 76,
   "id": "adad6a09",
   "metadata": {},
   "outputs": [
    {
     "name": "stdout",
     "output_type": "stream",
     "text": [
      "False\n"
     ]
    }
   ],
   "source": [
    "print(x<=y)"
   ]
  },
  {
   "cell_type": "code",
   "execution_count": 77,
   "id": "0f7b948c",
   "metadata": {},
   "outputs": [
    {
     "name": "stdout",
     "output_type": "stream",
     "text": [
      "False\n"
     ]
    }
   ],
   "source": [
    "print(x==y)"
   ]
  },
  {
   "cell_type": "code",
   "execution_count": 78,
   "id": "92464cd4",
   "metadata": {},
   "outputs": [
    {
     "name": "stdout",
     "output_type": "stream",
     "text": [
      "True\n"
     ]
    }
   ],
   "source": [
    "print(x!=y)"
   ]
  },
  {
   "cell_type": "code",
   "execution_count": 79,
   "id": "59288daa",
   "metadata": {},
   "outputs": [],
   "source": [
    "#Logical Operators"
   ]
  },
  {
   "cell_type": "code",
   "execution_count": 80,
   "id": "31343e2d",
   "metadata": {},
   "outputs": [
    {
     "name": "stdout",
     "output_type": "stream",
     "text": [
      "True\n"
     ]
    }
   ],
   "source": [
    "x= True\n",
    "y= False\n",
    "print(x or y)"
   ]
  },
  {
   "cell_type": "code",
   "execution_count": 81,
   "id": "e3a08ce5",
   "metadata": {},
   "outputs": [
    {
     "name": "stdout",
     "output_type": "stream",
     "text": [
      "False\n"
     ]
    }
   ],
   "source": [
    "print(x and y)"
   ]
  },
  {
   "cell_type": "code",
   "execution_count": 82,
   "id": "0c5c0454",
   "metadata": {},
   "outputs": [
    {
     "name": "stdout",
     "output_type": "stream",
     "text": [
      "True\n"
     ]
    }
   ],
   "source": [
    "print(not y)"
   ]
  },
  {
   "cell_type": "code",
   "execution_count": 83,
   "id": "48e071d0",
   "metadata": {},
   "outputs": [
    {
     "name": "stdout",
     "output_type": "stream",
     "text": [
      "False\n"
     ]
    }
   ],
   "source": [
    "print(not x)"
   ]
  },
  {
   "cell_type": "code",
   "execution_count": 85,
   "id": "0a8b3dd3",
   "metadata": {},
   "outputs": [],
   "source": [
    "#Bitwise operators\n",
    "#Always work on binary vales"
   ]
  },
  {
   "cell_type": "code",
   "execution_count": 86,
   "id": "1d343c28",
   "metadata": {},
   "outputs": [],
   "source": [
    "x = 2\n",
    "y= 3\n"
   ]
  },
  {
   "cell_type": "code",
   "execution_count": 87,
   "id": "404219be",
   "metadata": {},
   "outputs": [
    {
     "name": "stdout",
     "output_type": "stream",
     "text": [
      "2\n"
     ]
    }
   ],
   "source": [
    "print(x & y)"
   ]
  },
  {
   "cell_type": "code",
   "execution_count": 88,
   "id": "aac561ce",
   "metadata": {},
   "outputs": [
    {
     "name": "stdout",
     "output_type": "stream",
     "text": [
      "3\n"
     ]
    }
   ],
   "source": [
    "print (x | y)"
   ]
  },
  {
   "cell_type": "code",
   "execution_count": 89,
   "id": "2225342e",
   "metadata": {},
   "outputs": [
    {
     "name": "stdout",
     "output_type": "stream",
     "text": [
      "0\n"
     ]
    }
   ],
   "source": [
    "print(x >> 2)"
   ]
  },
  {
   "cell_type": "code",
   "execution_count": 90,
   "id": "d9a655da",
   "metadata": {},
   "outputs": [
    {
     "name": "stdout",
     "output_type": "stream",
     "text": [
      "24\n"
     ]
    }
   ],
   "source": [
    "print(y<< 3)"
   ]
  },
  {
   "cell_type": "code",
   "execution_count": 91,
   "id": "80e509f5",
   "metadata": {},
   "outputs": [
    {
     "name": "stdout",
     "output_type": "stream",
     "text": [
      "-3\n"
     ]
    }
   ],
   "source": [
    "print(~x)"
   ]
  },
  {
   "cell_type": "code",
   "execution_count": 92,
   "id": "9ad45c07",
   "metadata": {},
   "outputs": [],
   "source": [
    "#Assignment operator "
   ]
  },
  {
   "cell_type": "code",
   "execution_count": 93,
   "id": "d92a3b3f",
   "metadata": {},
   "outputs": [
    {
     "name": "stdout",
     "output_type": "stream",
     "text": [
      "3\n"
     ]
    }
   ],
   "source": [
    "a = 3\n",
    "print(a)"
   ]
  },
  {
   "cell_type": "code",
   "execution_count": 95,
   "id": "01f924d7",
   "metadata": {},
   "outputs": [],
   "source": [
    "a+= 3"
   ]
  },
  {
   "cell_type": "code",
   "execution_count": 96,
   "id": "dd423fe8",
   "metadata": {},
   "outputs": [
    {
     "name": "stdout",
     "output_type": "stream",
     "text": [
      "6\n"
     ]
    }
   ],
   "source": [
    "print(a)"
   ]
  },
  {
   "cell_type": "code",
   "execution_count": 97,
   "id": "ce140dea",
   "metadata": {},
   "outputs": [
    {
     "name": "stdout",
     "output_type": "stream",
     "text": [
      "3\n"
     ]
    }
   ],
   "source": [
    "a-=3\n",
    "print(a)"
   ]
  },
  {
   "cell_type": "code",
   "execution_count": 98,
   "id": "b6aeb0e6",
   "metadata": {},
   "outputs": [
    {
     "name": "stdout",
     "output_type": "stream",
     "text": [
      "9\n"
     ]
    }
   ],
   "source": [
    "a*=3\n",
    "print(a)"
   ]
  },
  {
   "cell_type": "code",
   "execution_count": 99,
   "id": "4af7584c",
   "metadata": {},
   "outputs": [
    {
     "name": "stdout",
     "output_type": "stream",
     "text": [
      "True\n"
     ]
    }
   ],
   "source": [
    "#Identity operators\n",
    "a = 3\n",
    "b = 3\n",
    "print(a is b) # so they are identical"
   ]
  },
  {
   "cell_type": "code",
   "execution_count": 100,
   "id": "9ab17e50",
   "metadata": {},
   "outputs": [
    {
     "name": "stdout",
     "output_type": "stream",
     "text": [
      "False\n"
     ]
    }
   ],
   "source": [
    "a = \"hello\"\n",
    "b = \"Hello\"\n",
    "print( a is b)"
   ]
  },
  {
   "cell_type": "code",
   "execution_count": 101,
   "id": "c1cfd3eb",
   "metadata": {},
   "outputs": [
    {
     "name": "stdout",
     "output_type": "stream",
     "text": [
      "False\n"
     ]
    }
   ],
   "source": [
    "a = [1,2,3]\n",
    "b = [1,2,3]\n",
    "print(a is b)"
   ]
  },
  {
   "cell_type": "code",
   "execution_count": 102,
   "id": "f9ac1d68",
   "metadata": {},
   "outputs": [
    {
     "name": "stdout",
     "output_type": "stream",
     "text": [
      "False\n"
     ]
    }
   ],
   "source": [
    "a = \"hello-world\"\n",
    "b= \"hello-world\"\n",
    "print(a is b)"
   ]
  },
  {
   "cell_type": "code",
   "execution_count": 105,
   "id": "b2750d14",
   "metadata": {},
   "outputs": [
    {
     "name": "stdout",
     "output_type": "stream",
     "text": [
      "False\n"
     ]
    }
   ],
   "source": [
    "# Membership operator\n",
    "x = \" Delhi\"\n",
    "print (\"D\" not in x)"
   ]
  },
  {
   "cell_type": "code",
   "execution_count": 106,
   "id": "35e0abe5",
   "metadata": {},
   "outputs": [
    {
     "name": "stdout",
     "output_type": "stream",
     "text": [
      "True\n"
     ]
    }
   ],
   "source": [
    "print(\"D\" in x)"
   ]
  },
  {
   "cell_type": "code",
   "execution_count": 107,
   "id": "19adcc65",
   "metadata": {},
   "outputs": [
    {
     "name": "stdout",
     "output_type": "stream",
     "text": [
      "True\n"
     ]
    }
   ],
   "source": [
    "print(\"Del\" in x)"
   ]
  }
 ],
 "metadata": {
  "kernelspec": {
   "display_name": "Python 3 (ipykernel)",
   "language": "python",
   "name": "python3"
  },
  "language_info": {
   "codemirror_mode": {
    "name": "ipython",
    "version": 3
   },
   "file_extension": ".py",
   "mimetype": "text/x-python",
   "name": "python",
   "nbconvert_exporter": "python",
   "pygments_lexer": "ipython3",
   "version": "3.11.5"
  }
 },
 "nbformat": 4,
 "nbformat_minor": 5
}
