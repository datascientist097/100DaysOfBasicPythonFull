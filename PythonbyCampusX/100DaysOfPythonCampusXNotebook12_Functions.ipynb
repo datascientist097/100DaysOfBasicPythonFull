{
 "cells": [
  {
   "cell_type": "markdown",
   "id": "45bffe83",
   "metadata": {},
   "source": [
    "# Functions in Python"
   ]
  },
  {
   "cell_type": "markdown",
   "id": "8738143e",
   "metadata": {},
   "source": [
    "Functions are block of code that perform/automate specific operations <br>\n",
    "1. Abstraction <br>\n",
    " There is a code but we cant see it. <br>\n",
    "2. Decomposition <br>\n",
    " Small elements make a complete system "
   ]
  },
  {
   "cell_type": "code",
   "execution_count": 19,
   "id": "5a5fda79",
   "metadata": {},
   "outputs": [],
   "source": [
    "# How to define a function in python\n",
    "def is_even(number):\n",
    "    if type(number) == int:\n",
    "        \"\"\"\n",
    "        This function tells if a given number is odd or even\n",
    "        input any valid integer\n",
    "        output = even/odd\n",
    "        created by Ahmed Ali\n",
    "        last edited 03 feb 2024\n",
    "        \"\"\"\n",
    "        if number%2==0:\n",
    "            return \"even\"\n",
    "        else:\n",
    "            return \"odd\"\n",
    "    else:\n",
    "        return \"Not Allowed\"\n",
    "    "
   ]
  },
  {
   "cell_type": "code",
   "execution_count": 23,
   "id": "3287d03e",
   "metadata": {},
   "outputs": [
    {
     "name": "stdout",
     "output_type": "stream",
     "text": [
      "odd\n",
      "even\n",
      "odd\n",
      "even\n"
     ]
    }
   ],
   "source": [
    "for i in range(1,5):\n",
    "    print(is_even(i))"
   ]
  },
  {
   "cell_type": "code",
   "execution_count": 11,
   "id": "a2b1419b",
   "metadata": {},
   "outputs": [
    {
     "name": "stdout",
     "output_type": "stream",
     "text": [
      "\n",
      "    This function tells if a given number is odd or even\n",
      "    input any valid integer\n",
      "    output = even/odd\n",
      "    created by Ahmed Ali\n",
      "    last edited 03 feb 2024\n",
      "    \n"
     ]
    }
   ],
   "source": [
    "\n",
    "print(is_even.__doc__)"
   ]
  },
  {
   "cell_type": "markdown",
   "id": "965b46b3",
   "metadata": {},
   "source": [
    "# Parameter vs Arguments"
   ]
  },
  {
   "cell_type": "markdown",
   "id": "4df3e17e",
   "metadata": {},
   "source": [
    "1. Default Argument <br>\n",
    "2. positional <br>\n",
    "3. Keyword<br>\n",
    "4. Arbitrary"
   ]
  },
  {
   "cell_type": "code",
   "execution_count": 25,
   "id": "c3452662",
   "metadata": {},
   "outputs": [],
   "source": [
    "# Default Argument\n",
    "def power(a,b):\n",
    "    return a**b"
   ]
  },
  {
   "cell_type": "code",
   "execution_count": 27,
   "id": "5a061333",
   "metadata": {},
   "outputs": [
    {
     "data": {
      "text/plain": [
       "27"
      ]
     },
     "execution_count": 27,
     "metadata": {},
     "output_type": "execute_result"
    }
   ],
   "source": [
    "power(3,3)"
   ]
  },
  {
   "cell_type": "code",
   "execution_count": 28,
   "id": "81dc99ca",
   "metadata": {},
   "outputs": [
    {
     "ename": "TypeError",
     "evalue": "power() missing 1 required positional argument: 'b'",
     "output_type": "error",
     "traceback": [
      "\u001b[1;31m---------------------------------------------------------------------------\u001b[0m",
      "\u001b[1;31mTypeError\u001b[0m                                 Traceback (most recent call last)",
      "Cell \u001b[1;32mIn[28], line 1\u001b[0m\n\u001b[1;32m----> 1\u001b[0m \u001b[43mpower\u001b[49m\u001b[43m(\u001b[49m\u001b[38;5;241;43m3\u001b[39;49m\u001b[43m)\u001b[49m\n",
      "\u001b[1;31mTypeError\u001b[0m: power() missing 1 required positional argument: 'b'"
     ]
    }
   ],
   "source": [
    "power(3)"
   ]
  },
  {
   "cell_type": "code",
   "execution_count": 29,
   "id": "e7ee6639",
   "metadata": {},
   "outputs": [
    {
     "ename": "TypeError",
     "evalue": "power() missing 2 required positional arguments: 'a' and 'b'",
     "output_type": "error",
     "traceback": [
      "\u001b[1;31m---------------------------------------------------------------------------\u001b[0m",
      "\u001b[1;31mTypeError\u001b[0m                                 Traceback (most recent call last)",
      "Cell \u001b[1;32mIn[29], line 1\u001b[0m\n\u001b[1;32m----> 1\u001b[0m \u001b[43mpower\u001b[49m\u001b[43m(\u001b[49m\u001b[43m)\u001b[49m\n",
      "\u001b[1;31mTypeError\u001b[0m: power() missing 2 required positional arguments: 'a' and 'b'"
     ]
    }
   ],
   "source": [
    "power()"
   ]
  },
  {
   "cell_type": "code",
   "execution_count": 30,
   "id": "6ce301b9",
   "metadata": {},
   "outputs": [],
   "source": [
    "# To avoid crash\n",
    "def power(a=1,b=1):\n",
    "    return a**b"
   ]
  },
  {
   "cell_type": "code",
   "execution_count": 31,
   "id": "fc328dcc",
   "metadata": {},
   "outputs": [
    {
     "data": {
      "text/plain": [
       "2"
      ]
     },
     "execution_count": 31,
     "metadata": {},
     "output_type": "execute_result"
    }
   ],
   "source": [
    "power(2)"
   ]
  },
  {
   "cell_type": "code",
   "execution_count": 32,
   "id": "3e1f9d90",
   "metadata": {},
   "outputs": [
    {
     "data": {
      "text/plain": [
       "1"
      ]
     },
     "execution_count": 32,
     "metadata": {},
     "output_type": "execute_result"
    }
   ],
   "source": [
    "power()"
   ]
  },
  {
   "cell_type": "code",
   "execution_count": 33,
   "id": "88b8d84b",
   "metadata": {},
   "outputs": [],
   "source": [
    "# Positional Argument\n",
    "#a and b "
   ]
  },
  {
   "cell_type": "code",
   "execution_count": 34,
   "id": "3f72ff4d",
   "metadata": {},
   "outputs": [
    {
     "data": {
      "text/plain": [
       "9"
      ]
     },
     "execution_count": 34,
     "metadata": {},
     "output_type": "execute_result"
    }
   ],
   "source": [
    "#keyword Argument\n",
    "power(b=2,a=3)"
   ]
  },
  {
   "cell_type": "code",
   "execution_count": 35,
   "id": "016e21da",
   "metadata": {},
   "outputs": [],
   "source": [
    "#print is a flexible function that can print any number of elements"
   ]
  },
  {
   "cell_type": "code",
   "execution_count": 36,
   "id": "0dfc5017",
   "metadata": {},
   "outputs": [],
   "source": [
    "# flexible function\n",
    "def flexi(*number):\n",
    "    product =1\n",
    "    for i in number:\n",
    "        product = product * i\n",
    "    print(product)"
   ]
  },
  {
   "cell_type": "code",
   "execution_count": 37,
   "id": "8bfabb72",
   "metadata": {},
   "outputs": [
    {
     "name": "stdout",
     "output_type": "stream",
     "text": [
      "4\n"
     ]
    }
   ],
   "source": [
    "flexi(i)"
   ]
  },
  {
   "cell_type": "code",
   "execution_count": 38,
   "id": "07ab6e65",
   "metadata": {},
   "outputs": [
    {
     "name": "stdout",
     "output_type": "stream",
     "text": [
      "27\n"
     ]
    }
   ],
   "source": [
    "flexi(3,3,3)"
   ]
  },
  {
   "cell_type": "code",
   "execution_count": 39,
   "id": "ec7a6291",
   "metadata": {},
   "outputs": [
    {
     "name": "stdout",
     "output_type": "stream",
     "text": [
      "120\n"
     ]
    }
   ],
   "source": [
    "flexi(2,3,4,5)"
   ]
  },
  {
   "cell_type": "code",
   "execution_count": 45,
   "id": "d92a91c4",
   "metadata": {},
   "outputs": [],
   "source": [
    "# flexible function\n",
    "def flexifun(*number):\n",
    "    for i in number:\n",
    "        print(number)"
   ]
  },
  {
   "cell_type": "code",
   "execution_count": 48,
   "id": "b071a311",
   "metadata": {},
   "outputs": [
    {
     "name": "stdout",
     "output_type": "stream",
     "text": [
      "(1, 2, 3)\n",
      "(1, 2, 3)\n",
      "(1, 2, 3)\n"
     ]
    }
   ],
   "source": [
    "flexifun(1,2,3)"
   ]
  },
  {
   "cell_type": "code",
   "execution_count": 49,
   "id": "80ebba3a",
   "metadata": {},
   "outputs": [
    {
     "name": "stdout",
     "output_type": "stream",
     "text": [
      "inf(x): x= 4\n",
      "in main progran scope: z= 4\n",
      "in main progran scope: x= 3\n"
     ]
    }
   ],
   "source": [
    "# Fun\n",
    "def f(x):\n",
    "    x = x+1\n",
    "    print('inf(x): x=',x)\n",
    "    return x\n",
    "x=3\n",
    "z=f(x)\n",
    "print(\"in main progran scope: z=\",z)\n",
    "print(\"in main progran scope: x=\",x)"
   ]
  },
  {
   "cell_type": "markdown",
   "id": "8c499ecd",
   "metadata": {},
   "source": [
    "# nested fun"
   ]
  },
  {
   "cell_type": "code",
   "execution_count": 50,
   "id": "41d69584",
   "metadata": {},
   "outputs": [],
   "source": [
    "def f():\n",
    "    print(\"inside f\")\n",
    "    def g():\n",
    "        print(\"Inside g\")\n",
    "    g()"
   ]
  },
  {
   "cell_type": "code",
   "execution_count": 51,
   "id": "e225bb43",
   "metadata": {},
   "outputs": [
    {
     "name": "stdout",
     "output_type": "stream",
     "text": [
      "inside f\n",
      "Inside g\n"
     ]
    }
   ],
   "source": [
    "f()"
   ]
  },
  {
   "cell_type": "code",
   "execution_count": 52,
   "id": "3f29ee8d",
   "metadata": {},
   "outputs": [
    {
     "ename": "NameError",
     "evalue": "name 'g' is not defined",
     "output_type": "error",
     "traceback": [
      "\u001b[1;31m---------------------------------------------------------------------------\u001b[0m",
      "\u001b[1;31mNameError\u001b[0m                                 Traceback (most recent call last)",
      "Cell \u001b[1;32mIn[52], line 1\u001b[0m\n\u001b[1;32m----> 1\u001b[0m \u001b[43mg\u001b[49m()\n",
      "\u001b[1;31mNameError\u001b[0m: name 'g' is not defined"
     ]
    }
   ],
   "source": [
    "g()"
   ]
  },
  {
   "cell_type": "code",
   "execution_count": 54,
   "id": "96742dfc",
   "metadata": {},
   "outputs": [
    {
     "name": "stdout",
     "output_type": "stream",
     "text": [
      "in g(x):x= 4\n"
     ]
    }
   ],
   "source": [
    "#new function\n",
    "def g(x):\n",
    "    def h():\n",
    "        x='abc'\n",
    "    x=x+1\n",
    "    print('in g(x):x=',x)\n",
    "    h()\n",
    "    return x\n",
    "x=3\n",
    "z=g(x)"
   ]
  },
  {
   "cell_type": "markdown",
   "id": "85293c9f",
   "metadata": {},
   "source": [
    "# Everything in python is a object"
   ]
  },
  {
   "cell_type": "code",
   "execution_count": 56,
   "id": "88a50835",
   "metadata": {},
   "outputs": [],
   "source": [
    "#function as object\n",
    "def f(num):\n",
    "    return num**2"
   ]
  },
  {
   "cell_type": "code",
   "execution_count": 57,
   "id": "64d30f60",
   "metadata": {},
   "outputs": [
    {
     "data": {
      "text/plain": [
       "4"
      ]
     },
     "execution_count": 57,
     "metadata": {},
     "output_type": "execute_result"
    }
   ],
   "source": [
    "f(2)"
   ]
  },
  {
   "cell_type": "code",
   "execution_count": 58,
   "id": "8f3e2a42",
   "metadata": {},
   "outputs": [],
   "source": [
    "x=f"
   ]
  },
  {
   "cell_type": "code",
   "execution_count": 59,
   "id": "a5f7346b",
   "metadata": {},
   "outputs": [
    {
     "data": {
      "text/plain": [
       "4"
      ]
     },
     "execution_count": 59,
     "metadata": {},
     "output_type": "execute_result"
    }
   ],
   "source": [
    "x(2)"
   ]
  },
  {
   "cell_type": "code",
   "execution_count": 60,
   "id": "f6894a3a",
   "metadata": {},
   "outputs": [],
   "source": [
    "del f"
   ]
  },
  {
   "cell_type": "code",
   "execution_count": 61,
   "id": "0d3d8801",
   "metadata": {},
   "outputs": [
    {
     "ename": "NameError",
     "evalue": "name 'f' is not defined",
     "output_type": "error",
     "traceback": [
      "\u001b[1;31m---------------------------------------------------------------------------\u001b[0m",
      "\u001b[1;31mNameError\u001b[0m                                 Traceback (most recent call last)",
      "Cell \u001b[1;32mIn[61], line 1\u001b[0m\n\u001b[1;32m----> 1\u001b[0m \u001b[43mf\u001b[49m(\u001b[38;5;241m2\u001b[39m)\n",
      "\u001b[1;31mNameError\u001b[0m: name 'f' is not defined"
     ]
    }
   ],
   "source": [
    "f(2)"
   ]
  },
  {
   "cell_type": "code",
   "execution_count": 62,
   "id": "2df1e8d3",
   "metadata": {},
   "outputs": [
    {
     "data": {
      "text/plain": [
       "4"
      ]
     },
     "execution_count": 62,
     "metadata": {},
     "output_type": "execute_result"
    }
   ],
   "source": [
    "x(2)"
   ]
  },
  {
   "cell_type": "code",
   "execution_count": 63,
   "id": "496ca1ea",
   "metadata": {},
   "outputs": [
    {
     "data": {
      "text/plain": [
       "function"
      ]
     },
     "execution_count": 63,
     "metadata": {},
     "output_type": "execute_result"
    }
   ],
   "source": [
    "type(x)"
   ]
  },
  {
   "cell_type": "code",
   "execution_count": 64,
   "id": "80a30542",
   "metadata": {},
   "outputs": [],
   "source": [
    "L=[1,2,x]"
   ]
  },
  {
   "cell_type": "code",
   "execution_count": 65,
   "id": "e6614718",
   "metadata": {},
   "outputs": [
    {
     "data": {
      "text/plain": [
       "[1, 2, <function __main__.f(num)>]"
      ]
     },
     "execution_count": 65,
     "metadata": {},
     "output_type": "execute_result"
    }
   ],
   "source": [
    "L"
   ]
  },
  {
   "cell_type": "code",
   "execution_count": 66,
   "id": "21018005",
   "metadata": {},
   "outputs": [
    {
     "data": {
      "text/plain": [
       "<function __main__.f(num)>"
      ]
     },
     "execution_count": 66,
     "metadata": {},
     "output_type": "execute_result"
    }
   ],
   "source": [
    "L[-1]"
   ]
  },
  {
   "cell_type": "code",
   "execution_count": 67,
   "id": "f24ec19e",
   "metadata": {},
   "outputs": [],
   "source": [
    "L=[1,2,x(5)]"
   ]
  },
  {
   "cell_type": "code",
   "execution_count": 68,
   "id": "c8324e10",
   "metadata": {},
   "outputs": [
    {
     "data": {
      "text/plain": [
       "[1, 2, 25]"
      ]
     },
     "execution_count": 68,
     "metadata": {},
     "output_type": "execute_result"
    }
   ],
   "source": [
    "L"
   ]
  },
  {
   "cell_type": "markdown",
   "id": "baa08484",
   "metadata": {},
   "source": [
    "# Benefits\n",
    "1. Modularity <br>\n",
    "2. Reuseability <br>\n",
    "3. Readibility <br>"
   ]
  }
 ],
 "metadata": {
  "kernelspec": {
   "display_name": "Python 3 (ipykernel)",
   "language": "python",
   "name": "python3"
  },
  "language_info": {
   "codemirror_mode": {
    "name": "ipython",
    "version": 3
   },
   "file_extension": ".py",
   "mimetype": "text/x-python",
   "name": "python",
   "nbconvert_exporter": "python",
   "pygments_lexer": "ipython3",
   "version": "3.11.5"
  }
 },
 "nbformat": 4,
 "nbformat_minor": 5
}
