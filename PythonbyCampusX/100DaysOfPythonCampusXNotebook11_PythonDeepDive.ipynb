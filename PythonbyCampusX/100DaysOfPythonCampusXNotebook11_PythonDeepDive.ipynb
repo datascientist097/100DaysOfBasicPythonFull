{
 "cells": [
  {
   "cell_type": "markdown",
   "id": "9326afa6",
   "metadata": {},
   "source": [
    "# Python Deep Dive | Mutability | Garbage Collection | Variable Referencing"
   ]
  },
  {
   "cell_type": "markdown",
   "id": "0291f9ad",
   "metadata": {},
   "source": [
    "# Aliasing"
   ]
  },
  {
   "cell_type": "code",
   "execution_count": 2,
   "id": "61cb15d0",
   "metadata": {},
   "outputs": [
    {
     "data": {
      "text/plain": [
       "140725576569768"
      ]
     },
     "execution_count": 2,
     "metadata": {},
     "output_type": "execute_result"
    }
   ],
   "source": [
    "\n",
    "a= 5\n",
    "b= a\n",
    "\n",
    "id(a)"
   ]
  },
  {
   "cell_type": "code",
   "execution_count": 3,
   "id": "56b46b4f",
   "metadata": {},
   "outputs": [
    {
     "data": {
      "text/plain": [
       "140725576569768"
      ]
     },
     "execution_count": 3,
     "metadata": {},
     "output_type": "execute_result"
    }
   ],
   "source": [
    "id(b)"
   ]
  },
  {
   "cell_type": "code",
   "execution_count": 4,
   "id": "ee699b34",
   "metadata": {},
   "outputs": [],
   "source": [
    "c=b"
   ]
  },
  {
   "cell_type": "code",
   "execution_count": 5,
   "id": "11ae6211",
   "metadata": {},
   "outputs": [
    {
     "data": {
      "text/plain": [
       "140725576569768"
      ]
     },
     "execution_count": 5,
     "metadata": {},
     "output_type": "execute_result"
    }
   ],
   "source": [
    "id(c)"
   ]
  },
  {
   "cell_type": "code",
   "execution_count": 6,
   "id": "a7e5e633",
   "metadata": {},
   "outputs": [],
   "source": [
    "del a"
   ]
  },
  {
   "cell_type": "code",
   "execution_count": 7,
   "id": "5d79cfe6",
   "metadata": {},
   "outputs": [
    {
     "name": "stdout",
     "output_type": "stream",
     "text": [
      "5\n"
     ]
    }
   ],
   "source": [
    "print(b)"
   ]
  },
  {
   "cell_type": "code",
   "execution_count": 8,
   "id": "8590232c",
   "metadata": {},
   "outputs": [
    {
     "name": "stdout",
     "output_type": "stream",
     "text": [
      "5\n"
     ]
    }
   ],
   "source": [
    "a=5\n",
    "b=a\n",
    "a=6\n",
    "print(b)"
   ]
  },
  {
   "cell_type": "markdown",
   "id": "3ff8586f",
   "metadata": {},
   "source": [
    "# Reference counting"
   ]
  },
  {
   "cell_type": "code",
   "execution_count": 10,
   "id": "b4d30626",
   "metadata": {},
   "outputs": [],
   "source": [
    "import sys"
   ]
  },
  {
   "cell_type": "code",
   "execution_count": 11,
   "id": "4a549d8d",
   "metadata": {},
   "outputs": [],
   "source": [
    "a=\"corona\"\n",
    "b=a\n",
    "c=b"
   ]
  },
  {
   "cell_type": "code",
   "execution_count": 12,
   "id": "7f119dee",
   "metadata": {},
   "outputs": [
    {
     "data": {
      "text/plain": [
       "2644644312240"
      ]
     },
     "execution_count": 12,
     "metadata": {},
     "output_type": "execute_result"
    }
   ],
   "source": [
    "id(c)"
   ]
  },
  {
   "cell_type": "code",
   "execution_count": 13,
   "id": "6ec72911",
   "metadata": {},
   "outputs": [
    {
     "data": {
      "text/plain": [
       "2644644312240"
      ]
     },
     "execution_count": 13,
     "metadata": {},
     "output_type": "execute_result"
    }
   ],
   "source": [
    "id(a)"
   ]
  },
  {
   "cell_type": "code",
   "execution_count": 14,
   "id": "ea3d77ed",
   "metadata": {},
   "outputs": [
    {
     "data": {
      "text/plain": [
       "2644644312240"
      ]
     },
     "execution_count": 14,
     "metadata": {},
     "output_type": "execute_result"
    }
   ],
   "source": [
    "id(b)"
   ]
  },
  {
   "cell_type": "code",
   "execution_count": 16,
   "id": "4702f7aa",
   "metadata": {},
   "outputs": [
    {
     "data": {
      "text/plain": [
       "4"
      ]
     },
     "execution_count": 16,
     "metadata": {},
     "output_type": "execute_result"
    }
   ],
   "source": [
    "sys.getrefcount(a)"
   ]
  },
  {
   "cell_type": "markdown",
   "id": "a63254dc",
   "metadata": {},
   "source": [
    "# Garbage collection"
   ]
  },
  {
   "cell_type": "code",
   "execution_count": 17,
   "id": "b69e41c3",
   "metadata": {},
   "outputs": [],
   "source": [
    "#freeup memory"
   ]
  },
  {
   "cell_type": "code",
   "execution_count": 23,
   "id": "0e18c542",
   "metadata": {},
   "outputs": [
    {
     "data": {
      "text/plain": [
       "5"
      ]
     },
     "execution_count": 23,
     "metadata": {},
     "output_type": "execute_result"
    }
   ],
   "source": [
    "#weird behaviour 1\n",
    "a=78889\n",
    "b=a\n",
    "c=b\n",
    "sys.getrefcount(a)"
   ]
  },
  {
   "cell_type": "code",
   "execution_count": 24,
   "id": "873a0f7b",
   "metadata": {},
   "outputs": [
    {
     "data": {
      "text/plain": [
       "1000000292"
      ]
     },
     "execution_count": 24,
     "metadata": {},
     "output_type": "execute_result"
    }
   ],
   "source": [
    "#weird behaviour 1\n",
    "a=7\n",
    "b=a\n",
    "c=b\n",
    "sys.getrefcount(a)"
   ]
  },
  {
   "cell_type": "code",
   "execution_count": 25,
   "id": "85840bd7",
   "metadata": {},
   "outputs": [
    {
     "data": {
      "text/plain": [
       "140725576577800"
      ]
     },
     "execution_count": 25,
     "metadata": {},
     "output_type": "execute_result"
    }
   ],
   "source": [
    "#weird behaviour 2\n",
    "#in range of -5 to 256\n",
    "a= 256\n",
    "b= 256\n",
    "id(a)"
   ]
  },
  {
   "cell_type": "code",
   "execution_count": 26,
   "id": "d37c9dd1",
   "metadata": {},
   "outputs": [
    {
     "data": {
      "text/plain": [
       "140725576577800"
      ]
     },
     "execution_count": 26,
     "metadata": {},
     "output_type": "execute_result"
    }
   ],
   "source": [
    "id(b)"
   ]
  },
  {
   "cell_type": "code",
   "execution_count": 27,
   "id": "8698c17b",
   "metadata": {},
   "outputs": [
    {
     "data": {
      "text/plain": [
       "2644650241616"
      ]
     },
     "execution_count": 27,
     "metadata": {},
     "output_type": "execute_result"
    }
   ],
   "source": [
    "#put of range of -5 and 256\n",
    "a= 257\n",
    "b= 257\n",
    "id(a)"
   ]
  },
  {
   "cell_type": "code",
   "execution_count": 28,
   "id": "540dff6b",
   "metadata": {},
   "outputs": [
    {
     "data": {
      "text/plain": [
       "2644650245968"
      ]
     },
     "execution_count": 28,
     "metadata": {},
     "output_type": "execute_result"
    }
   ],
   "source": [
    "id(b)"
   ]
  },
  {
   "cell_type": "code",
   "execution_count": 29,
   "id": "e6eb0456",
   "metadata": {},
   "outputs": [],
   "source": [
    "#weird behavour 3\n",
    "a = \"haldia\"\n",
    "b = \"haldia\""
   ]
  },
  {
   "cell_type": "code",
   "execution_count": 30,
   "id": "2b5547db",
   "metadata": {},
   "outputs": [
    {
     "data": {
      "text/plain": [
       "2644653091760"
      ]
     },
     "execution_count": 30,
     "metadata": {},
     "output_type": "execute_result"
    }
   ],
   "source": [
    "id(a)"
   ]
  },
  {
   "cell_type": "code",
   "execution_count": 31,
   "id": "da4ab626",
   "metadata": {},
   "outputs": [
    {
     "data": {
      "text/plain": [
       "2644653091760"
      ]
     },
     "execution_count": 31,
     "metadata": {},
     "output_type": "execute_result"
    }
   ],
   "source": [
    "id(b)"
   ]
  },
  {
   "cell_type": "code",
   "execution_count": 32,
   "id": "750ecd9b",
   "metadata": {},
   "outputs": [],
   "source": [
    "#invalid identifier\n",
    "a= \"Ahmed institute of technology\"\n",
    "b= \"Ahmed institute of technology\""
   ]
  },
  {
   "cell_type": "code",
   "execution_count": 33,
   "id": "09882d70",
   "metadata": {},
   "outputs": [
    {
     "data": {
      "text/plain": [
       "2644653538992"
      ]
     },
     "execution_count": 33,
     "metadata": {},
     "output_type": "execute_result"
    }
   ],
   "source": [
    "id(a)"
   ]
  },
  {
   "cell_type": "code",
   "execution_count": 34,
   "id": "cf49a38c",
   "metadata": {},
   "outputs": [
    {
     "data": {
      "text/plain": [
       "2644653394000"
      ]
     },
     "execution_count": 34,
     "metadata": {},
     "output_type": "execute_result"
    }
   ],
   "source": [
    "id(b)"
   ]
  },
  {
   "cell_type": "code",
   "execution_count": 35,
   "id": "f5e801ed",
   "metadata": {},
   "outputs": [],
   "source": [
    "#valid identifer\n",
    "a= \"Ahmed_institute_of_technology\"\n",
    "b= \"Ahmed_institute_of_technology\""
   ]
  },
  {
   "cell_type": "code",
   "execution_count": 36,
   "id": "1641708c",
   "metadata": {},
   "outputs": [
    {
     "data": {
      "text/plain": [
       "2644644222640"
      ]
     },
     "execution_count": 36,
     "metadata": {},
     "output_type": "execute_result"
    }
   ],
   "source": [
    "id(a)"
   ]
  },
  {
   "cell_type": "code",
   "execution_count": 37,
   "id": "cfd580c6",
   "metadata": {},
   "outputs": [
    {
     "data": {
      "text/plain": [
       "2644644222640"
      ]
     },
     "execution_count": 37,
     "metadata": {},
     "output_type": "execute_result"
    }
   ],
   "source": [
    "id(b)"
   ]
  },
  {
   "cell_type": "markdown",
   "id": "f77ac057",
   "metadata": {},
   "source": [
    "# Mutability"
   ]
  },
  {
   "cell_type": "code",
   "execution_count": 39,
   "id": "e9197f1d",
   "metadata": {},
   "outputs": [],
   "source": [
    "li = [1,2,3]"
   ]
  },
  {
   "cell_type": "code",
   "execution_count": 45,
   "id": "12507755",
   "metadata": {},
   "outputs": [
    {
     "data": {
      "text/plain": [
       "140725576569672"
      ]
     },
     "execution_count": 45,
     "metadata": {},
     "output_type": "execute_result"
    }
   ],
   "source": [
    "id(li[1])"
   ]
  },
  {
   "cell_type": "code",
   "execution_count": 46,
   "id": "ff755ef5",
   "metadata": {},
   "outputs": [
    {
     "data": {
      "text/plain": [
       "140725576569640"
      ]
     },
     "execution_count": 46,
     "metadata": {},
     "output_type": "execute_result"
    }
   ],
   "source": [
    "id(li[0])"
   ]
  },
  {
   "cell_type": "code",
   "execution_count": 47,
   "id": "85e41819",
   "metadata": {},
   "outputs": [
    {
     "data": {
      "text/plain": [
       "140725576569704"
      ]
     },
     "execution_count": 47,
     "metadata": {},
     "output_type": "execute_result"
    }
   ],
   "source": [
    "id(li[2])"
   ]
  },
  {
   "cell_type": "markdown",
   "id": "53079d0f",
   "metadata": {},
   "source": [
    "Mutability is the ability to change or edit data at its memory address"
   ]
  },
  {
   "cell_type": "code",
   "execution_count": 55,
   "id": "03255a90",
   "metadata": {},
   "outputs": [
    {
     "data": {
      "text/plain": [
       "2644653197296"
      ]
     },
     "execution_count": 55,
     "metadata": {},
     "output_type": "execute_result"
    }
   ],
   "source": [
    "#chnage in string\n",
    "a=\"Hello\"\n",
    "id(a)\n"
   ]
  },
  {
   "cell_type": "code",
   "execution_count": 56,
   "id": "82880e8e",
   "metadata": {},
   "outputs": [],
   "source": [
    "a= a+ \"world\""
   ]
  },
  {
   "cell_type": "code",
   "execution_count": 57,
   "id": "41dc8529",
   "metadata": {},
   "outputs": [
    {
     "data": {
      "text/plain": [
       "'Helloworld'"
      ]
     },
     "execution_count": 57,
     "metadata": {},
     "output_type": "execute_result"
    }
   ],
   "source": [
    "a"
   ]
  },
  {
   "cell_type": "code",
   "execution_count": 58,
   "id": "3bb233f4",
   "metadata": {},
   "outputs": [
    {
     "data": {
      "text/plain": [
       "2644653208240"
      ]
     },
     "execution_count": 58,
     "metadata": {},
     "output_type": "execute_result"
    }
   ],
   "source": [
    "id(a)"
   ]
  },
  {
   "cell_type": "code",
   "execution_count": 59,
   "id": "b103e58f",
   "metadata": {},
   "outputs": [],
   "source": [
    "L =[1,2,3]"
   ]
  },
  {
   "cell_type": "code",
   "execution_count": 60,
   "id": "a9f544db",
   "metadata": {},
   "outputs": [
    {
     "data": {
      "text/plain": [
       "2644652971200"
      ]
     },
     "execution_count": 60,
     "metadata": {},
     "output_type": "execute_result"
    }
   ],
   "source": [
    "id(L)"
   ]
  },
  {
   "cell_type": "code",
   "execution_count": 61,
   "id": "a9f10359",
   "metadata": {},
   "outputs": [],
   "source": [
    "L.append(4)"
   ]
  },
  {
   "cell_type": "code",
   "execution_count": 62,
   "id": "efc74cf0",
   "metadata": {},
   "outputs": [
    {
     "data": {
      "text/plain": [
       "[1, 2, 3, 4]"
      ]
     },
     "execution_count": 62,
     "metadata": {},
     "output_type": "execute_result"
    }
   ],
   "source": [
    "L"
   ]
  },
  {
   "cell_type": "code",
   "execution_count": 63,
   "id": "34ef072c",
   "metadata": {},
   "outputs": [
    {
     "data": {
      "text/plain": [
       "2644652971200"
      ]
     },
     "execution_count": 63,
     "metadata": {},
     "output_type": "execute_result"
    }
   ],
   "source": [
    "id(L)"
   ]
  },
  {
   "cell_type": "code",
   "execution_count": 64,
   "id": "482997a3",
   "metadata": {},
   "outputs": [],
   "source": [
    "#so the address does not change"
   ]
  },
  {
   "cell_type": "markdown",
   "id": "44f2db3d",
   "metadata": {},
   "source": [
    "# Cloning"
   ]
  },
  {
   "cell_type": "code",
   "execution_count": 65,
   "id": "0d73d643",
   "metadata": {},
   "outputs": [],
   "source": [
    "L=[1,2,3]\n",
    "L1=L[:]"
   ]
  },
  {
   "cell_type": "code",
   "execution_count": 66,
   "id": "94f19e0a",
   "metadata": {},
   "outputs": [
    {
     "data": {
      "text/plain": [
       "2644644289472"
      ]
     },
     "execution_count": 66,
     "metadata": {},
     "output_type": "execute_result"
    }
   ],
   "source": [
    "id(L)"
   ]
  },
  {
   "cell_type": "code",
   "execution_count": 67,
   "id": "ad50ff4d",
   "metadata": {},
   "outputs": [
    {
     "data": {
      "text/plain": [
       "2644653084160"
      ]
     },
     "execution_count": 67,
     "metadata": {},
     "output_type": "execute_result"
    }
   ],
   "source": [
    "id(L1)"
   ]
  },
  {
   "cell_type": "code",
   "execution_count": 68,
   "id": "41c91e9f",
   "metadata": {},
   "outputs": [],
   "source": [
    "L1.append(4)"
   ]
  },
  {
   "cell_type": "code",
   "execution_count": 69,
   "id": "b9d91911",
   "metadata": {},
   "outputs": [
    {
     "data": {
      "text/plain": [
       "[1, 2, 3, 4]"
      ]
     },
     "execution_count": 69,
     "metadata": {},
     "output_type": "execute_result"
    }
   ],
   "source": [
    "L1"
   ]
  },
  {
   "cell_type": "code",
   "execution_count": null,
   "id": "40521e33",
   "metadata": {},
   "outputs": [],
   "source": [
    "#end"
   ]
  }
 ],
 "metadata": {
  "kernelspec": {
   "display_name": "Python 3 (ipykernel)",
   "language": "python",
   "name": "python3"
  },
  "language_info": {
   "codemirror_mode": {
    "name": "ipython",
    "version": 3
   },
   "file_extension": ".py",
   "mimetype": "text/x-python",
   "name": "python",
   "nbconvert_exporter": "python",
   "pygments_lexer": "ipython3",
   "version": "3.11.5"
  }
 },
 "nbformat": 4,
 "nbformat_minor": 5
}
