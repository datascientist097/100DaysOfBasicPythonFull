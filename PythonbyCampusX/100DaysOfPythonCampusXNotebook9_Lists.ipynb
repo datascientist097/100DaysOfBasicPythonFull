{
 "cells": [
  {
   "cell_type": "markdown",
   "id": "04f657ff",
   "metadata": {},
   "source": [
    "# List"
   ]
  },
  {
   "cell_type": "markdown",
   "id": "3474261c",
   "metadata": {},
   "source": [
    "#what is list <br>\n",
    "#list is a data type where we can add multiple data types<br>\n",
    "#Array vs list<br>\n",
    "1. Array is Homogenous  while list is hetrogeneous<br>\n",
    "2. Array is continuous memory location while list is not<br>\n",
    "3. Arrays are much faster vs lists are slower and  time consuming<br>\n",
    "4. Arrays are not more programmer friendly but lists are more programmer friendly<br>"
   ]
  },
  {
   "cell_type": "code",
   "execution_count": 44,
   "id": "c32af7b6",
   "metadata": {},
   "outputs": [
    {
     "data": {
      "text/plain": [
       "[]"
      ]
     },
     "execution_count": 44,
     "metadata": {},
     "output_type": "execute_result"
    }
   ],
   "source": [
    "L=[]\n",
    "L"
   ]
  },
  {
   "cell_type": "code",
   "execution_count": 16,
   "id": "1be68ed8",
   "metadata": {},
   "outputs": [
    {
     "data": {
      "text/plain": [
       "[1, 2, 3, 4]"
      ]
     },
     "execution_count": 16,
     "metadata": {},
     "output_type": "execute_result"
    }
   ],
   "source": [
    "L1=[1,2,3,4] #homogenous\n",
    "L1"
   ]
  },
  {
   "cell_type": "code",
   "execution_count": 17,
   "id": "17fa3956",
   "metadata": {},
   "outputs": [
    {
     "data": {
      "text/plain": [
       "[1, 'Ahmed', 3, 'ali', True]"
      ]
     },
     "execution_count": 17,
     "metadata": {},
     "output_type": "execute_result"
    }
   ],
   "source": [
    "L2=[1,\"Ahmed\",3,\"ali\",True] #hetrogenous\n",
    "L2"
   ]
  },
  {
   "cell_type": "code",
   "execution_count": 32,
   "id": "0b9283e6",
   "metadata": {},
   "outputs": [
    {
     "data": {
      "text/plain": [
       "[1, 2, ['Ahmeed']]"
      ]
     },
     "execution_count": 32,
     "metadata": {},
     "output_type": "execute_result"
    }
   ],
   "source": [
    "#Multi Dimensional List\n",
    "#2D\n",
    "L3=[1,2,[\"Ahmeed\"]]\n",
    "L3"
   ]
  },
  {
   "cell_type": "code",
   "execution_count": 39,
   "id": "f1d48914",
   "metadata": {},
   "outputs": [
    {
     "data": {
      "text/plain": [
       "[1, 2, ['Ahmed'], [True, [False]], [6, 1]]"
      ]
     },
     "execution_count": 39,
     "metadata": {},
     "output_type": "execute_result"
    }
   ],
   "source": [
    "#3D\n",
    "L4= [1,2,[\"Ahmed\"],[True,[False]],[6,1]]\n",
    "L4"
   ]
  },
  {
   "cell_type": "code",
   "execution_count": 21,
   "id": "44097c39",
   "metadata": {},
   "outputs": [
    {
     "data": {
      "text/plain": [
       "['A', 'h', 'm', 'e', 'd']"
      ]
     },
     "execution_count": 21,
     "metadata": {},
     "output_type": "execute_result"
    }
   ],
   "source": [
    "L5=list(\"Ahmed\")\n",
    "L5"
   ]
  },
  {
   "cell_type": "code",
   "execution_count": 23,
   "id": "f7f4978f",
   "metadata": {},
   "outputs": [
    {
     "data": {
      "text/plain": [
       "[]"
      ]
     },
     "execution_count": 23,
     "metadata": {},
     "output_type": "execute_result"
    }
   ],
   "source": [
    "L6=list()\n",
    "L6"
   ]
  },
  {
   "cell_type": "code",
   "execution_count": 24,
   "id": "db3b3c43",
   "metadata": {},
   "outputs": [
    {
     "data": {
      "text/plain": [
       "[]"
      ]
     },
     "execution_count": 24,
     "metadata": {},
     "output_type": "execute_result"
    }
   ],
   "source": [
    "#How to access item from a list\n",
    "L"
   ]
  },
  {
   "cell_type": "code",
   "execution_count": 26,
   "id": "422cd943",
   "metadata": {},
   "outputs": [
    {
     "data": {
      "text/plain": [
       "[1, 'Ahmed', 3, 'ali', True]"
      ]
     },
     "execution_count": 26,
     "metadata": {},
     "output_type": "execute_result"
    }
   ],
   "source": [
    "L2"
   ]
  },
  {
   "cell_type": "code",
   "execution_count": 28,
   "id": "d54827d5",
   "metadata": {},
   "outputs": [
    {
     "data": {
      "text/plain": [
       "[1, 'Ahmed']"
      ]
     },
     "execution_count": 28,
     "metadata": {},
     "output_type": "execute_result"
    }
   ],
   "source": [
    "L2[:2]"
   ]
  },
  {
   "cell_type": "code",
   "execution_count": 29,
   "id": "dcd87c41",
   "metadata": {},
   "outputs": [
    {
     "data": {
      "text/plain": [
       "'Ahmed'"
      ]
     },
     "execution_count": 29,
     "metadata": {},
     "output_type": "execute_result"
    }
   ],
   "source": [
    "L2[1]"
   ]
  },
  {
   "cell_type": "code",
   "execution_count": 30,
   "id": "b45a11aa",
   "metadata": {},
   "outputs": [
    {
     "data": {
      "text/plain": [
       "[True, 'ali', 3, 'Ahmed', 1]"
      ]
     },
     "execution_count": 30,
     "metadata": {},
     "output_type": "execute_result"
    }
   ],
   "source": [
    "L2[::-1]"
   ]
  },
  {
   "cell_type": "code",
   "execution_count": 33,
   "id": "4c8a71c7",
   "metadata": {},
   "outputs": [
    {
     "data": {
      "text/plain": [
       "[1, 2, ['Ahmeed']]"
      ]
     },
     "execution_count": 33,
     "metadata": {},
     "output_type": "execute_result"
    }
   ],
   "source": [
    "L3"
   ]
  },
  {
   "cell_type": "code",
   "execution_count": 34,
   "id": "b44c5234",
   "metadata": {},
   "outputs": [
    {
     "data": {
      "text/plain": [
       "['Ahmeed']"
      ]
     },
     "execution_count": 34,
     "metadata": {},
     "output_type": "execute_result"
    }
   ],
   "source": [
    "L3[-1]"
   ]
  },
  {
   "cell_type": "code",
   "execution_count": 35,
   "id": "70f039ea",
   "metadata": {},
   "outputs": [],
   "source": [
    "x=L3[-1]"
   ]
  },
  {
   "cell_type": "code",
   "execution_count": 36,
   "id": "7e67bc61",
   "metadata": {},
   "outputs": [
    {
     "data": {
      "text/plain": [
       "['Ahmeed']"
      ]
     },
     "execution_count": 36,
     "metadata": {},
     "output_type": "execute_result"
    }
   ],
   "source": [
    "x"
   ]
  },
  {
   "cell_type": "code",
   "execution_count": 37,
   "id": "6be09425",
   "metadata": {},
   "outputs": [
    {
     "data": {
      "text/plain": [
       "'Ahmeed'"
      ]
     },
     "execution_count": 37,
     "metadata": {},
     "output_type": "execute_result"
    }
   ],
   "source": [
    "L3[-1][0]"
   ]
  },
  {
   "cell_type": "code",
   "execution_count": 40,
   "id": "1acf3bcb",
   "metadata": {},
   "outputs": [
    {
     "data": {
      "text/plain": [
       "[1, 2, ['Ahmed'], [True, [False]], [6, 1]]"
      ]
     },
     "execution_count": 40,
     "metadata": {},
     "output_type": "execute_result"
    }
   ],
   "source": [
    "L4"
   ]
  },
  {
   "cell_type": "code",
   "execution_count": 46,
   "id": "aca41cbe",
   "metadata": {},
   "outputs": [
    {
     "data": {
      "text/plain": [
       "[1, 2, 3, 4]"
      ]
     },
     "execution_count": 46,
     "metadata": {},
     "output_type": "execute_result"
    }
   ],
   "source": [
    "#How to edit items in list\n",
    "L1"
   ]
  },
  {
   "cell_type": "code",
   "execution_count": 47,
   "id": "1630f404",
   "metadata": {},
   "outputs": [],
   "source": [
    "L1[0]=100"
   ]
  },
  {
   "cell_type": "code",
   "execution_count": 48,
   "id": "367d9bb6",
   "metadata": {},
   "outputs": [
    {
     "data": {
      "text/plain": [
       "[100, 2, 3, 4]"
      ]
     },
     "execution_count": 48,
     "metadata": {},
     "output_type": "execute_result"
    }
   ],
   "source": [
    "L1"
   ]
  },
  {
   "cell_type": "code",
   "execution_count": 50,
   "id": "d7eeb0da",
   "metadata": {},
   "outputs": [],
   "source": [
    "L1[-1]=500"
   ]
  },
  {
   "cell_type": "code",
   "execution_count": 51,
   "id": "c99dc049",
   "metadata": {},
   "outputs": [
    {
     "data": {
      "text/plain": [
       "[100, 2, 3, 500]"
      ]
     },
     "execution_count": 51,
     "metadata": {},
     "output_type": "execute_result"
    }
   ],
   "source": [
    "L1"
   ]
  },
  {
   "cell_type": "code",
   "execution_count": 52,
   "id": "ecbfa4d7",
   "metadata": {},
   "outputs": [],
   "source": [
    "L1[2:3]=200,400"
   ]
  },
  {
   "cell_type": "code",
   "execution_count": 53,
   "id": "87074006",
   "metadata": {},
   "outputs": [
    {
     "data": {
      "text/plain": [
       "[100, 2, 200, 400, 500]"
      ]
     },
     "execution_count": 53,
     "metadata": {},
     "output_type": "execute_result"
    }
   ],
   "source": [
    "L1"
   ]
  },
  {
   "cell_type": "code",
   "execution_count": 54,
   "id": "7545c572",
   "metadata": {},
   "outputs": [],
   "source": [
    "#How to add new items\n",
    "#append\n",
    "#extend\n",
    "#insert\n"
   ]
  },
  {
   "cell_type": "code",
   "execution_count": 55,
   "id": "6072f335",
   "metadata": {},
   "outputs": [
    {
     "data": {
      "text/plain": [
       "[100, 2, 200, 400, 500]"
      ]
     },
     "execution_count": 55,
     "metadata": {},
     "output_type": "execute_result"
    }
   ],
   "source": [
    "#append\n",
    "L1"
   ]
  },
  {
   "cell_type": "code",
   "execution_count": 56,
   "id": "95fefdd2",
   "metadata": {},
   "outputs": [],
   "source": [
    "L1.append(\"Hello\")"
   ]
  },
  {
   "cell_type": "code",
   "execution_count": 57,
   "id": "6b3776c8",
   "metadata": {},
   "outputs": [
    {
     "data": {
      "text/plain": [
       "[100, 2, 200, 400, 500, 'Hello']"
      ]
     },
     "execution_count": 57,
     "metadata": {},
     "output_type": "execute_result"
    }
   ],
   "source": [
    "L1"
   ]
  },
  {
   "cell_type": "code",
   "execution_count": 61,
   "id": "37f0b16c",
   "metadata": {},
   "outputs": [],
   "source": [
    "#extend to add multiple items at end of list\n",
    "L1.extend([600,300,\"Ahmed\"])"
   ]
  },
  {
   "cell_type": "code",
   "execution_count": 62,
   "id": "6715647a",
   "metadata": {},
   "outputs": [
    {
     "data": {
      "text/plain": [
       "[100, 2, 200, 400, 500, 'Hello', 600, 300, 'Ahmed', 600, 300, 'Ahmed']"
      ]
     },
     "execution_count": 62,
     "metadata": {},
     "output_type": "execute_result"
    }
   ],
   "source": [
    "L1"
   ]
  },
  {
   "cell_type": "code",
   "execution_count": 63,
   "id": "e4f5093d",
   "metadata": {},
   "outputs": [],
   "source": [
    "#insert function to insert \n",
    "L1.insert(1,\"world\")"
   ]
  },
  {
   "cell_type": "code",
   "execution_count": 64,
   "id": "0cb550c9",
   "metadata": {},
   "outputs": [
    {
     "data": {
      "text/plain": [
       "[100, 'world', 2, 200, 400, 500, 'Hello', 600, 300, 'Ahmed', 600, 300, 'Ahmed']"
      ]
     },
     "execution_count": 64,
     "metadata": {},
     "output_type": "execute_result"
    }
   ],
   "source": [
    "L1"
   ]
  },
  {
   "cell_type": "markdown",
   "id": "9f06d5ed",
   "metadata": {},
   "source": [
    "# How to delete"
   ]
  },
  {
   "cell_type": "code",
   "execution_count": 70,
   "id": "c7473687",
   "metadata": {},
   "outputs": [
    {
     "data": {
      "text/plain": [
       "[100, 'world', 2, 200, 400, 500, 'Hello', 600, 300, 'Ahmed', 600, 300, 'Ahmed']"
      ]
     },
     "execution_count": 70,
     "metadata": {},
     "output_type": "execute_result"
    }
   ],
   "source": [
    "L1"
   ]
  },
  {
   "cell_type": "code",
   "execution_count": 71,
   "id": "8a9bb2a7",
   "metadata": {},
   "outputs": [],
   "source": [
    "del L1[0]"
   ]
  },
  {
   "cell_type": "code",
   "execution_count": 72,
   "id": "f75b172e",
   "metadata": {},
   "outputs": [
    {
     "data": {
      "text/plain": [
       "['world', 2, 200, 400, 500, 'Hello', 600, 300, 'Ahmed', 600, 300, 'Ahmed']"
      ]
     },
     "execution_count": 72,
     "metadata": {},
     "output_type": "execute_result"
    }
   ],
   "source": [
    "L1"
   ]
  },
  {
   "cell_type": "code",
   "execution_count": 73,
   "id": "80cb73dc",
   "metadata": {},
   "outputs": [],
   "source": [
    "#Remover if index position unknown"
   ]
  },
  {
   "cell_type": "code",
   "execution_count": 74,
   "id": "86d34e9f",
   "metadata": {},
   "outputs": [],
   "source": [
    "L1.remove(2)"
   ]
  },
  {
   "cell_type": "code",
   "execution_count": 75,
   "id": "999c2364",
   "metadata": {},
   "outputs": [
    {
     "data": {
      "text/plain": [
       "['world', 200, 400, 500, 'Hello', 600, 300, 'Ahmed', 600, 300, 'Ahmed']"
      ]
     },
     "execution_count": 75,
     "metadata": {},
     "output_type": "execute_result"
    }
   ],
   "source": [
    "L1"
   ]
  },
  {
   "cell_type": "code",
   "execution_count": 76,
   "id": "309394c2",
   "metadata": {},
   "outputs": [
    {
     "data": {
      "text/plain": [
       "'Ahmed'"
      ]
     },
     "execution_count": 76,
     "metadata": {},
     "output_type": "execute_result"
    }
   ],
   "source": [
    "L1.pop()"
   ]
  },
  {
   "cell_type": "code",
   "execution_count": 77,
   "id": "c95b8133",
   "metadata": {},
   "outputs": [
    {
     "data": {
      "text/plain": [
       "['world', 200, 400, 500, 'Hello', 600, 300, 'Ahmed', 600, 300]"
      ]
     },
     "execution_count": 77,
     "metadata": {},
     "output_type": "execute_result"
    }
   ],
   "source": [
    "L1"
   ]
  },
  {
   "cell_type": "code",
   "execution_count": 78,
   "id": "a0113403",
   "metadata": {},
   "outputs": [],
   "source": [
    "L1.clear()"
   ]
  },
  {
   "cell_type": "code",
   "execution_count": 79,
   "id": "8e576665",
   "metadata": {},
   "outputs": [
    {
     "data": {
      "text/plain": [
       "[]"
      ]
     },
     "execution_count": 79,
     "metadata": {},
     "output_type": "execute_result"
    }
   ],
   "source": [
    "L1"
   ]
  },
  {
   "cell_type": "markdown",
   "id": "3262850e",
   "metadata": {},
   "source": [
    "# operations on list"
   ]
  },
  {
   "cell_type": "code",
   "execution_count": 80,
   "id": "9d033f1a",
   "metadata": {},
   "outputs": [],
   "source": [
    "L=[1,2,3,4]\n",
    "L1=[5,6,7,8]"
   ]
  },
  {
   "cell_type": "code",
   "execution_count": 81,
   "id": "b357defc",
   "metadata": {},
   "outputs": [
    {
     "data": {
      "text/plain": [
       "[1, 2, 3, 4, 5, 6, 7, 8]"
      ]
     },
     "execution_count": 81,
     "metadata": {},
     "output_type": "execute_result"
    }
   ],
   "source": [
    "# A new list form\n",
    "L+L1"
   ]
  },
  {
   "cell_type": "code",
   "execution_count": 82,
   "id": "53c87567",
   "metadata": {},
   "outputs": [
    {
     "data": {
      "text/plain": [
       "[1, 2, 3, 4, 1, 2, 3, 4, 1, 2, 3, 4]"
      ]
     },
     "execution_count": 82,
     "metadata": {},
     "output_type": "execute_result"
    }
   ],
   "source": [
    "L*3"
   ]
  },
  {
   "cell_type": "code",
   "execution_count": null,
   "id": "e5cec7a9",
   "metadata": {},
   "outputs": [],
   "source": [
    "#loops"
   ]
  },
  {
   "cell_type": "code",
   "execution_count": 83,
   "id": "e726aa5d",
   "metadata": {},
   "outputs": [
    {
     "name": "stdout",
     "output_type": "stream",
     "text": [
      "1\n",
      "2\n",
      "3\n",
      "4\n"
     ]
    }
   ],
   "source": [
    "for i in L:\n",
    "    print(i)"
   ]
  },
  {
   "cell_type": "code",
   "execution_count": 85,
   "id": "20d81bcd",
   "metadata": {},
   "outputs": [
    {
     "name": "stdout",
     "output_type": "stream",
     "text": [
      "1\n",
      "2\n",
      "['Ahmeed']\n"
     ]
    }
   ],
   "source": [
    "for i in L3:\n",
    "    print(i)"
   ]
  },
  {
   "cell_type": "code",
   "execution_count": 86,
   "id": "8aa64d0a",
   "metadata": {},
   "outputs": [
    {
     "data": {
      "text/plain": [
       "True"
      ]
     },
     "execution_count": 86,
     "metadata": {},
     "output_type": "execute_result"
    }
   ],
   "source": [
    "4 in L"
   ]
  },
  {
   "cell_type": "markdown",
   "id": "75819ad8",
   "metadata": {},
   "source": [
    "# Functions in list"
   ]
  },
  {
   "cell_type": "code",
   "execution_count": 89,
   "id": "d91420d4",
   "metadata": {},
   "outputs": [
    {
     "data": {
      "text/plain": [
       "4"
      ]
     },
     "execution_count": 89,
     "metadata": {},
     "output_type": "execute_result"
    }
   ],
   "source": [
    "len(L)"
   ]
  },
  {
   "cell_type": "code",
   "execution_count": 90,
   "id": "1a82d1a7",
   "metadata": {},
   "outputs": [
    {
     "data": {
      "text/plain": [
       "1"
      ]
     },
     "execution_count": 90,
     "metadata": {},
     "output_type": "execute_result"
    }
   ],
   "source": [
    "min(L)"
   ]
  },
  {
   "cell_type": "code",
   "execution_count": 91,
   "id": "9d17a739",
   "metadata": {},
   "outputs": [
    {
     "data": {
      "text/plain": [
       "4"
      ]
     },
     "execution_count": 91,
     "metadata": {},
     "output_type": "execute_result"
    }
   ],
   "source": [
    "max(L)"
   ]
  },
  {
   "cell_type": "code",
   "execution_count": 92,
   "id": "5fc20b12",
   "metadata": {},
   "outputs": [
    {
     "data": {
      "text/plain": [
       "[1, 2, 3, 4]"
      ]
     },
     "execution_count": 92,
     "metadata": {},
     "output_type": "execute_result"
    }
   ],
   "source": [
    "sorted(L)"
   ]
  },
  {
   "cell_type": "code",
   "execution_count": 93,
   "id": "e98971a7",
   "metadata": {},
   "outputs": [
    {
     "data": {
      "text/plain": [
       "[4, 3, 2, 1]"
      ]
     },
     "execution_count": 93,
     "metadata": {},
     "output_type": "execute_result"
    }
   ],
   "source": [
    "sorted(L,reverse=True)"
   ]
  },
  {
   "cell_type": "code",
   "execution_count": 94,
   "id": "abdd8dd6",
   "metadata": {},
   "outputs": [],
   "source": [
    "L.sort()"
   ]
  },
  {
   "cell_type": "code",
   "execution_count": 95,
   "id": "ce7633a3",
   "metadata": {},
   "outputs": [
    {
     "data": {
      "text/plain": [
       "[1, 2, 3, 4]"
      ]
     },
     "execution_count": 95,
     "metadata": {},
     "output_type": "execute_result"
    }
   ],
   "source": [
    "L"
   ]
  },
  {
   "cell_type": "code",
   "execution_count": 96,
   "id": "810b58d8",
   "metadata": {},
   "outputs": [],
   "source": [
    "L.sort(reverse=True)"
   ]
  },
  {
   "cell_type": "code",
   "execution_count": 97,
   "id": "08234f3c",
   "metadata": {},
   "outputs": [
    {
     "data": {
      "text/plain": [
       "[4, 3, 2, 1]"
      ]
     },
     "execution_count": 97,
     "metadata": {},
     "output_type": "execute_result"
    }
   ],
   "source": [
    "L"
   ]
  },
  {
   "cell_type": "code",
   "execution_count": 98,
   "id": "9351e0ee",
   "metadata": {},
   "outputs": [
    {
     "data": {
      "text/plain": [
       "[4, 3, 2, 1]"
      ]
     },
     "execution_count": 98,
     "metadata": {},
     "output_type": "execute_result"
    }
   ],
   "source": [
    "L"
   ]
  },
  {
   "cell_type": "code",
   "execution_count": 99,
   "id": "2805a97d",
   "metadata": {},
   "outputs": [
    {
     "data": {
      "text/plain": [
       "1"
      ]
     },
     "execution_count": 99,
     "metadata": {},
     "output_type": "execute_result"
    }
   ],
   "source": [
    "L.index(3)"
   ]
  },
  {
   "cell_type": "code",
   "execution_count": 100,
   "id": "541932ad",
   "metadata": {},
   "outputs": [
    {
     "data": {
      "text/plain": [
       "'Hllo How Are You'"
      ]
     },
     "execution_count": 100,
     "metadata": {},
     "output_type": "execute_result"
    }
   ],
   "source": [
    "#Title function\n",
    "\"Hllo How are You\".title()"
   ]
  },
  {
   "cell_type": "code",
   "execution_count": 101,
   "id": "83565abf",
   "metadata": {},
   "outputs": [
    {
     "data": {
      "text/plain": [
       "['how', 'are', 'You?']"
      ]
     },
     "execution_count": 101,
     "metadata": {},
     "output_type": "execute_result"
    }
   ],
   "source": [
    "sample = \"how are You?\"\n",
    "sample.split()"
   ]
  },
  {
   "cell_type": "code",
   "execution_count": 105,
   "id": "01c4c9f4",
   "metadata": {},
   "outputs": [
    {
     "name": "stdout",
     "output_type": "stream",
     "text": [
      "how\n",
      "are\n",
      "You?\n"
     ]
    }
   ],
   "source": [
    "L=[]\n",
    "for i in sample.split():\n",
    "    print(i)"
   ]
  },
  {
   "cell_type": "code",
   "execution_count": 107,
   "id": "5fe89805",
   "metadata": {},
   "outputs": [
    {
     "name": "stdout",
     "output_type": "stream",
     "text": [
      "How\n",
      "Are\n",
      "You?\n"
     ]
    }
   ],
   "source": [
    "for i in sample.split():\n",
    "    print(i.capitalize())\n",
    "    L.append(i.capitalize())"
   ]
  },
  {
   "cell_type": "code",
   "execution_count": 108,
   "id": "5e940c0e",
   "metadata": {},
   "outputs": [
    {
     "name": "stdout",
     "output_type": "stream",
     "text": [
      "['How', 'Are', 'You?']\n"
     ]
    }
   ],
   "source": [
    "print(L)"
   ]
  },
  {
   "cell_type": "code",
   "execution_count": 109,
   "id": "79b3a30b",
   "metadata": {},
   "outputs": [
    {
     "name": "stdout",
     "output_type": "stream",
     "text": [
      "HowAreYou?\n"
     ]
    }
   ],
   "source": [
    "print(\"\".join(L))"
   ]
  },
  {
   "cell_type": "code",
   "execution_count": 110,
   "id": "e86b8e5d",
   "metadata": {},
   "outputs": [
    {
     "name": "stdout",
     "output_type": "stream",
     "text": [
      "rajaahmedalikhan97\n"
     ]
    }
   ],
   "source": [
    "#Extract Email id except domain\n",
    "#Example\n",
    "# \"xyz@gmail.com\"\n",
    "sample = \"rajaahmedalikhan97@outlook.com\"\n",
    "\n",
    "print(sample[:sample.find(\"@\")])"
   ]
  },
  {
   "cell_type": "code",
   "execution_count": 128,
   "id": "e11f8f3d",
   "metadata": {},
   "outputs": [],
   "source": [
    "X= [1,2,1,3,4,3,5,4,3,3]\n",
    "X1= [1,3,6,4]"
   ]
  },
  {
   "cell_type": "code",
   "execution_count": 129,
   "id": "3beae366",
   "metadata": {},
   "outputs": [
    {
     "data": {
      "text/plain": [
       "[1, 2, 1, 3, 4, 3, 5, 4, 3, 3]"
      ]
     },
     "execution_count": 129,
     "metadata": {},
     "output_type": "execute_result"
    }
   ],
   "source": [
    "X"
   ]
  },
  {
   "cell_type": "code",
   "execution_count": 130,
   "id": "06723890",
   "metadata": {},
   "outputs": [
    {
     "data": {
      "text/plain": [
       "10"
      ]
     },
     "execution_count": 130,
     "metadata": {},
     "output_type": "execute_result"
    }
   ],
   "source": [
    "len(X)"
   ]
  },
  {
   "cell_type": "code",
   "execution_count": 131,
   "id": "e725925a",
   "metadata": {},
   "outputs": [
    {
     "data": {
      "text/plain": [
       "[]"
      ]
     },
     "execution_count": 131,
     "metadata": {},
     "output_type": "execute_result"
    }
   ],
   "source": [
    "X2=[]\n",
    "X2"
   ]
  },
  {
   "cell_type": "code",
   "execution_count": 137,
   "id": "cec58699",
   "metadata": {},
   "outputs": [
    {
     "name": "stdout",
     "output_type": "stream",
     "text": [
      "[1, 2, 3, 4, 5]\n"
     ]
    }
   ],
   "source": [
    "for i in X:\n",
    "    if i not in X2:\n",
    "        X2.append(i)\n",
    "print(X2)"
   ]
  }
 ],
 "metadata": {
  "kernelspec": {
   "display_name": "Python 3 (ipykernel)",
   "language": "python",
   "name": "python3"
  },
  "language_info": {
   "codemirror_mode": {
    "name": "ipython",
    "version": 3
   },
   "file_extension": ".py",
   "mimetype": "text/x-python",
   "name": "python",
   "nbconvert_exporter": "python",
   "pygments_lexer": "ipython3",
   "version": "3.11.5"
  }
 },
 "nbformat": 4,
 "nbformat_minor": 5
}
