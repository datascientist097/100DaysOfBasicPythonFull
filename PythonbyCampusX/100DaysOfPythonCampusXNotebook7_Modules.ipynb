{
 "cells": [
  {
   "cell_type": "markdown",
   "id": "a0fd0140",
   "metadata": {},
   "source": [
    "# Builtin MODULES"
   ]
  },
  {
   "cell_type": "markdown",
   "id": "a81546b9",
   "metadata": {},
   "source": [
    "Consider a module to be same as code library <br>\n",
    "A file containing set of functions you want to include in your applications <br>\n",
    "Example of python modules <br>\n",
    "\n",
    "1. Math <br>\n",
    "2. Random <br>\n",
    "3. os <br>\n",
    "4. time <br>\n",
    "\n"
   ]
  },
  {
   "cell_type": "code",
   "execution_count": 2,
   "id": "ab403381",
   "metadata": {},
   "outputs": [
    {
     "name": "stdout",
     "output_type": "stream",
     "text": [
      "\n",
      "Please wait a moment while I gather a list of all available modules...\n",
      "\n"
     ]
    },
    {
     "name": "stderr",
     "output_type": "stream",
     "text": [
      "C:\\Users\\rajaa\\anaconda3\\Lib\\site-packages\\paramiko\\transport.py:219: CryptographyDeprecationWarning: Blowfish has been deprecated\n",
      "  \"class\": algorithms.Blowfish,\n",
      "WARNING: AstropyDeprecationWarning: The private astropy._erfa module has been made into its own package, pyerfa, which is a dependency of astropy and can be imported directly using \"import erfa\" [astropy._erfa]\n",
      "C:\\Users\\rajaa\\anaconda3\\Lib\\site-packages\\nltk\\twitter\\__init__.py:20: UserWarning: The twython library has not been installed. Some functionality from the twitter package will not be available.\n",
      "  warnings.warn(\n",
      "C:\\Users\\rajaa\\anaconda3\\Lib\\pkgutil.py:92: NumbaPendingDeprecationWarning: \u001b[1mThe 'pycc' module is pending deprecation. Replacement technology is being developed.\n",
      "\n",
      "Pending Deprecation in Numba 0.57.0. For more information please see: https://numba.readthedocs.io/en/stable/reference/deprecation.html#deprecation-of-the-numba-pycc-module\u001b[0m\n",
      "  __import__(info.name)\n",
      "C:\\Users\\rajaa\\anaconda3\\Lib\\pkgutil.py:92: UserWarning: The numpy.array_api submodule is still experimental. See NEP 47.\n",
      "  __import__(info.name)\n",
      "C:\\Users\\rajaa\\anaconda3\\Lib\\site-packages\\_distutils_hack\\__init__.py:33: UserWarning: Setuptools is replacing distutils.\n",
      "  warnings.warn(\"Setuptools is replacing distutils.\")\n",
      "No QCoreApplication instance found. Application patches not applied. You have to call load_stylesheet function after instantiation of QApplication to take effect. \n",
      "None of PyTorch, TensorFlow >= 2.0, or Flax have been found. Models won't be available and only tokenizers, configuration and file/data utilities can be used.\n"
     ]
    },
    {
     "name": "stdout",
     "output_type": "stream",
     "text": [
      "IPython             conda               mimetypes           sniffio\n",
      "OpenSSL             conda_build         mistune             snowballstemmer\n",
      "PIL                 conda_content_trust mkl                 socket\n",
      "PyQt5               conda_env           mkl_fft             socketserver\n",
      "TBB                 conda_index         mmap                socks\n",
      "__future__          conda_libmamba_solver mmapfile            sockshandler\n",
      "__hello__           conda_pack          mmsystem            sortedcontainers\n",
      "__phello__          conda_package_handling modulefinder        soupsieve\n",
      "_abc                conda_package_streaming more_itertools      sphinx\n",
      "_aix_support        conda_token         mpmath              spyder\n",
      "_argon2_cffi_bindings conda_verify        msgpack             spyder_kernels\n",
      "_ast                configparser        msilib              sqlalchemy\n",
      "_asyncio            constantly          msvcrt              sqlite3\n",
      "_bisect             contextlib          multidict           sre_compile\n",
      "_black_version      contextvars         multipledispatch    sre_constants\n",
      "_blake2             contourpy           multiprocess        sre_parse\n",
      "_bootsubprocess     cookiecutter        multiprocessing     ssl\n",
      "_bz2                copy                munkres             sspi\n",
      "_cffi_backend       copyreg             mypy_extensions     sspicon\n",
      "_codecs             cpuinfo             nacl                stack_data\n",
      "_codecs_cn          crypt               navigator_updater   start_pythonwin\n",
      "_codecs_hk          cryptography        nbclassic           stat\n",
      "_codecs_iso2022     cssselect           nbclient            statistics\n",
      "_codecs_jp          csv                 nbconvert           statsmodels\n",
      "_codecs_kr          ctypes              nbformat            string\n",
      "_codecs_tw          curl                nest_asyncio        stringprep\n",
      "_collections        curses              netbios             struct\n",
      "_collections_abc    cwp                 netrc               subprocess\n",
      "_compat_pickle      cycler              networkx            sunau\n",
      "_compression        cytoolz             nltk                sympy\n",
      "_contextvars        daal4py             nntplib             symtable\n",
      "_csv                dask                notebook            sys\n",
      "_ctypes             dataclasses         notebook_shim       sysconfig\n",
      "_ctypes_test        datasets            nt                  tables\n",
      "_datetime           datashader          ntpath              tabnanny\n",
      "_decimal            datashape           ntsecuritycon       tabulate\n",
      "_distutils_hack     datetime            nturl2path          tarfile\n",
      "_elementtree        dateutil            numba               tbb\n",
      "_functools          dbi                 numbergen           tblib\n",
      "_hashlib            dbm                 numbers             telnetlib\n",
      "_heapq              dde                 numexpr             tempfile\n",
      "_imp                debugpy             numpy               tenacity\n",
      "_io                 decimal             numpydoc            terminado\n",
      "_json               decorator           odbc                test\n",
      "_locale             defusedxml          onedal              test_pycosat\n",
      "_lsprof             diff_match_patch    opcode              text_unidecode\n",
      "_lzma               difflib             openpyxl            textdistance\n",
      "_markupbase         dill                operator            textwrap\n",
      "_md5                dis                 optparse            this\n",
      "_msi                distributed         os                  threading\n",
      "_multibytecodec     distutils           packaging           threadpoolctl\n",
      "_multiprocess       docstring_to_markdown pandas              three_merge\n",
      "_multiprocessing    doctest             pandocfilters       tifffile\n",
      "_nsis               docutils            panel               time\n",
      "_opcode             dotenv              param               timeit\n",
      "_operator           email               paramiko            timer\n",
      "_osx_support        encodings           parsel              tinycss2\n",
      "_overlapped         ensurepip           parso               tk\n",
      "_pickle             entrypoints         partd               tkcalendar\n",
      "_plotly_future_     enum                past                tkinter\n",
      "_plotly_utils       erfa                pathlib             tldextract\n",
      "_py_abc             errno               pathspec            tlz\n",
      "_pydecimal          et_xmlfile          patsy               token\n",
      "_pyio               executing           pdb                 tokenize\n",
      "_pyrsistent_version fastjsonschema      pep8                tokenizers\n",
      "_pytest             faulthandler        perfmon             toml\n",
      "_queue              filecmp             pexpect             tomlkit\n",
      "_random             fileinput           pickle              tomllib\n",
      "_sha1               filelock            pickleshare         toolz\n",
      "_sha256             flake8              pickletools         tornado\n",
      "_sha3               flask               pip                 tqdm\n",
      "_sha512             fnmatch             pipes               trace\n",
      "_signal             fontTools           pkce                traceback\n",
      "_sitebuiltins       fractions           pkg_resources       tracemalloc\n",
      "_socket             frozenlist          pkginfo             traitlets\n",
      "_sqlite3            fsspec              pkgutil             transformers\n",
      "_sre                ftplib              platform            tty\n",
      "_ssl                functools           platformdirs        turtle\n",
      "_stat               future              plistlib            turtledemo\n",
      "_statistics         gc                  plotly              twisted\n",
      "_string             genericpath         pluggy              types\n",
      "_strptime           gensim              ply                 typing\n",
      "_struct             getopt              poplib              typing_extensions\n",
      "_symtable           getpass             posixpath           tzdata\n",
      "_system_path        gettext             poyo                uc_micro\n",
      "_testbuffer         glob                pprint              ujson\n",
      "_testcapi           glob2               profile             unicodedata\n",
      "_testconsole        graphlib            prometheus_client   unidecode\n",
      "_testimportmultiple greenlet            prompt_toolkit      unittest\n",
      "_testinternalcapi   gzip                protego             urllib\n",
      "_testmultiphase     h5py                pstats              urllib3\n",
      "_thread             hashlib             psutil              uu\n",
      "_threading_local    heapdict            pty                 uuid\n",
      "_tkinter            heapq               ptyprocess          venv\n",
      "_tokenize           hmac                pure_eval           w3lib\n",
      "_tracemalloc        holoviews           pvectorc            warnings\n",
      "_typing             html                py                  watchdog\n",
      "_uuid               http                py_compile          wave\n",
      "_warnings           huggingface_hub     pyarrow             wcwidth\n",
      "_weakref            hvplot              pyasn1              weakref\n",
      "_weakrefset         hyperlink           pyasn1_modules      webbrowser\n",
      "_win32sysloader     idlelib             pyclbr              webencodings\n",
      "_winapi             idna                pycodestyle         websocket\n",
      "_winxptheme         imagecodecs         pycosat             werkzeug\n",
      "_xxsubinterpreters  imageio             pycparser           whatthepatch\n",
      "_yaml               imagesize           pyct                wheel\n",
      "_zoneinfo           imaplib             pycurl              widgetsnbextension\n",
      "abc                 imblearn            pydantic            win2kras\n",
      "adodbapi            imghdr              pydispatch          win32api\n",
      "afxres              imp                 pydoc               win32clipboard\n",
      "aifc                importlib           pydoc_data          win32com\n",
      "aiobotocore         importlib_metadata  pydocstyle          win32con\n",
      "aiofiles            incremental         pyexpat             win32console\n",
      "aiohttp             inflection          pyflakes            win32cred\n",
      "aioitertools        iniconfig           pygments            win32crypt\n",
      "aiosignal           inspect             pylab               win32cryptcon\n",
      "aiosqlite           intake              pylint              win32ctypes\n",
      "alabaster           intervaltree        pylint_venv         win32event\n",
      "anaconda_anon_usage io                  pyls_spyder         win32evtlog\n",
      "anaconda_catalogs   ipaddress           pylsp               win32evtlogutil\n",
      "anaconda_cloud_auth ipykernel           pylsp_black         win32file\n",
      "anaconda_navigator  ipykernel_launcher  pylsp_jsonrpc       win32gui\n",
      "anaconda_project    ipython_genutils    pyodbc              win32gui_struct\n",
      "antigravity         ipywidgets          pyparsing           win32help\n",
      "anyio               isapi               pyrsistent          win32inet\n",
      "appdirs             isort               pytest              win32inetcon\n",
      "argon2              isympy              pythoncom           win32job\n",
      "argparse            itemadapter         pythonjsonlogger    win32lz\n",
      "array               itemloaders         pytoolconfig        win32net\n",
      "arrow               itertools           pytz                win32netcon\n",
      "ast                 itsdangerous        pyviz_comms         win32pdh\n",
      "astroid             jedi                pywin               win32pdhquery\n",
      "astropy             jellyfish           pywin32_bootstrap   win32pdhutil\n",
      "asttokens           jinja2              pywin32_testutil    win32pipe\n",
      "async_timeout       jinja2_time         pywintypes          win32print\n",
      "asynchat            jmespath            pywt                win32process\n",
      "asyncio             joblib              qdarkstyle          win32profile\n",
      "asyncore            json                qstylizer           win32ras\n",
      "atexit              json5               qtawesome           win32rcparser\n",
      "atomicwrites        jsonpatch           qtconsole           win32security\n",
      "attr                jsonpointer         qtpy                win32service\n",
      "attrs               jsonschema          queue               win32serviceutil\n",
      "audioop             jupyter             queuelib            win32timezone\n",
      "automat             jupyter_client      quopri              win32trace\n",
      "autopep8            jupyter_console     random              win32traceutil\n",
      "babel               jupyter_core        rasutil             win32transaction\n",
      "backcall            jupyter_events      re                  win32ts\n",
      "backports           jupyter_server      regcheck            win32ui\n",
      "base64              jupyter_server_fileid regex               win32uiole\n",
      "bcrypt              jupyter_server_ydoc regutil             win32verstamp\n",
      "bdb                 jupyter_ydoc        repo_cli            win32wnet\n",
      "binaryornot         jupyterlab          reprlib             win_inet_pton\n",
      "binascii            jupyterlab_plotly   requests            winerror\n",
      "binstar_client      jupyterlab_pygments requests_file       winioctlcon\n",
      "bisect              jupyterlab_server   requests_toolbelt   winnt\n",
      "black               jupyterlab_widgets  responses           winperf\n",
      "blackd              jwt                 rfc3339_validator   winpty\n",
      "bleach              kaleido             rfc3986_validator   winreg\n",
      "blib2to3            keyring             rlcompleter         winsound\n",
      "bokeh               keyword             rope                winxpgui\n",
      "boltons             kiwisolver          rtree               winxptheme\n",
      "botocore            lazy_loader         ruamel_yaml         wrapt\n",
      "bottleneck          lazy_object_proxy   runpy               wsgiref\n",
      "brotli              lib2to3             s3fs                xarray\n",
      "bs4                 libarchive          safetensors         xdrlib\n",
      "builtins            libfuturize         sched               xlwings\n",
      "bz2                 libmambapy          scipy               xml\n",
      "cProfile            libpasteurize       scrapy              xmlrpc\n",
      "calendar            lief                seaborn             xxhash\n",
      "certifi             linecache           secrets             xxlimited\n",
      "cffi                linkify_it          select              xxlimited_35\n",
      "cgi                 llvmlite            selectors           xxsubtype\n",
      "cgitb               lmdb                send2trash          xyzservices\n",
      "chardet             locale              service_identity    y_py\n",
      "charset_normalizer  locket              servicemanager      yaml\n",
      "chunk               logging             setuptools          yapf\n",
      "click               lxml                shelve              yapftests\n",
      "cloudpickle         lz4                 shlex               yarl\n",
      "clyent              lzma                shutil              ypy_websocket\n",
      "cmath               mailbox             signal              zict\n",
      "cmd                 mailcap             sipbuild            zipapp\n",
      "code                markdown            site                zipfile\n",
      "codecs              markdown_it         six                 zipimport\n",
      "codeop              markupsafe          skimage             zipp\n",
      "collections         marshal             sklearn             zlib\n",
      "colorama            math                sklearnex           zmq\n",
      "colorcet            matplotlib          slugify             zoneinfo\n",
      "colorsys            matplotlib_inline   smart_open          zope\n",
      "comm                mccabe              smtpd               zstandard\n",
      "commctrl            mdit_py_plugins     smtplib             \n",
      "compileall          mdurl               snappy              \n",
      "concurrent          menuinst            sndhdr              \n",
      "\n",
      "Enter any module name to get more help.  Or, type \"modules spam\" to search\n",
      "for modules whose name or summary contain the string \"spam\".\n",
      "\n"
     ]
    }
   ],
   "source": [
    "help('modules')"
   ]
  },
  {
   "cell_type": "code",
   "execution_count": 3,
   "id": "e1a4f2fd",
   "metadata": {},
   "outputs": [],
   "source": [
    "#importing maths module\n",
    "import math"
   ]
  },
  {
   "cell_type": "code",
   "execution_count": 4,
   "id": "f4ee9b55",
   "metadata": {},
   "outputs": [
    {
     "data": {
      "text/plain": [
       "3.141592653589793"
      ]
     },
     "execution_count": 4,
     "metadata": {},
     "output_type": "execute_result"
    }
   ],
   "source": [
    "math.pi"
   ]
  },
  {
   "cell_type": "code",
   "execution_count": 5,
   "id": "8dc5889b",
   "metadata": {},
   "outputs": [
    {
     "data": {
      "text/plain": [
       "2.718281828459045"
      ]
     },
     "execution_count": 5,
     "metadata": {},
     "output_type": "execute_result"
    }
   ],
   "source": [
    "math.e"
   ]
  },
  {
   "cell_type": "code",
   "execution_count": 6,
   "id": "8713f1a1",
   "metadata": {},
   "outputs": [
    {
     "data": {
      "text/plain": [
       "120"
      ]
     },
     "execution_count": 6,
     "metadata": {},
     "output_type": "execute_result"
    }
   ],
   "source": [
    "math.factorial(5)"
   ]
  },
  {
   "cell_type": "code",
   "execution_count": 7,
   "id": "f553d6b1",
   "metadata": {},
   "outputs": [
    {
     "data": {
      "text/plain": [
       "3.1622776601683795"
      ]
     },
     "execution_count": 7,
     "metadata": {},
     "output_type": "execute_result"
    }
   ],
   "source": [
    "math.sqrt(10)"
   ]
  },
  {
   "cell_type": "code",
   "execution_count": 9,
   "id": "b049de7b",
   "metadata": {},
   "outputs": [
    {
     "data": {
      "text/plain": [
       "71"
      ]
     },
     "execution_count": 9,
     "metadata": {},
     "output_type": "execute_result"
    }
   ],
   "source": [
    "#importing random module\n",
    "import random\n",
    "random.randint(1,110)"
   ]
  },
  {
   "cell_type": "code",
   "execution_count": 13,
   "id": "07d1ae39",
   "metadata": {},
   "outputs": [
    {
     "data": {
      "text/plain": [
       "[9, 6, 2, 1, 4, 7]"
      ]
     },
     "execution_count": 13,
     "metadata": {},
     "output_type": "execute_result"
    }
   ],
   "source": [
    "x=[1,2,4,6,7,9]\n",
    "random.shuffle(x)\n",
    "x"
   ]
  },
  {
   "cell_type": "code",
   "execution_count": 14,
   "id": "e065ab6c",
   "metadata": {},
   "outputs": [],
   "source": [
    "import time"
   ]
  },
  {
   "cell_type": "code",
   "execution_count": 15,
   "id": "ebf8f9db",
   "metadata": {},
   "outputs": [
    {
     "data": {
      "text/plain": [
       "1706951026.9859476"
      ]
     },
     "execution_count": 15,
     "metadata": {},
     "output_type": "execute_result"
    }
   ],
   "source": [
    "time.time()"
   ]
  },
  {
   "cell_type": "code",
   "execution_count": 16,
   "id": "057baeab",
   "metadata": {},
   "outputs": [
    {
     "data": {
      "text/plain": [
       "'Sat Feb  3 14:04:21 2024'"
      ]
     },
     "execution_count": 16,
     "metadata": {},
     "output_type": "execute_result"
    }
   ],
   "source": [
    "time.ctime()"
   ]
  },
  {
   "cell_type": "code",
   "execution_count": 17,
   "id": "b12192fc",
   "metadata": {},
   "outputs": [
    {
     "name": "stdout",
     "output_type": "stream",
     "text": [
      "HEllo\n",
      "world\n"
     ]
    }
   ],
   "source": [
    "print(\"HEllo\")\n",
    "time.sleep(1)\n",
    "print(\"world\")"
   ]
  },
  {
   "cell_type": "code",
   "execution_count": 18,
   "id": "1e78f183",
   "metadata": {},
   "outputs": [],
   "source": [
    "import os"
   ]
  },
  {
   "cell_type": "code",
   "execution_count": 19,
   "id": "a4f162fe",
   "metadata": {},
   "outputs": [
    {
     "data": {
      "text/plain": [
       "'C:\\\\Users\\\\rajaa\\\\PythonbyCampusX'"
      ]
     },
     "execution_count": 19,
     "metadata": {},
     "output_type": "execute_result"
    }
   ],
   "source": [
    "os.getcwd()"
   ]
  },
  {
   "cell_type": "code",
   "execution_count": 20,
   "id": "fb63faa6",
   "metadata": {},
   "outputs": [
    {
     "data": {
      "text/plain": [
       "['.ipynb_checkpoints',\n",
       " '100DaysOfPythonCampusXNotebook1.ipynb',\n",
       " '100DaysOfPythonCampusXNotebook2.ipynb',\n",
       " '100DaysOfPythonCampusXNotebook3GuessingGame.ipynb',\n",
       " '100DaysOfPythonCampusXNotebook4ForLoop.ipynb',\n",
       " '100DaysOfPythonCampusXNotebook5NestedLoopsandbreaks.ipynb',\n",
       " '100DaysOfPythonCampusXNotebook6Builtinfun.ipynb',\n",
       " '100DaysOfPythonCampusXNotebook7_Modules.ipynb']"
      ]
     },
     "execution_count": 20,
     "metadata": {},
     "output_type": "execute_result"
    }
   ],
   "source": [
    "os.listdir()"
   ]
  }
 ],
 "metadata": {
  "kernelspec": {
   "display_name": "Python 3 (ipykernel)",
   "language": "python",
   "name": "python3"
  },
  "language_info": {
   "codemirror_mode": {
    "name": "ipython",
    "version": 3
   },
   "file_extension": ".py",
   "mimetype": "text/x-python",
   "name": "python",
   "nbconvert_exporter": "python",
   "pygments_lexer": "ipython3",
   "version": "3.11.5"
  }
 },
 "nbformat": 4,
 "nbformat_minor": 5
}
