{
 "cells": [
  {
   "cell_type": "markdown",
   "id": "34e995c7",
   "metadata": {},
   "source": [
    "# Object oriented programming in Python"
   ]
  },
  {
   "cell_type": "code",
   "execution_count": 2,
   "id": "e65f7346",
   "metadata": {},
   "outputs": [
    {
     "ename": "AttributeError",
     "evalue": "'list' object has no attribute 'upper'",
     "output_type": "error",
     "traceback": [
      "\u001b[1;31m---------------------------------------------------------------------------\u001b[0m",
      "\u001b[1;31mAttributeError\u001b[0m                            Traceback (most recent call last)",
      "Cell \u001b[1;32mIn[2], line 2\u001b[0m\n\u001b[0;32m      1\u001b[0m L\u001b[38;5;241m=\u001b[39m[\u001b[38;5;241m1\u001b[39m,\u001b[38;5;241m2\u001b[39m,\u001b[38;5;241m3\u001b[39m]\n\u001b[1;32m----> 2\u001b[0m \u001b[43mL\u001b[49m\u001b[38;5;241;43m.\u001b[39;49m\u001b[43mupper\u001b[49m()\n",
      "\u001b[1;31mAttributeError\u001b[0m: 'list' object has no attribute 'upper'"
     ]
    }
   ],
   "source": [
    "L=[1,2,3]\n",
    "L.upper()"
   ]
  },
  {
   "cell_type": "markdown",
   "id": "9708bb9e",
   "metadata": {},
   "source": [
    "what is an object?"
   ]
  },
  {
   "cell_type": "markdown",
   "id": "4c037ea5",
   "metadata": {},
   "source": [
    "# Class"
   ]
  },
  {
   "cell_type": "markdown",
   "id": "aa441973",
   "metadata": {},
   "source": [
    "class is a blue print of how an object will behave<br>"
   ]
  },
  {
   "cell_type": "code",
   "execution_count": 3,
   "id": "0ee0bd0b",
   "metadata": {},
   "outputs": [],
   "source": [
    "#data or property\n",
    "# function or behaviour"
   ]
  },
  {
   "cell_type": "markdown",
   "id": "5075da35",
   "metadata": {},
   "source": [
    "class name shuld be pascal case = AhmedAli <br>\n",
    "data type name in snake case"
   ]
  },
  {
   "cell_type": "markdown",
   "id": "07c2ba42",
   "metadata": {},
   "source": [
    "# object is an instance of class"
   ]
  },
  {
   "cell_type": "code",
   "execution_count": 5,
   "id": "aa9d0f53",
   "metadata": {},
   "outputs": [],
   "source": [
    "#Object literal \n",
    "L= [1,2,3]"
   ]
  },
  {
   "cell_type": "markdown",
   "id": "0ac0527a",
   "metadata": {},
   "source": [
    "# Lets make our first class for ATM"
   ]
  },
  {
   "cell_type": "code",
   "execution_count": 6,
   "id": "bd31c04a",
   "metadata": {},
   "outputs": [],
   "source": [
    "#Methods are special functions that are written inside a class"
   ]
  },
  {
   "cell_type": "code",
   "execution_count": 7,
   "id": "65bec58d",
   "metadata": {},
   "outputs": [],
   "source": [
    "#constructor execute automatically \n"
   ]
  },
  {
   "cell_type": "code",
   "execution_count": 8,
   "id": "785e3394",
   "metadata": {},
   "outputs": [],
   "source": [
    "class ATM:\n",
    "    #constructor\n",
    "    def __init__(self):\n",
    "        \n",
    "        self.pin = \"\"\n",
    "        self.balance = 0\n",
    "        \n",
    "        self.menu()\n",
    "    def menu(self):\n",
    "        user_input = input(\"\"\"\n",
    "                        Hello, How would You like to proceed?\n",
    "                        1. Enter 1 to creat pin\n",
    "                        2. Enter 2 to deposit\n",
    "                        3. Enter 3 to withdraw\n",
    "                        4. Enter 4 to check balance\n",
    "                        5. Enter 5 to exit\n",
    "\"\"\")\n",
    "        if user_input == '1':\n",
    "            print(\"Create Pin\")\n",
    "        elif user_input == '2':\n",
    "            print(\"Deposit Amount\")\n",
    "        if user_input == '3':\n",
    "            print(\"Withdraw Money\")\n",
    "        elif user_input == '4':\n",
    "            print(\"Check Balance\")\n",
    "        else:\n",
    "            print(\"Thank You\")\n",
    "        \n",
    "        "
   ]
  },
  {
   "cell_type": "code",
   "execution_count": 9,
   "id": "abf44259",
   "metadata": {},
   "outputs": [
    {
     "name": "stdout",
     "output_type": "stream",
     "text": [
      "\n",
      "                        Hello, How would You like to proceed?\n",
      "                        1. Enter 1 to creat pin\n",
      "                        2. Enter 2 to deposit\n",
      "                        3. Enter 3 to withdraw\n",
      "                        4. Enter 4 to check balance\n",
      "                        5. Enter 5 to exit\n",
      "1\n",
      "Create Pin\n",
      "Thank You\n"
     ]
    }
   ],
   "source": [
    "sbi = ATM()"
   ]
  },
  {
   "cell_type": "code",
   "execution_count": 22,
   "id": "7cac6f09",
   "metadata": {},
   "outputs": [],
   "source": [
    "class ATM:\n",
    "    #constructor\n",
    "    def __init__(self):\n",
    "        \n",
    "        self.pin = \"\"\n",
    "        self.balance = 0\n",
    "        \n",
    "        self.menu()\n",
    "    def menu(self):\n",
    "        user_input = input(\"\"\"\n",
    "                        Hello, How would You like to proceed?\n",
    "                        1. Enter 1 to creat pin\n",
    "                        2. Enter 2 to deposit\n",
    "                        3. Enter 3 to withdraw\n",
    "                        4. Enter 4 to check balance\n",
    "                        5. Enter 5 to exit\n",
    "\"\"\")\n",
    "        if user_input == '1':\n",
    "            self.create_pin()\n",
    "        elif user_input == '2':\n",
    "            self.deposit()\n",
    "        if user_input == '3':\n",
    "            self.withdraw()\n",
    "        elif user_input == '4':\n",
    "            self.check_amount()\n",
    "        else:\n",
    "            print(\"Thank You\")\n",
    "            \n",
    "    def create_pin(self):\n",
    "        self.pin = input(\"Enter Your Pin\")\n",
    "        print(\"Pin created succesfully\")\n",
    "    \n",
    "    def deposit(self):\n",
    "        temp = input(\"Enter Your pin\")\n",
    "        if temp == self.pin:\n",
    "            amount = int(input(\"Enter Amount to deposit\"))\n",
    "            self.balance = self.balance + amount\n",
    "            print(\"Deposit Successfully \")\n",
    "        else:\n",
    "            print(\"Invalid Pin\")\n",
    "    \n",
    "    def withdraw(self):\n",
    "        temp = input(\"Enter Your pin\")\n",
    "        if temp == self.pin:\n",
    "            amount = int(input(\"Enter Amount to withdraw\"))\n",
    "            if amount < self.balance:\n",
    "                self.balance = self.balance - amount\n",
    "                print(f\"Withdraw Successfully{amount}\")\n",
    "            else:\n",
    "                print(\"Insufficient Funds\")\n",
    "        else:\n",
    "            print(\"Invalid Pin\")\n",
    "    \n",
    "    def check_amount(self):\n",
    "        temp = input(\"Enter Your pin\")\n",
    "        if temp == self.pin:\n",
    "            print(self.balance)\n",
    "        else:\n",
    "            print(\"Invalid Pin\")"
   ]
  },
  {
   "cell_type": "code",
   "execution_count": 23,
   "id": "2b36e849",
   "metadata": {},
   "outputs": [
    {
     "name": "stdout",
     "output_type": "stream",
     "text": [
      "\n",
      "                        Hello, How would You like to proceed?\n",
      "                        1. Enter 1 to creat pin\n",
      "                        2. Enter 2 to deposit\n",
      "                        3. Enter 3 to withdraw\n",
      "                        4. Enter 4 to check balance\n",
      "                        5. Enter 5 to exit\n",
      "1\n",
      "Enter Your Pin1234\n",
      "Pin created succesfully\n",
      "Thank You\n"
     ]
    }
   ],
   "source": [
    "call = ATM()"
   ]
  },
  {
   "cell_type": "code",
   "execution_count": 24,
   "id": "a918e137",
   "metadata": {},
   "outputs": [
    {
     "name": "stdout",
     "output_type": "stream",
     "text": [
      "Enter Your pin1234\n",
      "Enter Amount to withdraw2000\n",
      "Insufficient Funds\n"
     ]
    }
   ],
   "source": [
    "call.withdraw()"
   ]
  },
  {
   "cell_type": "markdown",
   "id": "36d73791",
   "metadata": {},
   "source": [
    "#constructor <br>\n",
    "#special function / magic / dunder methods<br>\n",
    "#what is utility of constructor<br>\n",
    "#Constructor is a method whoes control is not in hands of user<br>\n",
    "#It starts working as the application open for configuration as <br>turning on internet , connecting to GPS , connecting with Databas. In a philosophical way Its like when we born the constructor is death that will come all the way"
   ]
  },
  {
   "cell_type": "code",
   "execution_count": 25,
   "id": "3a9e2c43",
   "metadata": {},
   "outputs": [],
   "source": [
    "#object hi self hai"
   ]
  }
 ],
 "metadata": {
  "kernelspec": {
   "display_name": "Python 3 (ipykernel)",
   "language": "python",
   "name": "python3"
  },
  "language_info": {
   "codemirror_mode": {
    "name": "ipython",
    "version": 3
   },
   "file_extension": ".py",
   "mimetype": "text/x-python",
   "name": "python",
   "nbconvert_exporter": "python",
   "pygments_lexer": "ipython3",
   "version": "3.11.5"
  }
 },
 "nbformat": 4,
 "nbformat_minor": 5
}
