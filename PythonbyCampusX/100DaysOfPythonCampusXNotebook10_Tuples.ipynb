{
 "cells": [
  {
   "cell_type": "markdown",
   "id": "d7919a73",
   "metadata": {},
   "source": [
    "# tuple/sets/dictionary/Problems <br>"
   ]
  },
  {
   "cell_type": "markdown",
   "id": "29ae318a",
   "metadata": {},
   "source": [
    "1. Tuples"
   ]
  },
  {
   "cell_type": "code",
   "execution_count": 4,
   "id": "ff5a83e0",
   "metadata": {},
   "outputs": [
    {
     "data": {
      "text/plain": [
       "()"
      ]
     },
     "execution_count": 4,
     "metadata": {},
     "output_type": "execute_result"
    }
   ],
   "source": [
    "#creating a Tuple\n",
    "T1 = () #Empty tuple\n",
    "T1"
   ]
  },
  {
   "cell_type": "code",
   "execution_count": 6,
   "id": "9154a834",
   "metadata": {},
   "outputs": [
    {
     "data": {
      "text/plain": [
       "(1, 2, 3, 4, 5)"
      ]
     },
     "execution_count": 6,
     "metadata": {},
     "output_type": "execute_result"
    }
   ],
   "source": [
    "#Homogenous\n",
    "T2=(1,2,3,4,5)\n",
    "T2"
   ]
  },
  {
   "cell_type": "code",
   "execution_count": 7,
   "id": "96bdc801",
   "metadata": {},
   "outputs": [
    {
     "data": {
      "text/plain": [
       "('Hello', 1, 2, 3)"
      ]
     },
     "execution_count": 7,
     "metadata": {},
     "output_type": "execute_result"
    }
   ],
   "source": [
    "#Hetrogenous\n",
    "T3 =(\"Hello\",1,2,3)\n",
    "T3"
   ]
  },
  {
   "cell_type": "code",
   "execution_count": 9,
   "id": "21b7f4e6",
   "metadata": {},
   "outputs": [
    {
     "data": {
      "text/plain": [
       "(1, 2, (3, 4))"
      ]
     },
     "execution_count": 9,
     "metadata": {},
     "output_type": "execute_result"
    }
   ],
   "source": [
    "#2D Tuples\n",
    "T4 = (1,2,(3,4))\n",
    "T4"
   ]
  },
  {
   "cell_type": "code",
   "execution_count": 10,
   "id": "9e8da7f1",
   "metadata": {},
   "outputs": [
    {
     "data": {
      "text/plain": [
       "('Hello',)"
      ]
     },
     "execution_count": 10,
     "metadata": {},
     "output_type": "execute_result"
    }
   ],
   "source": [
    "#single item tuple\n",
    "T5 = (\"Hello\",)\n",
    "T5"
   ]
  },
  {
   "cell_type": "code",
   "execution_count": 11,
   "id": "f819faf9",
   "metadata": {},
   "outputs": [
    {
     "data": {
      "text/plain": [
       "tuple"
      ]
     },
     "execution_count": 11,
     "metadata": {},
     "output_type": "execute_result"
    }
   ],
   "source": [
    "type(T5)"
   ]
  },
  {
   "cell_type": "code",
   "execution_count": 12,
   "id": "ed2fe2da",
   "metadata": {},
   "outputs": [],
   "source": [
    "T6= tuple(\"Khuiratta\")"
   ]
  },
  {
   "cell_type": "code",
   "execution_count": 13,
   "id": "53ca9819",
   "metadata": {},
   "outputs": [
    {
     "data": {
      "text/plain": [
       "('K', 'h', 'u', 'i', 'r', 'a', 't', 't', 'a')"
      ]
     },
     "execution_count": 13,
     "metadata": {},
     "output_type": "execute_result"
    }
   ],
   "source": [
    "T6"
   ]
  },
  {
   "cell_type": "code",
   "execution_count": 14,
   "id": "438fd739",
   "metadata": {},
   "outputs": [
    {
     "data": {
      "text/plain": [
       "1"
      ]
     },
     "execution_count": 14,
     "metadata": {},
     "output_type": "execute_result"
    }
   ],
   "source": [
    "#How to access items from Tuple\n",
    "T2[0]"
   ]
  },
  {
   "cell_type": "code",
   "execution_count": 15,
   "id": "d476fde5",
   "metadata": {},
   "outputs": [
    {
     "data": {
      "text/plain": [
       "(1, 2, 3, 4)"
      ]
     },
     "execution_count": 15,
     "metadata": {},
     "output_type": "execute_result"
    }
   ],
   "source": [
    "T2[0:4]"
   ]
  },
  {
   "cell_type": "code",
   "execution_count": 16,
   "id": "0d1d8e7d",
   "metadata": {},
   "outputs": [
    {
     "data": {
      "text/plain": [
       "3"
      ]
     },
     "execution_count": 16,
     "metadata": {},
     "output_type": "execute_result"
    }
   ],
   "source": [
    "T4[-1][0]"
   ]
  },
  {
   "cell_type": "code",
   "execution_count": 17,
   "id": "90814494",
   "metadata": {},
   "outputs": [],
   "source": [
    "#Editing a list\n",
    "#You cnt change"
   ]
  },
  {
   "cell_type": "code",
   "execution_count": 18,
   "id": "d9e3baee",
   "metadata": {},
   "outputs": [],
   "source": [
    "#Deleting a tuple\n",
    "#You cnt dlt a single item\n"
   ]
  },
  {
   "cell_type": "code",
   "execution_count": 19,
   "id": "91cf7534",
   "metadata": {},
   "outputs": [
    {
     "data": {
      "text/plain": [
       "(1, 2, 3, 4, 5, 'Hello', 1, 2, 3)"
      ]
     },
     "execution_count": 19,
     "metadata": {},
     "output_type": "execute_result"
    }
   ],
   "source": [
    "#Operations on Tuples\n",
    "# 1. concetnate\n",
    "T2+T3"
   ]
  },
  {
   "cell_type": "code",
   "execution_count": 20,
   "id": "1673fbf4",
   "metadata": {},
   "outputs": [
    {
     "data": {
      "text/plain": [
       "(1, 2, 3, 4, 5, 1, 2, 3, 4, 5, 1, 2, 3, 4, 5)"
      ]
     },
     "execution_count": 20,
     "metadata": {},
     "output_type": "execute_result"
    }
   ],
   "source": [
    "T2*3"
   ]
  },
  {
   "cell_type": "code",
   "execution_count": 21,
   "id": "f4ef2b2b",
   "metadata": {},
   "outputs": [
    {
     "name": "stdout",
     "output_type": "stream",
     "text": [
      "1\n",
      "2\n",
      "3\n",
      "4\n",
      "5\n"
     ]
    }
   ],
   "source": [
    "for i in T2:\n",
    "    print(i)"
   ]
  },
  {
   "cell_type": "code",
   "execution_count": 22,
   "id": "6d826fbd",
   "metadata": {},
   "outputs": [
    {
     "data": {
      "text/plain": [
       "True"
      ]
     },
     "execution_count": 22,
     "metadata": {},
     "output_type": "execute_result"
    }
   ],
   "source": [
    "1 in T2"
   ]
  },
  {
   "cell_type": "code",
   "execution_count": 23,
   "id": "5c63e8d8",
   "metadata": {},
   "outputs": [
    {
     "data": {
      "text/plain": [
       "1"
      ]
     },
     "execution_count": 23,
     "metadata": {},
     "output_type": "execute_result"
    }
   ],
   "source": [
    "#Functions in Tuples\n",
    "min(T2)"
   ]
  },
  {
   "cell_type": "code",
   "execution_count": 24,
   "id": "208778f7",
   "metadata": {},
   "outputs": [
    {
     "data": {
      "text/plain": [
       "5"
      ]
     },
     "execution_count": 24,
     "metadata": {},
     "output_type": "execute_result"
    }
   ],
   "source": [
    "max(T2)"
   ]
  },
  {
   "cell_type": "code",
   "execution_count": 25,
   "id": "cdfcaf3d",
   "metadata": {},
   "outputs": [
    {
     "data": {
      "text/plain": [
       "15"
      ]
     },
     "execution_count": 25,
     "metadata": {},
     "output_type": "execute_result"
    }
   ],
   "source": [
    "sum(T2)"
   ]
  },
  {
   "cell_type": "code",
   "execution_count": 26,
   "id": "63db839f",
   "metadata": {},
   "outputs": [
    {
     "data": {
      "text/plain": [
       "[1, 2, 3, 4, 5]"
      ]
     },
     "execution_count": 26,
     "metadata": {},
     "output_type": "execute_result"
    }
   ],
   "source": [
    "sorted(T2)"
   ]
  },
  {
   "cell_type": "code",
   "execution_count": 27,
   "id": "619e2ecc",
   "metadata": {},
   "outputs": [
    {
     "data": {
      "text/plain": [
       "[5, 4, 3, 2, 1]"
      ]
     },
     "execution_count": 27,
     "metadata": {},
     "output_type": "execute_result"
    }
   ],
   "source": [
    "sorted(T2,reverse=True)"
   ]
  },
  {
   "cell_type": "markdown",
   "id": "5b3c6243",
   "metadata": {},
   "source": [
    "Tuples are read only data type where data integrity is important <br>"
   ]
  },
  {
   "cell_type": "markdown",
   "id": "bd0437a9",
   "metadata": {},
   "source": [
    "# sets"
   ]
  },
  {
   "cell_type": "markdown",
   "id": "d20001f2",
   "metadata": {},
   "source": [
    "1. Dont have duplicates <br>\n",
    "2. Have no indexing or slicing <br>\n",
    "3. sets dont allow mutable data types <br>\n",
    "4. set itself is a mutable data types<br>"
   ]
  },
  {
   "cell_type": "code",
   "execution_count": 28,
   "id": "ef3179ec",
   "metadata": {},
   "outputs": [
    {
     "data": {
      "text/plain": [
       "dict"
      ]
     },
     "execution_count": 28,
     "metadata": {},
     "output_type": "execute_result"
    }
   ],
   "source": [
    "#creating a set\n",
    "s1 = {}\n",
    "type(s1)"
   ]
  },
  {
   "cell_type": "code",
   "execution_count": 30,
   "id": "94eee14a",
   "metadata": {},
   "outputs": [
    {
     "data": {
      "text/plain": [
       "set"
      ]
     },
     "execution_count": 30,
     "metadata": {},
     "output_type": "execute_result"
    }
   ],
   "source": [
    "#empty set\n",
    "set()\n",
    "type(set())"
   ]
  },
  {
   "cell_type": "code",
   "execution_count": 31,
   "id": "1c00e2f9",
   "metadata": {},
   "outputs": [],
   "source": [
    "#homogenous\n",
    "s1 = {1,2,3,4}"
   ]
  },
  {
   "cell_type": "code",
   "execution_count": 32,
   "id": "89136d4c",
   "metadata": {},
   "outputs": [],
   "source": [
    "#hetrogenous\n",
    "s2 ={\"Hello\",4,5,True}"
   ]
  },
  {
   "cell_type": "code",
   "execution_count": 33,
   "id": "3daf5f61",
   "metadata": {},
   "outputs": [
    {
     "data": {
      "text/plain": [
       "{1, 2, 3, 4}"
      ]
     },
     "execution_count": 33,
     "metadata": {},
     "output_type": "execute_result"
    }
   ],
   "source": [
    "#Dont have duplicates\n",
    "s3= {1,1,2,2,3,3,4}\n",
    "s3"
   ]
  },
  {
   "cell_type": "code",
   "execution_count": 38,
   "id": "a8db4e1c",
   "metadata": {},
   "outputs": [
    {
     "ename": "TypeError",
     "evalue": "unhashable type: 'list'",
     "output_type": "error",
     "traceback": [
      "\u001b[1;31m---------------------------------------------------------------------------\u001b[0m",
      "\u001b[1;31mTypeError\u001b[0m                                 Traceback (most recent call last)",
      "Cell \u001b[1;32mIn[38], line 2\u001b[0m\n\u001b[0;32m      1\u001b[0m \u001b[38;5;66;03m#sets dont allow mutable data types\u001b[39;00m\n\u001b[1;32m----> 2\u001b[0m s4 \u001b[38;5;241m=\u001b[39m {[\u001b[38;5;241m1\u001b[39m,\u001b[38;5;241m2\u001b[39m,\u001b[38;5;241m3\u001b[39m],\u001b[38;5;124m\"\u001b[39m\u001b[38;5;124mhello\u001b[39m\u001b[38;5;124m\"\u001b[39m}\n",
      "\u001b[1;31mTypeError\u001b[0m: unhashable type: 'list'"
     ]
    }
   ],
   "source": [
    "#sets dont allow mutable data types\n",
    "s4 = {[1,2,3],\"hello\"}"
   ]
  },
  {
   "cell_type": "code",
   "execution_count": 36,
   "id": "8acf2bd3",
   "metadata": {},
   "outputs": [],
   "source": [
    "s4 ={(1,2,3),\"Hello\"}"
   ]
  },
  {
   "cell_type": "code",
   "execution_count": 39,
   "id": "6038a910",
   "metadata": {},
   "outputs": [
    {
     "data": {
      "text/plain": [
       "{(1, 2, 3), 'Hello'}"
      ]
     },
     "execution_count": 39,
     "metadata": {},
     "output_type": "execute_result"
    }
   ],
   "source": [
    "s4"
   ]
  },
  {
   "cell_type": "code",
   "execution_count": 40,
   "id": "b849f47c",
   "metadata": {},
   "outputs": [],
   "source": [
    "#Have no indexing or slicing\n",
    "#instead they follow a technique hashing\n",
    "#2D,3D sets are not possible"
   ]
  },
  {
   "cell_type": "code",
   "execution_count": 41,
   "id": "4a96523f",
   "metadata": {},
   "outputs": [
    {
     "ename": "TypeError",
     "evalue": "'set' object is not subscriptable",
     "output_type": "error",
     "traceback": [
      "\u001b[1;31m---------------------------------------------------------------------------\u001b[0m",
      "\u001b[1;31mTypeError\u001b[0m                                 Traceback (most recent call last)",
      "Cell \u001b[1;32mIn[41], line 2\u001b[0m\n\u001b[0;32m      1\u001b[0m \u001b[38;5;66;03m#How to access items\u001b[39;00m\n\u001b[1;32m----> 2\u001b[0m \u001b[43ms1\u001b[49m\u001b[43m[\u001b[49m\u001b[38;5;241;43m0\u001b[39;49m\u001b[43m]\u001b[49m\n",
      "\u001b[1;31mTypeError\u001b[0m: 'set' object is not subscriptable"
     ]
    }
   ],
   "source": [
    "#How to access items\n",
    "s1[0]"
   ]
  },
  {
   "cell_type": "code",
   "execution_count": 42,
   "id": "1f6c77a9",
   "metadata": {},
   "outputs": [
    {
     "data": {
      "text/plain": [
       "{1, 2, 3, 4}"
      ]
     },
     "execution_count": 42,
     "metadata": {},
     "output_type": "execute_result"
    }
   ],
   "source": [
    "# we also cant edit items\n",
    "s1"
   ]
  },
  {
   "cell_type": "code",
   "execution_count": 43,
   "id": "6380271a",
   "metadata": {},
   "outputs": [
    {
     "data": {
      "text/plain": [
       "1742345557984"
      ]
     },
     "execution_count": 43,
     "metadata": {},
     "output_type": "execute_result"
    }
   ],
   "source": [
    "id(s1)"
   ]
  },
  {
   "cell_type": "code",
   "execution_count": 44,
   "id": "2bf6c13f",
   "metadata": {},
   "outputs": [],
   "source": [
    "L=list(s1)"
   ]
  },
  {
   "cell_type": "code",
   "execution_count": 45,
   "id": "0d44604c",
   "metadata": {},
   "outputs": [
    {
     "data": {
      "text/plain": [
       "[1, 2, 3, 4]"
      ]
     },
     "execution_count": 45,
     "metadata": {},
     "output_type": "execute_result"
    }
   ],
   "source": [
    "L"
   ]
  },
  {
   "cell_type": "code",
   "execution_count": 46,
   "id": "9e07f85e",
   "metadata": {},
   "outputs": [],
   "source": [
    "L[0]=100"
   ]
  },
  {
   "cell_type": "code",
   "execution_count": 47,
   "id": "8a0801f4",
   "metadata": {},
   "outputs": [
    {
     "data": {
      "text/plain": [
       "[100, 2, 3, 4]"
      ]
     },
     "execution_count": 47,
     "metadata": {},
     "output_type": "execute_result"
    }
   ],
   "source": [
    "L"
   ]
  },
  {
   "cell_type": "code",
   "execution_count": 48,
   "id": "0ee00796",
   "metadata": {},
   "outputs": [],
   "source": [
    "s1=set(L)"
   ]
  },
  {
   "cell_type": "code",
   "execution_count": 49,
   "id": "274451eb",
   "metadata": {},
   "outputs": [
    {
     "data": {
      "text/plain": [
       "{2, 3, 4, 100}"
      ]
     },
     "execution_count": 49,
     "metadata": {},
     "output_type": "execute_result"
    }
   ],
   "source": [
    "s1"
   ]
  },
  {
   "cell_type": "code",
   "execution_count": 50,
   "id": "b14eda19",
   "metadata": {},
   "outputs": [
    {
     "data": {
      "text/plain": [
       "1742347536864"
      ]
     },
     "execution_count": 50,
     "metadata": {},
     "output_type": "execute_result"
    }
   ],
   "source": [
    "id(s1)"
   ]
  },
  {
   "cell_type": "code",
   "execution_count": 51,
   "id": "c0c5159c",
   "metadata": {},
   "outputs": [],
   "source": [
    "# We can add items \n",
    "s1.add(6)"
   ]
  },
  {
   "cell_type": "code",
   "execution_count": 52,
   "id": "0468578d",
   "metadata": {},
   "outputs": [
    {
     "data": {
      "text/plain": [
       "{2, 3, 4, 6, 100}"
      ]
     },
     "execution_count": 52,
     "metadata": {},
     "output_type": "execute_result"
    }
   ],
   "source": [
    "s1"
   ]
  },
  {
   "cell_type": "code",
   "execution_count": 53,
   "id": "c7473831",
   "metadata": {},
   "outputs": [
    {
     "data": {
      "text/plain": [
       "1742347536864"
      ]
     },
     "execution_count": 53,
     "metadata": {},
     "output_type": "execute_result"
    }
   ],
   "source": [
    "id(s1)"
   ]
  },
  {
   "cell_type": "code",
   "execution_count": 54,
   "id": "3d79f89e",
   "metadata": {},
   "outputs": [],
   "source": [
    "s1.add(8)"
   ]
  },
  {
   "cell_type": "code",
   "execution_count": 55,
   "id": "c6223632",
   "metadata": {},
   "outputs": [
    {
     "data": {
      "text/plain": [
       "{2, 3, 4, 6, 8, 100}"
      ]
     },
     "execution_count": 55,
     "metadata": {},
     "output_type": "execute_result"
    }
   ],
   "source": [
    "s1"
   ]
  },
  {
   "cell_type": "code",
   "execution_count": 56,
   "id": "fc7031ca",
   "metadata": {},
   "outputs": [
    {
     "data": {
      "text/plain": [
       "1742347536864"
      ]
     },
     "execution_count": 56,
     "metadata": {},
     "output_type": "execute_result"
    }
   ],
   "source": [
    "id(s1)"
   ]
  },
  {
   "cell_type": "code",
   "execution_count": 57,
   "id": "81345783",
   "metadata": {},
   "outputs": [
    {
     "ename": "TypeError",
     "evalue": "'set' object doesn't support item deletion",
     "output_type": "error",
     "traceback": [
      "\u001b[1;31m---------------------------------------------------------------------------\u001b[0m",
      "\u001b[1;31mTypeError\u001b[0m                                 Traceback (most recent call last)",
      "Cell \u001b[1;32mIn[57], line 3\u001b[0m\n\u001b[0;32m      1\u001b[0m \u001b[38;5;66;03m#Delete\u001b[39;00m\n\u001b[0;32m      2\u001b[0m \u001b[38;5;66;03m#del/remove/pop\u001b[39;00m\n\u001b[1;32m----> 3\u001b[0m \u001b[38;5;28;01mdel\u001b[39;00m \u001b[43ms1\u001b[49m\u001b[43m[\u001b[49m\u001b[38;5;241;43m0\u001b[39;49m\u001b[43m]\u001b[49m\n",
      "\u001b[1;31mTypeError\u001b[0m: 'set' object doesn't support item deletion"
     ]
    }
   ],
   "source": [
    "#Delete\n",
    "#del/remove/pop\n",
    "del s1[0]"
   ]
  },
  {
   "cell_type": "code",
   "execution_count": 58,
   "id": "a9e5dd63",
   "metadata": {},
   "outputs": [],
   "source": [
    "s1.remove(100)"
   ]
  },
  {
   "cell_type": "code",
   "execution_count": 59,
   "id": "d5304508",
   "metadata": {},
   "outputs": [
    {
     "data": {
      "text/plain": [
       "{2, 3, 4, 6, 8}"
      ]
     },
     "execution_count": 59,
     "metadata": {},
     "output_type": "execute_result"
    }
   ],
   "source": [
    "s1"
   ]
  },
  {
   "cell_type": "code",
   "execution_count": 60,
   "id": "956f0f61",
   "metadata": {},
   "outputs": [
    {
     "data": {
      "text/plain": [
       "2"
      ]
     },
     "execution_count": 60,
     "metadata": {},
     "output_type": "execute_result"
    }
   ],
   "source": [
    "s1.pop()"
   ]
  },
  {
   "cell_type": "code",
   "execution_count": 61,
   "id": "8cc57844",
   "metadata": {},
   "outputs": [
    {
     "data": {
      "text/plain": [
       "{3, 4, 6, 8}"
      ]
     },
     "execution_count": 61,
     "metadata": {},
     "output_type": "execute_result"
    }
   ],
   "source": [
    "s1"
   ]
  },
  {
   "cell_type": "code",
   "execution_count": 62,
   "id": "6cdec57a",
   "metadata": {},
   "outputs": [],
   "source": [
    "# SET OPERATIONS"
   ]
  },
  {
   "cell_type": "code",
   "execution_count": 63,
   "id": "cc753358",
   "metadata": {},
   "outputs": [],
   "source": [
    "s1 = {1,2,3,4}\n",
    "s2 = {3,4,5,6,7}"
   ]
  },
  {
   "cell_type": "code",
   "execution_count": 64,
   "id": "7ce91609",
   "metadata": {},
   "outputs": [],
   "source": [
    "#no concatenation\n",
    "#no multiplication\n"
   ]
  },
  {
   "cell_type": "code",
   "execution_count": 66,
   "id": "30a43942",
   "metadata": {},
   "outputs": [
    {
     "name": "stdout",
     "output_type": "stream",
     "text": [
      "1\n",
      "2\n",
      "3\n",
      "4\n"
     ]
    }
   ],
   "source": [
    "#Looping work\n",
    "for i in s1:\n",
    "    print(i)"
   ]
  },
  {
   "cell_type": "code",
   "execution_count": 67,
   "id": "815b007f",
   "metadata": {},
   "outputs": [
    {
     "data": {
      "text/plain": [
       "True"
      ]
     },
     "execution_count": 67,
     "metadata": {},
     "output_type": "execute_result"
    }
   ],
   "source": [
    "#Membership is available\n",
    "1 in s1"
   ]
  },
  {
   "cell_type": "code",
   "execution_count": 68,
   "id": "55b93200",
   "metadata": {},
   "outputs": [
    {
     "data": {
      "text/plain": [
       "4"
      ]
     },
     "execution_count": 68,
     "metadata": {},
     "output_type": "execute_result"
    }
   ],
   "source": [
    "#functions\n",
    "len(s1)"
   ]
  },
  {
   "cell_type": "code",
   "execution_count": 69,
   "id": "15796902",
   "metadata": {},
   "outputs": [
    {
     "data": {
      "text/plain": [
       "4"
      ]
     },
     "execution_count": 69,
     "metadata": {},
     "output_type": "execute_result"
    }
   ],
   "source": [
    "max(s1)"
   ]
  },
  {
   "cell_type": "code",
   "execution_count": 70,
   "id": "e30f7b72",
   "metadata": {},
   "outputs": [
    {
     "data": {
      "text/plain": [
       "1"
      ]
     },
     "execution_count": 70,
     "metadata": {},
     "output_type": "execute_result"
    }
   ],
   "source": [
    "min(s1)"
   ]
  },
  {
   "cell_type": "code",
   "execution_count": 71,
   "id": "f92accea",
   "metadata": {},
   "outputs": [
    {
     "data": {
      "text/plain": [
       "10"
      ]
     },
     "execution_count": 71,
     "metadata": {},
     "output_type": "execute_result"
    }
   ],
   "source": [
    "sum(s1)"
   ]
  },
  {
   "cell_type": "code",
   "execution_count": 72,
   "id": "6ac99e21",
   "metadata": {},
   "outputs": [
    {
     "data": {
      "text/plain": [
       "[1, 2, 3, 4]"
      ]
     },
     "execution_count": 72,
     "metadata": {},
     "output_type": "execute_result"
    }
   ],
   "source": [
    "sorted(s1)"
   ]
  },
  {
   "cell_type": "code",
   "execution_count": 73,
   "id": "e0da4068",
   "metadata": {},
   "outputs": [
    {
     "data": {
      "text/plain": [
       "[4, 3, 2, 1]"
      ]
     },
     "execution_count": 73,
     "metadata": {},
     "output_type": "execute_result"
    }
   ],
   "source": [
    "sorted(s1,reverse=True)"
   ]
  },
  {
   "cell_type": "code",
   "execution_count": 74,
   "id": "e3b4899b",
   "metadata": {},
   "outputs": [],
   "source": [
    "#functions specific to sets"
   ]
  },
  {
   "cell_type": "code",
   "execution_count": 75,
   "id": "9a25e784",
   "metadata": {},
   "outputs": [
    {
     "data": {
      "text/plain": [
       "{1, 2, 3, 4, 5, 6, 7}"
      ]
     },
     "execution_count": 75,
     "metadata": {},
     "output_type": "execute_result"
    }
   ],
   "source": [
    "#union of sets\n",
    "s1.union(s2)"
   ]
  },
  {
   "cell_type": "code",
   "execution_count": 76,
   "id": "00a3148b",
   "metadata": {},
   "outputs": [
    {
     "data": {
      "text/plain": [
       "{3, 4}"
      ]
     },
     "execution_count": 76,
     "metadata": {},
     "output_type": "execute_result"
    }
   ],
   "source": [
    "s1.intersection(s2) #ntersection of sets"
   ]
  },
  {
   "cell_type": "code",
   "execution_count": 77,
   "id": "dab4ef8b",
   "metadata": {},
   "outputs": [
    {
     "data": {
      "text/plain": [
       "{1, 2}"
      ]
     },
     "execution_count": 77,
     "metadata": {},
     "output_type": "execute_result"
    }
   ],
   "source": [
    "s1.difference(s2)"
   ]
  },
  {
   "cell_type": "code",
   "execution_count": 78,
   "id": "8df942c2",
   "metadata": {},
   "outputs": [
    {
     "data": {
      "text/plain": [
       "{1, 2, 5, 6, 7}"
      ]
     },
     "execution_count": 78,
     "metadata": {},
     "output_type": "execute_result"
    }
   ],
   "source": [
    "s1.symmetric_difference(s2)"
   ]
  },
  {
   "cell_type": "code",
   "execution_count": 79,
   "id": "dbd161e0",
   "metadata": {},
   "outputs": [
    {
     "data": {
      "text/plain": [
       "False"
      ]
     },
     "execution_count": 79,
     "metadata": {},
     "output_type": "execute_result"
    }
   ],
   "source": [
    "s1.isdisjoint(s2)"
   ]
  },
  {
   "cell_type": "code",
   "execution_count": 82,
   "id": "495052f6",
   "metadata": {},
   "outputs": [
    {
     "data": {
      "text/plain": [
       "False"
      ]
     },
     "execution_count": 82,
     "metadata": {},
     "output_type": "execute_result"
    }
   ],
   "source": [
    "s1.issubset(s2)"
   ]
  },
  {
   "cell_type": "code",
   "execution_count": 83,
   "id": "e77377c1",
   "metadata": {},
   "outputs": [
    {
     "data": {
      "text/plain": [
       "False"
      ]
     },
     "execution_count": 83,
     "metadata": {},
     "output_type": "execute_result"
    }
   ],
   "source": [
    "s1.issuperset(s2)"
   ]
  },
  {
   "cell_type": "markdown",
   "id": "a6a20a00",
   "metadata": {},
   "source": [
    "# Dictionary"
   ]
  },
  {
   "cell_type": "code",
   "execution_count": 84,
   "id": "4c0d2ec7",
   "metadata": {},
   "outputs": [
    {
     "data": {
      "text/plain": [
       "{'name': 'Ahmed', 'Gender': 'Male'}"
      ]
     },
     "execution_count": 84,
     "metadata": {},
     "output_type": "execute_result"
    }
   ],
   "source": [
    "{\"name\":\"Ahmed\",\"Gender\":\"Male\"}"
   ]
  },
  {
   "cell_type": "markdown",
   "id": "dc6ab6a3",
   "metadata": {},
   "source": [
    "Rule no 1 : Dict has no indexing <br>\n",
    "Rule no 2: Mutable data type<br>\n",
    "Rule no 3: keys should always be mutable values can be and cnt be mutable<br>\n",
    "Rule no 4: Keys should be unique"
   ]
  },
  {
   "cell_type": "markdown",
   "id": "a8724419",
   "metadata": {},
   "source": [
    "1. Mutable = List/sets/dictionary\n",
    "2. Immutable = string/tuples/boolean/int/float/complex"
   ]
  },
  {
   "cell_type": "code",
   "execution_count": 85,
   "id": "b5d70660",
   "metadata": {},
   "outputs": [],
   "source": [
    "D ={}"
   ]
  },
  {
   "cell_type": "code",
   "execution_count": 86,
   "id": "0f8ae604",
   "metadata": {},
   "outputs": [
    {
     "data": {
      "text/plain": [
       "{}"
      ]
     },
     "execution_count": 86,
     "metadata": {},
     "output_type": "execute_result"
    }
   ],
   "source": [
    "D"
   ]
  },
  {
   "cell_type": "code",
   "execution_count": 87,
   "id": "136cb04b",
   "metadata": {},
   "outputs": [],
   "source": [
    "D1 = {\"name\":\"Ahmed\",\"Gender\":\"Male\"}"
   ]
  },
  {
   "cell_type": "code",
   "execution_count": 88,
   "id": "d9f86981",
   "metadata": {},
   "outputs": [
    {
     "data": {
      "text/plain": [
       "{'name': 'Ahmed', 'Gender': 'Male'}"
      ]
     },
     "execution_count": 88,
     "metadata": {},
     "output_type": "execute_result"
    }
   ],
   "source": [
    "D1"
   ]
  },
  {
   "cell_type": "code",
   "execution_count": 89,
   "id": "9271d5ea",
   "metadata": {},
   "outputs": [
    {
     "ename": "TypeError",
     "evalue": "unhashable type: 'list'",
     "output_type": "error",
     "traceback": [
      "\u001b[1;31m---------------------------------------------------------------------------\u001b[0m",
      "\u001b[1;31mTypeError\u001b[0m                                 Traceback (most recent call last)",
      "Cell \u001b[1;32mIn[89], line 1\u001b[0m\n\u001b[1;32m----> 1\u001b[0m D2 \u001b[38;5;241m=\u001b[39m {[\u001b[38;5;241m1\u001b[39m,\u001b[38;5;241m2\u001b[39m,\u001b[38;5;241m3\u001b[39m],\u001b[38;5;124m\"\u001b[39m\u001b[38;5;124mAhmed\u001b[39m\u001b[38;5;124m\"\u001b[39m}\n",
      "\u001b[1;31mTypeError\u001b[0m: unhashable type: 'list'"
     ]
    }
   ],
   "source": [
    "D2 = {[1,2,3],\"Ahmed\"}"
   ]
  },
  {
   "cell_type": "code",
   "execution_count": 90,
   "id": "38518b60",
   "metadata": {},
   "outputs": [],
   "source": [
    "D2 = {(1,2,3),\"Ahmed\"}"
   ]
  },
  {
   "cell_type": "code",
   "execution_count": 91,
   "id": "2eaf3b7f",
   "metadata": {},
   "outputs": [
    {
     "data": {
      "text/plain": [
       "{(1, 2, 3), 'Ahmed'}"
      ]
     },
     "execution_count": 91,
     "metadata": {},
     "output_type": "execute_result"
    }
   ],
   "source": [
    "D2"
   ]
  },
  {
   "cell_type": "code",
   "execution_count": 92,
   "id": "9a6948ab",
   "metadata": {},
   "outputs": [],
   "source": [
    "#no same keys\n",
    "D3 = {\"name\":\"ahmed\",\"name\":\"Ali\"}"
   ]
  },
  {
   "cell_type": "code",
   "execution_count": 94,
   "id": "24a49d27",
   "metadata": {},
   "outputs": [
    {
     "data": {
      "text/plain": [
       "{'name': 'Ali'}"
      ]
     },
     "execution_count": 94,
     "metadata": {},
     "output_type": "execute_result"
    }
   ],
   "source": [
    "D3"
   ]
  },
  {
   "cell_type": "code",
   "execution_count": 95,
   "id": "40eab787",
   "metadata": {},
   "outputs": [],
   "source": [
    "# 2D Dictionary\n",
    "D4 = {\"name\":\"Ahmed\",\"University\":\"UOK\",\"Marks\":{\"Math\":56,\"English\":\"76\"}}"
   ]
  },
  {
   "cell_type": "code",
   "execution_count": 96,
   "id": "a92d3827",
   "metadata": {},
   "outputs": [
    {
     "data": {
      "text/plain": [
       "{'name': 'Ahmed', 'University': 'UOK', 'Marks': {'Math': 56, 'English': '76'}}"
      ]
     },
     "execution_count": 96,
     "metadata": {},
     "output_type": "execute_result"
    }
   ],
   "source": [
    "D4"
   ]
  },
  {
   "cell_type": "code",
   "execution_count": 98,
   "id": "6e70a581",
   "metadata": {},
   "outputs": [
    {
     "data": {
      "text/plain": [
       "'Ahmed'"
      ]
     },
     "execution_count": 98,
     "metadata": {},
     "output_type": "execute_result"
    }
   ],
   "source": [
    "# Dict has no indexing\n",
    "D4['name']"
   ]
  },
  {
   "cell_type": "code",
   "execution_count": 99,
   "id": "7f8a7204",
   "metadata": {},
   "outputs": [
    {
     "data": {
      "text/plain": [
       "{'Math': 56, 'English': '76'}"
      ]
     },
     "execution_count": 99,
     "metadata": {},
     "output_type": "execute_result"
    }
   ],
   "source": [
    "#How to access 2D\n",
    "D4['Marks']"
   ]
  },
  {
   "cell_type": "code",
   "execution_count": 100,
   "id": "fd6f61bb",
   "metadata": {},
   "outputs": [
    {
     "data": {
      "text/plain": [
       "56"
      ]
     },
     "execution_count": 100,
     "metadata": {},
     "output_type": "execute_result"
    }
   ],
   "source": [
    "D4['Marks']['Math']"
   ]
  },
  {
   "cell_type": "code",
   "execution_count": 101,
   "id": "b8ec6d22",
   "metadata": {},
   "outputs": [],
   "source": [
    "#How to edit\n",
    "D4['name']=\"Raja\""
   ]
  },
  {
   "cell_type": "code",
   "execution_count": 102,
   "id": "fc370b5c",
   "metadata": {},
   "outputs": [
    {
     "data": {
      "text/plain": [
       "{'name': 'Raja', 'University': 'UOK', 'Marks': {'Math': 56, 'English': '76'}}"
      ]
     },
     "execution_count": 102,
     "metadata": {},
     "output_type": "execute_result"
    }
   ],
   "source": [
    "D4"
   ]
  },
  {
   "cell_type": "code",
   "execution_count": 107,
   "id": "8e67f597",
   "metadata": {},
   "outputs": [],
   "source": [
    "D4['Marks']['Math']=87"
   ]
  },
  {
   "cell_type": "code",
   "execution_count": 108,
   "id": "bb79fda7",
   "metadata": {},
   "outputs": [
    {
     "data": {
      "text/plain": [
       "{'name': 'Raja',\n",
       " 'University': 'UOK',\n",
       " 'Marks': {'Math': 87, 'English': '76', 'Maths': 87}}"
      ]
     },
     "execution_count": 108,
     "metadata": {},
     "output_type": "execute_result"
    }
   ],
   "source": [
    "D4"
   ]
  },
  {
   "cell_type": "code",
   "execution_count": 109,
   "id": "667836f0",
   "metadata": {},
   "outputs": [
    {
     "data": {
      "text/plain": [
       "{'Math': 87, 'English': '76', 'Maths': 87}"
      ]
     },
     "execution_count": 109,
     "metadata": {},
     "output_type": "execute_result"
    }
   ],
   "source": [
    "D4.get('Marks')"
   ]
  },
  {
   "cell_type": "code",
   "execution_count": 110,
   "id": "8e25682c",
   "metadata": {},
   "outputs": [],
   "source": [
    "#Add new key values pairs\n",
    "D4['age']=22"
   ]
  },
  {
   "cell_type": "code",
   "execution_count": 111,
   "id": "44f0925a",
   "metadata": {},
   "outputs": [
    {
     "data": {
      "text/plain": [
       "{'name': 'Raja',\n",
       " 'University': 'UOK',\n",
       " 'Marks': {'Math': 87, 'English': '76', 'Maths': 87},\n",
       " 'age': 22}"
      ]
     },
     "execution_count": 111,
     "metadata": {},
     "output_type": "execute_result"
    }
   ],
   "source": [
    "D4"
   ]
  },
  {
   "cell_type": "code",
   "execution_count": 112,
   "id": "7c5c6a66",
   "metadata": {},
   "outputs": [],
   "source": [
    "D4['Marks']['Data science']=98"
   ]
  },
  {
   "cell_type": "code",
   "execution_count": 113,
   "id": "ff9dc5a4",
   "metadata": {},
   "outputs": [
    {
     "data": {
      "text/plain": [
       "{'name': 'Raja',\n",
       " 'University': 'UOK',\n",
       " 'Marks': {'Math': 87, 'English': '76', 'Maths': 87, 'Data science': 98},\n",
       " 'age': 22}"
      ]
     },
     "execution_count": 113,
     "metadata": {},
     "output_type": "execute_result"
    }
   ],
   "source": [
    "D4"
   ]
  },
  {
   "cell_type": "code",
   "execution_count": 114,
   "id": "c7d9160f",
   "metadata": {},
   "outputs": [],
   "source": [
    "#How to delete"
   ]
  },
  {
   "cell_type": "code",
   "execution_count": 115,
   "id": "f08f6c49",
   "metadata": {},
   "outputs": [
    {
     "data": {
      "text/plain": [
       "{'name': 'Raja',\n",
       " 'University': 'UOK',\n",
       " 'Marks': {'Math': 87, 'English': '76', 'Maths': 87, 'Data science': 98},\n",
       " 'age': 22}"
      ]
     },
     "execution_count": 115,
     "metadata": {},
     "output_type": "execute_result"
    }
   ],
   "source": [
    "D4"
   ]
  },
  {
   "cell_type": "code",
   "execution_count": 120,
   "id": "9d8ffaf5",
   "metadata": {},
   "outputs": [],
   "source": [
    "del D4['name']"
   ]
  },
  {
   "cell_type": "code",
   "execution_count": 121,
   "id": "2aedad89",
   "metadata": {},
   "outputs": [
    {
     "data": {
      "text/plain": [
       "{'University': 'UOK',\n",
       " 'Marks': {'Math': 87, 'English': '76', 'Maths': 87, 'Data science': 98}}"
      ]
     },
     "execution_count": 121,
     "metadata": {},
     "output_type": "execute_result"
    }
   ],
   "source": [
    "D4"
   ]
  },
  {
   "cell_type": "code",
   "execution_count": 122,
   "id": "75c9f9d6",
   "metadata": {},
   "outputs": [],
   "source": [
    "#Operations"
   ]
  },
  {
   "cell_type": "code",
   "execution_count": 123,
   "id": "e71240db",
   "metadata": {},
   "outputs": [
    {
     "data": {
      "text/plain": [
       "{'University': 'UOK',\n",
       " 'Marks': {'Math': 87, 'English': '76', 'Maths': 87, 'Data science': 98}}"
      ]
     },
     "execution_count": 123,
     "metadata": {},
     "output_type": "execute_result"
    }
   ],
   "source": [
    "D4"
   ]
  },
  {
   "cell_type": "code",
   "execution_count": 124,
   "id": "f087ba87",
   "metadata": {},
   "outputs": [],
   "source": [
    "#no concatenation\n",
    "#no multiplication\n"
   ]
  },
  {
   "cell_type": "code",
   "execution_count": 125,
   "id": "f03fc766",
   "metadata": {},
   "outputs": [
    {
     "name": "stdout",
     "output_type": "stream",
     "text": [
      "University\n",
      "Marks\n"
     ]
    }
   ],
   "source": [
    "#Loop works\n",
    "for i in D4:\n",
    "    print(i)"
   ]
  },
  {
   "cell_type": "code",
   "execution_count": 126,
   "id": "7eb18f9e",
   "metadata": {},
   "outputs": [
    {
     "name": "stdout",
     "output_type": "stream",
     "text": [
      "University UOK\n",
      "Marks {'Math': 87, 'English': '76', 'Maths': 87, 'Data science': 98}\n"
     ]
    }
   ],
   "source": [
    "for i in D4:\n",
    "    print(i,D4[i])"
   ]
  },
  {
   "cell_type": "code",
   "execution_count": 127,
   "id": "59a1e57d",
   "metadata": {},
   "outputs": [
    {
     "data": {
      "text/plain": [
       "False"
      ]
     },
     "execution_count": 127,
     "metadata": {},
     "output_type": "execute_result"
    }
   ],
   "source": [
    "\"UOK\" in D4"
   ]
  },
  {
   "cell_type": "code",
   "execution_count": 128,
   "id": "0fbe076d",
   "metadata": {},
   "outputs": [
    {
     "data": {
      "text/plain": [
       "True"
      ]
     },
     "execution_count": 128,
     "metadata": {},
     "output_type": "execute_result"
    }
   ],
   "source": [
    "\"University\" in D4"
   ]
  },
  {
   "cell_type": "code",
   "execution_count": 129,
   "id": "ad1703c6",
   "metadata": {},
   "outputs": [],
   "source": [
    "#Functions "
   ]
  },
  {
   "cell_type": "code",
   "execution_count": 130,
   "id": "4edb5516",
   "metadata": {},
   "outputs": [
    {
     "data": {
      "text/plain": [
       "2"
      ]
     },
     "execution_count": 130,
     "metadata": {},
     "output_type": "execute_result"
    }
   ],
   "source": [
    "len(D4)"
   ]
  },
  {
   "cell_type": "code",
   "execution_count": 131,
   "id": "68945c68",
   "metadata": {},
   "outputs": [
    {
     "data": {
      "text/plain": [
       "'Marks'"
      ]
     },
     "execution_count": 131,
     "metadata": {},
     "output_type": "execute_result"
    }
   ],
   "source": [
    "min(D4)"
   ]
  },
  {
   "cell_type": "code",
   "execution_count": 132,
   "id": "916213b9",
   "metadata": {},
   "outputs": [
    {
     "data": {
      "text/plain": [
       "'University'"
      ]
     },
     "execution_count": 132,
     "metadata": {},
     "output_type": "execute_result"
    }
   ],
   "source": [
    "max(D4)"
   ]
  },
  {
   "cell_type": "code",
   "execution_count": 133,
   "id": "0b4eb0fd",
   "metadata": {},
   "outputs": [],
   "source": [
    "#sum will not work on this"
   ]
  },
  {
   "cell_type": "code",
   "execution_count": 134,
   "id": "47124703",
   "metadata": {},
   "outputs": [
    {
     "data": {
      "text/plain": [
       "['Marks', 'University']"
      ]
     },
     "execution_count": 134,
     "metadata": {},
     "output_type": "execute_result"
    }
   ],
   "source": [
    "#sorted\n",
    "sorted(D4)"
   ]
  },
  {
   "cell_type": "code",
   "execution_count": 135,
   "id": "fd876841",
   "metadata": {},
   "outputs": [
    {
     "data": {
      "text/plain": [
       "dict_keys(['University', 'Marks'])"
      ]
     },
     "execution_count": 135,
     "metadata": {},
     "output_type": "execute_result"
    }
   ],
   "source": [
    "#\\to get all keys\n",
    "D4.keys()"
   ]
  },
  {
   "cell_type": "code",
   "execution_count": 137,
   "id": "39df0145",
   "metadata": {},
   "outputs": [
    {
     "data": {
      "text/plain": [
       "dict_values(['UOK', {'Math': 87, 'English': '76', 'Maths': 87, 'Data science': 98}])"
      ]
     },
     "execution_count": 137,
     "metadata": {},
     "output_type": "execute_result"
    }
   ],
   "source": [
    "#to get all keys\n",
    "D4.values()"
   ]
  }
 ],
 "metadata": {
  "kernelspec": {
   "display_name": "Python 3 (ipykernel)",
   "language": "python",
   "name": "python3"
  },
  "language_info": {
   "codemirror_mode": {
    "name": "ipython",
    "version": 3
   },
   "file_extension": ".py",
   "mimetype": "text/x-python",
   "name": "python",
   "nbconvert_exporter": "python",
   "pygments_lexer": "ipython3",
   "version": "3.11.5"
  }
 },
 "nbformat": 4,
 "nbformat_minor": 5
}
